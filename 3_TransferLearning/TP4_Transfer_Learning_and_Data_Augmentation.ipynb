{
 "cells": [
  {
   "cell_type": "markdown",
   "metadata": {
    "cell_ktag": "SHowXhU9/Pzp",
    "id": "4jVkOWmgFT1p"
   },
   "source": [
    "# **Practical session on Transfer Learning**\n",
    "This Pratical session proposes to study several techniques for improving challenging context, in which few data and resources are available."
   ]
  },
  {
   "cell_type": "markdown",
   "metadata": {
    "cell_ktag": "SHowXhU9/Pzp",
    "id": "QLKnIngy_2hg"
   },
   "source": [
    "# Introduction\n",
    "\n",
    "**Context :**\n",
    "\n",
    "Assume we are in a context where few \"gold\" labeled data are available for training, say \n",
    "\n",
    "$$\\mathcal{X}_{\\text{train}} = \\{(x_n,y_n)\\}_{n\\leq N_{\\text{train}}}$$\n",
    "\n",
    "where $N_{\\text{train}}$ is small. \n",
    "\n",
    "A large test set $\\mathcal{X}_{\\text{test}}$ as well as a large amount of unlabeled data, $\\mathcal{X}$, is available. We also assume that we have a limited computational budget (e.g., no GPUs).\n",
    "\n",
    "**Instructions to follow :** \n",
    "\n",
    "For each question, write a commented *Code* or a complete answer as a *Markdown*. When the objective of a question is to report a CNN accuracy, please use the following format to report it, at the end of the question :\n",
    "\n",
    "| Model | Number of  epochs  | Train accuracy | Test accuracy |\n",
    "|------|------|------|------|\n",
    "|   XXX  | XXX | XXX | XXX |\n",
    "\n",
    "If applicable, please add the field corresponding to the  __Accuracy on Full Data__ as well as a link to the __Reference paper__ you used to report those numbers. (You do not need to train a CNN on the full CIFAR10 dataset!)\n",
    "\n",
    "In your final report, please *keep the logs of each training procedure* you used. We will only run this jupyter if we have some doubts on your implementation. \n",
    "\n",
    "The total file sizes should be reasonable (feasible with 2MB only!). You will be asked to hand in the notebook, together with any necessary files required to run it if any.\n",
    "\n",
    "You can use https://colab.research.google.com/ to run your experiments."
   ]
  },
  {
   "cell_type": "markdown",
   "metadata": {
    "cell_ktag": "SHowXhU9/Pzp",
    "id": "YmTCQPSh_2hg"
   },
   "source": [
    "## Training set creation\n",
    "__Question 1 (1 points) :__ Propose a dataloader to obtain a training loader that will only use the first 100 samples of the CIFAR-10 training set.\n",
    "\n",
    "Additional information :  \n",
    "\n",
    "*   CIFAR10 dataset : https://en.wikipedia.org/wiki/CIFAR-10\n",
    "*   You can directly use the dataloader framework from Pytorch.\n",
    "*   Alternatively you can modify the file : https://github.com/pytorch/vision/blob/master/torchvision/datasets/cifar.py"
   ]
  },
  {
   "cell_type": "code",
   "execution_count": 2,
   "metadata": {
    "cell_ktag": "SHowXhU9/Pzp",
    "id": "uZkC5IxR_2hh"
   },
   "outputs": [
    {
     "name": "stdout",
     "output_type": "stream",
     "text": [
      "Downloading https://www.cs.toronto.edu/~kriz/cifar-10-python.tar.gz to c:\\Users\\terve\\Documents\\Info\\S2 MVA\\DL in Practice\\TPs\\practical-deep-learning\\3_TransferLearning\\cifar-10-python.tar.gz\n"
     ]
    },
    {
     "name": "stderr",
     "output_type": "stream",
     "text": [
      "100.0%\n"
     ]
    },
    {
     "name": "stdout",
     "output_type": "stream",
     "text": [
      "Extracting c:\\Users\\terve\\Documents\\Info\\S2 MVA\\DL in Practice\\TPs\\practical-deep-learning\\3_TransferLearning\\cifar-10-python.tar.gz to c:\\Users\\terve\\Documents\\Info\\S2 MVA\\DL in Practice\\TPs\\practical-deep-learning\\3_TransferLearning\n",
      "Trainset length: 50000\n",
      "len(trainset): 100\n"
     ]
    }
   ],
   "source": [
    "import torch\n",
    "import torchvision\n",
    "from torchvision.datasets import CIFAR10\n",
    "from pathlib import Path\n",
    "import os\n",
    "\n",
    "########################################################\n",
    "#CAREFUL: modify the data directory to store heavy files\n",
    "# data_directory = Path(\"/Data/basile-terver/data/DLinPractice\")\n",
    "data_directory = os.getcwd()\n",
    "##########################################################\n",
    "batchsize = 1\n",
    "\n",
    "trainset = CIFAR10(root=data_directory, train=True, download=True)#transform=transform_train\n",
    "n = len(trainset)\n",
    "print(f\"Trainset length: {n}\")\n",
    "trainset = torch.utils.data.Subset(trainset, range(100))\n",
    "print(f\"len(trainset): {len(trainset)}\")\n",
    "trainloader = torch.utils.data.DataLoader(trainset, batch_size=batchsize, shuffle=True, num_workers=2)"
   ]
  },
  {
   "cell_type": "markdown",
   "metadata": {
    "cell_ktag": "SHowXhU9/Pzp",
    "id": "fUno1nmu_2hh"
   },
   "source": [
    "* This is our dataset $\\mathcal{X}_{\\text{train}}$, it will be used until the end of this project. \n",
    "\n",
    "* The remaining samples correspond to $\\mathcal{X}$. \n",
    "\n",
    "* The testing set $\\mathcal{X}_{\\text{test}}$ corresponds to the whole testing set of CIFAR-10."
   ]
  },
  {
   "cell_type": "markdown",
   "metadata": {
    "cell_ktag": "SHowXhU9/Pzp",
    "id": "Vr0d4o5L_2hi"
   },
   "source": [
    "## Testing procedure\n",
    "__Question 2 (0.5 points):__ Explain why the evaluation of the training procedure is difficult. Propose several solutions."
   ]
  },
  {
   "cell_type": "markdown",
   "metadata": {
    "cell_ktag": "SHowXhU9/Pzp",
    "id": "ppiTrnpd_2hi"
   },
   "source": []
  },
  {
   "cell_type": "markdown",
   "metadata": {
    "cell_ktag": "SHowXhU9/Pzp",
    "id": "OEaIwILB_2hi"
   },
   "source": [
    "# The Baseline"
   ]
  },
  {
   "cell_type": "markdown",
   "metadata": {
    "cell_ktag": "SHowXhU9/Pzp",
    "id": "M-PQZ2Vl_2hi"
   },
   "source": [
    "In this section, the goal is to train a CNN on $\\mathcal{X}_{\\text{train}}$ and compare its performance with reported numbers from the litterature. You will have to re-use and/or design a standard classification pipeline. You should optimize your pipeline to obtain the best performances (image size, data augmentation by flip, ...).\n",
    "\n",
    "The key ingredients for training a CNN are the batch size, as well as the learning rate scheduler (i.e. how to decrease the learning rate as a function of the number of epochs). A possible scheduler is to start the learning rate at 0.1 and decreasing it every 30 epochs by 10. In case of divergence, reduce the learning rate. A potential batch size could be 10, yet this can be cross-validated.\n",
    "\n",
    "You can get some baselines accuracies in this paper (obviously, it is a different context for those researchers who had access to GPUs!) : http://openaccess.thecvf.com/content_cvpr_2018/papers/Keshari_Learning_Structure_and_CVPR_2018_paper.pdf. "
   ]
  },
  {
   "cell_type": "markdown",
   "metadata": {
    "cell_ktag": "SHowXhU9/Pzp",
    "id": "ARHWPXrY_2hi"
   },
   "source": [
    "## ResNet architectures"
   ]
  },
  {
   "cell_type": "markdown",
   "metadata": {
    "cell_ktag": "SHowXhU9/Pzp",
    "id": "voMbGoNw_2hj"
   },
   "source": [
    "__Question 3 (2 points) :__ Write a classification pipeline for $\\mathcal{X}_{\\text{train}}$, train from scratch and evaluate a *ResNet-18* architecture specific to CIFAR10 (details about the ImageNet model can be found here: https://arxiv.org/abs/1512.03385). Please report the accuracy obtained on the whole dataset as well as the reference paper/GitHub link.\n",
    "\n",
    "*Hint :* You can re-use the following code : https://github.com/kuangliu/pytorch-cifar. During a training of 10 epochs, a batch size of 10 and a learning rate of 0.01, one obtains 40% accuracy on $\\mathcal{X}_{\\text{train}}$ (\\~2 minutes) and 20% accuracy on $\\mathcal{X}_{\\text{test}}$ (\\~5 minutes)."
   ]
  },
  {
   "cell_type": "code",
   "execution_count": null,
   "metadata": {
    "cell_ktag": "SHowXhU9/Pzp",
    "id": "RVHhKmWN_2hj"
   },
   "outputs": [],
   "source": []
  },
  {
   "cell_type": "markdown",
   "metadata": {
    "cell_ktag": "SHowXhU9/Pzp",
    "id": "-C3mHqCk_2hj"
   },
   "source": [
    "# Transfer learning"
   ]
  },
  {
   "cell_type": "markdown",
   "metadata": {
    "cell_ktag": "SHowXhU9/Pzp",
    "id": "8Tn9pW14_2hj"
   },
   "source": [
    "We propose to use pre-trained models on a classification and generative task, in order to improve the results of our setting."
   ]
  },
  {
   "cell_type": "markdown",
   "metadata": {
    "cell_ktag": "SHowXhU9/Pzp",
    "id": "z8g_3ZDi_2hj"
   },
   "source": [
    "## ImageNet features"
   ]
  },
  {
   "cell_type": "markdown",
   "metadata": {
    "cell_ktag": "SHowXhU9/Pzp",
    "id": "PfYEhdFb_2hj"
   },
   "source": [
    "Now, we will use some pre-trained models on ImageNet and see how well they compare on CIFAR. A list is available on : https://pytorch.org/vision/stable/models.html.\n",
    "\n",
    "__Question 4 (1 points):__ Pick a model from the list above, adapt it for CIFAR10 and retrain its final layer (or a block of layers, depending on the resources to which you have access to). Report its accuracy."
   ]
  },
  {
   "cell_type": "code",
   "execution_count": null,
   "metadata": {
    "cell_ktag": "SHowXhU9/Pzp",
    "collapsed": true,
    "id": "i_lh4xje_2hk"
   },
   "outputs": [],
   "source": []
  },
  {
   "cell_type": "markdown",
   "metadata": {
    "cell_ktag": "SHowXhU9/Pzp",
    "id": "SvkuMzLs_2hk"
   },
   "source": [
    "# Incorporating *a priori*\n",
    "Geometrical *a priori* are appealing for image classification tasks, though one might have to handle several boundary effects.\n",
    "\n",
    "__Question 5 (0.5 points) :__ Explain the issues when dealing with translations, rotations, scaling effects, color changes on $32\\times32$ images. Propose several ideas to tackle them."
   ]
  },
  {
   "cell_type": "markdown",
   "metadata": {
    "cell_ktag": "SHowXhU9/Pzp",
    "id": "TIaY60o1_2hk"
   },
   "source": []
  },
  {
   "cell_type": "markdown",
   "metadata": {
    "cell_ktag": "SHowXhU9/Pzp",
    "id": "ds6e6teG_2hk"
   },
   "source": [
    "## Data augmentations"
   ]
  },
  {
   "cell_type": "markdown",
   "metadata": {
    "cell_ktag": "SHowXhU9/Pzp",
    "id": "-Ek5wlOo_2hk"
   },
   "source": [
    "__Question 6 (4 points):__ Propose a set of geometric transformation beyond translation, and incorporate them in your training pipeline. Train the model of the __Question 3__ with them and report the accuracies."
   ]
  },
  {
   "cell_type": "code",
   "execution_count": null,
   "metadata": {
    "cell_ktag": "SHowXhU9/Pzp",
    "collapsed": true,
    "id": "FqCjrXGk_2hk"
   },
   "outputs": [],
   "source": []
  },
  {
   "cell_type": "markdown",
   "metadata": {
    "cell_ktag": "SHowXhU9/Pzp",
    "id": "HRUA5I8N_2hk"
   },
   "source": [
    "# Conclusions"
   ]
  },
  {
   "cell_type": "markdown",
   "metadata": {
    "cell_ktag": "SHowXhU9/Pzp",
    "id": "RmyiWAPJ_2hl"
   },
   "source": [
    "__Question 7 (3 points) :__ Write a short report explaining the pros and the cons of each method that you implemented. 25% of the grade of this project will correspond to this question, thus, it should be done carefully. In particular, please add a plot that will summarize all your numerical results."
   ]
  },
  {
   "cell_type": "markdown",
   "metadata": {
    "cell_ktag": "SHowXhU9/Pzp",
    "id": "zJ-v4Nev_2hl"
   },
   "source": []
  },
  {
   "cell_type": "markdown",
   "metadata": {
    "cell_ktag": "SHowXhU9/Pzp",
    "id": "sAGp7ddN_2hl"
   },
   "source": [
    "# Weak supervision"
   ]
  },
  {
   "cell_type": "markdown",
   "metadata": {
    "cell_ktag": "SHowXhU9/Pzp",
    "id": "wHQRLbC3_2hl"
   },
   "source": [
    "__Bonus \\[open\\] question (up to 3 points) :__ Pick a weakly supervised method that will potentially use $\\mathcal{X}\\cup\\mathcal{X}_{\\text{train}}$ to train a representation (a subset of $\\mathcal{X}$ is also fine). Evaluate it and report the accuracies. You should be careful in the choice of your method, in order to avoid heavy computational effort."
   ]
  },
  {
   "cell_type": "markdown",
   "metadata": {
    "cell_ktag": "SHowXhU9/Pzp",
    "id": "rbjhfIvN_2hl"
   },
   "source": []
  }
 ],
 "metadata": {
  "colab": {
   "provenance": []
  },
  "kernelspec": {
   "display_name": "Python 3 (ipykernel)",
   "language": "python",
   "name": "python3"
  },
  "kfiletag": "SHowXhU9/Pzp",
  "language_info": {
   "codemirror_mode": {
    "name": "ipython",
    "version": 3
   },
   "file_extension": ".py",
   "mimetype": "text/x-python",
   "name": "python",
   "nbconvert_exporter": "python",
   "pygments_lexer": "ipython3",
   "version": "3.10.11"
  }
 },
 "nbformat": 4,
 "nbformat_minor": 1
}
