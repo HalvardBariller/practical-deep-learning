{
 "cells": [
  {
   "cell_type": "markdown",
   "metadata": {
    "cell_ktag": "GUk74Ejgac/t",
    "id": "4jVkOWmgFT1p"
   },
   "source": [
    "# **Practical session on Transfer Learning**\n",
    "This Pratical session proposes to study several techniques for improving challenging context, in which few data and resources are available."
   ]
  },
  {
   "cell_type": "code",
   "execution_count": 1,
   "metadata": {},
   "outputs": [],
   "source": [
    "import matplotlib.pyplot as plt\n",
    "import numpy as np\n",
    "\n",
    "import torch\n",
    "import torch.nn as nn\n",
    "import torch.nn.functional as F\n",
    "import torch.optim as optim\n",
    "import torchvision\n",
    "import torchvision.transforms as transforms\n",
    "\n",
    "from tqdm import tqdm"
   ]
  },
  {
   "cell_type": "markdown",
   "metadata": {
    "cell_ktag": "GUk74Ejgac/t",
    "id": "QLKnIngy_2hg"
   },
   "source": [
    "# Introduction\n",
    "\n",
    "**Context :**\n",
    "\n",
    "Assume we are in a context where few \"gold\" labeled data are available for training, say \n",
    "\n",
    "$$\\mathcal{X}_{\\text{train}} = \\{(x_n,y_n)\\}_{n\\leq N_{\\text{train}}}$$\n",
    "\n",
    "where $N_{\\text{train}}$ is small. \n",
    "\n",
    "A large test set $\\mathcal{X}_{\\text{test}}$ as well as a large amount of unlabeled data, $\\mathcal{X}$, is available. We also assume that we have a limited computational budget (e.g., no GPUs).\n",
    "\n",
    "**Instructions to follow :** \n",
    "\n",
    "For each question, write a commented *Code* or a complete answer as a *Markdown*. When the objective of a question is to report a CNN accuracy, please use the following format to report it, at the end of the question :\n",
    "\n",
    "| Model | Number of  epochs  | Train accuracy | Test accuracy |\n",
    "|------|------|------|------|\n",
    "|   XXX  | XXX | XXX | XXX |\n",
    "\n",
    "If applicable, please add the field corresponding to the  __Accuracy on Full Data__ as well as a link to the __Reference paper__ you used to report those numbers. (You do not need to train a CNN on the full CIFAR10 dataset!)\n",
    "\n",
    "In your final report, please *keep the logs of each training procedure* you used. We will only run this jupyter if we have some doubts on your implementation. \n",
    "\n",
    "The total file sizes should be reasonable (feasible with 2MB only!). You will be asked to hand in the notebook, together with any necessary files required to run it if any.\n",
    "\n",
    "You can use https://colab.research.google.com/ to run your experiments."
   ]
  },
  {
   "cell_type": "markdown",
   "metadata": {
    "cell_ktag": "GUk74Ejgac/t",
    "id": "YmTCQPSh_2hg"
   },
   "source": [
    "## Training set creation\n",
    "__Question 1 (1 points) :__ Propose a dataloader to obtain a training loader that will only use the first 100 samples of the CIFAR-10 training set.\n",
    "\n",
    "Additional information :  \n",
    "\n",
    "*   CIFAR10 dataset : https://en.wikipedia.org/wiki/CIFAR-10\n",
    "*   You can directly use the dataloader framework from Pytorch.\n",
    "*   Alternatively you can modify the file : https://github.com/pytorch/vision/blob/master/torchvision/datasets/cifar.py"
   ]
  },
  {
   "cell_type": "code",
   "execution_count": 3,
   "metadata": {
    "cell_ktag": "GUk74Ejgac/t",
    "id": "uZkC5IxR_2hh"
   },
   "outputs": [
    {
     "name": "stdout",
     "output_type": "stream",
     "text": [
      "Files already downloaded and verified\n",
      "Files already downloaded and verified\n"
     ]
    }
   ],
   "source": [
    "# Load training dataset\n",
    "train_dataset = torchvision.datasets.CIFAR10(root=\"\\content\", train=True, download=True, transform=transforms.ToTensor())\n",
    "train_subset = torch.utils.data.Subset(train_dataset, indices=range(100)) \n",
    "train_loader = torch.utils.data.DataLoader(train_subset)\n",
    "\n",
    "# Load test dataset\n",
    "test_dataset = torchvision.datasets.CIFAR10(root=\"\\content\", train=False, download=True, transform=transforms.ToTensor())\n",
    "test_loader = torch.utils.data.DataLoader(test_dataset)"
   ]
  },
  {
   "cell_type": "markdown",
   "metadata": {
    "cell_ktag": "GUk74Ejgac/t",
    "id": "fUno1nmu_2hh"
   },
   "source": [
    "* This is our dataset $\\mathcal{X}_{\\text{train}}$, it will be used until the end of this project. \n",
    "\n",
    "* The remaining samples correspond to $\\mathcal{X}$. \n",
    "\n",
    "* The testing set $\\mathcal{X}_{\\text{test}}$ corresponds to the whole testing set of CIFAR-10."
   ]
  },
  {
   "cell_type": "markdown",
   "metadata": {
    "cell_ktag": "GUk74Ejgac/t",
    "id": "Vr0d4o5L_2hi"
   },
   "source": [
    "## Testing procedure\n",
    "__Question 2 (0.5 points):__ Explain why the evaluation of the training procedure is difficult. Propose several solutions."
   ]
  },
  {
   "cell_type": "markdown",
   "metadata": {
    "cell_ktag": "GUk74Ejgac/t",
    "id": "ppiTrnpd_2hi"
   },
   "source": [
    "Evaluating the training procedure is difficult because of::\n",
    "\n",
    "Small Size of Training Dataset:\n",
    "Selecting only 100 samples from a larger set of 50,000 poses a challenge in maintaining a balanced representation across classes in the CIFAR-10 dataset. This limitation might result in certain classes being underrepresented, which could skew the model's learning process. A balanced representation of classes is essential to avoid biasing the model towards certain classes while neglecting others.\n",
    "\n",
    "To counteract this, a strategic approach to sample selection is crucial, aiming to ensure that the selected samples fairly represent the diversity of classes within the CIFAR-10 dataset. Employing resampling strategies such as downsampling or oversampling can help address imbalances in class representation. Tools like RandomUnderSampler and RandomOverSampler, from the imbalanced-learn library, offer practical solutions to adjust the dataset composition for a more balanced training approach.\n",
    "\n",
    "Risk of Overfitting:\n",
    "The limited size of the dataset increases the risk of overfitting, where the model learns the specifics of the training data too closely and fails to generalize to new data. This could degrade the model's performance when encountering the test dataset, as it may not effectively apply learned patterns to unseen data.\n",
    "\n",
    "Implementing data augmentation strategies can artificially enlarge the training dataset through transformations such as rotations, scalings, and flips on existing samples, introducing variability and promoting a more generalized learning process. Furthermore, incorporating weak supervision methods can enhance the labeled dataset. Techniques like semi-supervised and self-supervised learning leverage unlabeled data to expand the training set, potentially improving model outcomes. By progressively labeling portions of the unlabeled data and integrating them into the training phase, the model's exposure is broadened, helping to overcome the constraints of a limited dataset."
   ]
  },
  {
   "cell_type": "markdown",
   "metadata": {
    "cell_ktag": "GUk74Ejgac/t",
    "id": "OEaIwILB_2hi"
   },
   "source": [
    "# The Baseline"
   ]
  },
  {
   "cell_type": "markdown",
   "metadata": {
    "cell_ktag": "GUk74Ejgac/t",
    "id": "M-PQZ2Vl_2hi"
   },
   "source": [
    "In this section, the goal is to train a CNN on $\\mathcal{X}_{\\text{train}}$ and compare its performance with reported numbers from the litterature. You will have to re-use and/or design a standard classification pipeline. You should optimize your pipeline to obtain the best performances (image size, data augmentation by flip, ...).\n",
    "\n",
    "The key ingredients for training a CNN are the batch size, as well as the learning rate scheduler (i.e. how to decrease the learning rate as a function of the number of epochs). A possible scheduler is to start the learning rate at 0.1 and decreasing it every 30 epochs by 10. In case of divergence, reduce the learning rate. A potential batch size could be 10, yet this can be cross-validated.\n",
    "\n",
    "You can get some baselines accuracies in this paper (obviously, it is a different context for those researchers who had access to GPUs!) : http://openaccess.thecvf.com/content_cvpr_2018/papers/Keshari_Learning_Structure_and_CVPR_2018_paper.pdf. "
   ]
  },
  {
   "cell_type": "markdown",
   "metadata": {
    "cell_ktag": "GUk74Ejgac/t",
    "id": "ARHWPXrY_2hi"
   },
   "source": [
    "## ResNet architectures"
   ]
  },
  {
   "cell_type": "markdown",
   "metadata": {
    "cell_ktag": "GUk74Ejgac/t",
    "id": "voMbGoNw_2hj"
   },
   "source": [
    "__Question 3 (2 points) :__ Write a classification pipeline for $\\mathcal{X}_{\\text{train}}$, train from scratch and evaluate a *ResNet-18* architecture specific to CIFAR10 (details about the ImageNet model can be found here: https://arxiv.org/abs/1512.03385). Please report the accuracy obtained on the whole dataset as well as the reference paper/GitHub link.\n",
    "\n",
    "*Hint :* You can re-use the following code : https://github.com/kuangliu/pytorch-cifar. During a training of 10 epochs, a batch size of 10 and a learning rate of 0.01, one obtains 40% accuracy on $\\mathcal{X}_{\\text{train}}$ (\\~2 minutes) and 20% accuracy on $\\mathcal{X}_{\\text{test}}$ (\\~5 minutes)."
   ]
  },
  {
   "cell_type": "code",
   "execution_count": 5,
   "metadata": {
    "cell_ktag": "GUk74Ejgac/t",
    "id": "RVHhKmWN_2hj"
   },
   "outputs": [],
   "source": [
    "# Source of the following code: https://github.com/kuangliu/pytorch-cifar\n",
    "\n",
    "class BasicBlock(nn.Module):\n",
    "    expansion = 1\n",
    "\n",
    "    def __init__(self, in_planes, planes, stride=1):\n",
    "        super(BasicBlock, self).__init__()\n",
    "        self.conv1 = nn.Conv2d(\n",
    "            in_planes, planes, kernel_size=3, stride=stride, padding=1, bias=False)\n",
    "        self.bn1 = nn.BatchNorm2d(planes)\n",
    "        self.conv2 = nn.Conv2d(planes, planes, kernel_size=3,\n",
    "                               stride=1, padding=1, bias=False)\n",
    "        self.bn2 = nn.BatchNorm2d(planes)\n",
    "\n",
    "        self.shortcut = nn.Sequential()\n",
    "        if stride != 1 or in_planes != self.expansion*planes:\n",
    "            self.shortcut = nn.Sequential(\n",
    "                nn.Conv2d(in_planes, self.expansion*planes,\n",
    "                          kernel_size=1, stride=stride, bias=False),\n",
    "                nn.BatchNorm2d(self.expansion*planes)\n",
    "            )\n",
    "\n",
    "    def forward(self, x):\n",
    "        out = F.relu(self.bn1(self.conv1(x)))\n",
    "        out = self.bn2(self.conv2(out))\n",
    "        out += self.shortcut(x)\n",
    "        out = F.relu(out)\n",
    "        return out\n",
    "\n",
    "class ResNet(nn.Module):\n",
    "    def __init__(self, block, num_blocks, num_classes=10):\n",
    "        super(ResNet, self).__init__()\n",
    "        self.in_planes = 64\n",
    "\n",
    "        self.conv1 = nn.Conv2d(3, 64, kernel_size=3,\n",
    "                               stride=1, padding=1, bias=False)\n",
    "        self.bn1 = nn.BatchNorm2d(64)\n",
    "        self.layer1 = self._make_layer(block, 64, num_blocks[0], stride=1)\n",
    "        self.layer2 = self._make_layer(block, 128, num_blocks[1], stride=2)\n",
    "        self.layer3 = self._make_layer(block, 256, num_blocks[2], stride=2)\n",
    "        self.layer4 = self._make_layer(block, 512, num_blocks[3], stride=2)\n",
    "        self.linear = nn.Linear(512*block.expansion, num_classes)\n",
    "\n",
    "    def _make_layer(self, block, planes, num_blocks, stride):\n",
    "        strides = [stride] + [1]*(num_blocks-1)\n",
    "        layers = []\n",
    "        for stride in strides:\n",
    "            layers.append(block(self.in_planes, planes, stride))\n",
    "            self.in_planes = planes * block.expansion\n",
    "        return nn.Sequential(*layers)\n",
    "\n",
    "    def forward(self, x):\n",
    "        out = F.relu(self.bn1(self.conv1(x)))\n",
    "        out = self.layer1(out)\n",
    "        out = self.layer2(out)\n",
    "        out = self.layer3(out)\n",
    "        out = self.layer4(out)\n",
    "        out = F.avg_pool2d(out, 4)\n",
    "        out = out.view(out.size(0), -1)\n",
    "        out = self.linear(out)\n",
    "        return out\n",
    "\n",
    "def ResNet18():\n",
    "    return ResNet(BasicBlock, [2, 2, 2, 2])\n",
    "\n",
    "def test():\n",
    "    net = ResNet18()\n",
    "    y = net(torch.randn(1, 3, 32, 32))\n",
    "    print(y.size())\n",
    "\n",
    "# test()"
   ]
  },
  {
   "cell_type": "code",
   "execution_count": 4,
   "metadata": {},
   "outputs": [],
   "source": [
    "def run_epoch(model, data_loader, loss_fn, opt, device, is_train=True, scheduler=None, verbose=True):\n",
    "    \"\"\"\n",
    "    Runs a training or evaluation epoch.\n",
    "    \n",
    "    Args:\n",
    "        model (torch.nn.Module): The model to train or evaluate.\n",
    "        data_loader (torch.utils.data.DataLoader): The DataLoader for input data.\n",
    "        loss_fn (callable): The loss function.\n",
    "        opt (torch.optim.Optimizer): The optimizer for training.\n",
    "        device (torch.device): The device to run the model on.\n",
    "        is_train (bool): Specifies if the model should be in training mode.\n",
    "        scheduler (torch.optim.lr_scheduler, optional): Learning rate scheduler.\n",
    "        verbose (bool): If True, prints progress using tqdm.\n",
    "        \n",
    "    Returns:\n",
    "        tuple: Mean loss and accuracy for the epoch.\n",
    "    \"\"\"\n",
    "    if is_train:\n",
    "        model.train()\n",
    "    else:\n",
    "        model.eval()\n",
    "\n",
    "    total_loss = 0.0\n",
    "    total_corrects = 0\n",
    "    \n",
    "    for inputs, labels in tqdm(data_loader, disable=not verbose):\n",
    "        inputs, labels = inputs.to(device), labels.to(device)\n",
    "        \n",
    "        with torch.set_grad_enabled(is_train):\n",
    "            outputs = model(inputs)\n",
    "            loss = loss_fn(outputs, labels)\n",
    "            \n",
    "            if is_train:\n",
    "                opt.zero_grad()\n",
    "                loss.backward()\n",
    "                opt.step()\n",
    "                if scheduler is not None:\n",
    "                    scheduler.step()\n",
    "        \n",
    "        total_loss += loss.item() * inputs.size(0)\n",
    "        _, preds = torch.max(outputs, 1)\n",
    "        total_corrects += torch.sum(preds == labels.data)\n",
    "    \n",
    "    mean_loss = total_loss / len(data_loader.dataset)\n",
    "    mean_accuracy = total_corrects.double() / len(data_loader.dataset)\n",
    "    \n",
    "    return mean_loss, mean_accuracy\n",
    "\n",
    "def train_and_test(model, train_loader, test_loader, loss_fn, opt, device, epochs=10, scheduler=None, verbose=True):\n",
    "    \"\"\"\n",
    "    Trains and evaluates a model.\n",
    "    \n",
    "    Args:\n",
    "        model (torch.nn.Module): The model to train and evaluate.\n",
    "        train_loader (torch.utils.data.DataLoader): The DataLoader for training data.\n",
    "        test_loader (torch.utils.data.DataLoader): The DataLoader for test data.\n",
    "        loss_fn (callable): The loss function.\n",
    "        opt (torch.optim.Optimizer): The optimizer for training.\n",
    "        device (torch.device): The device to run the model on.\n",
    "        epochs (int): Number of training epochs.\n",
    "        scheduler (torch.optim.lr_scheduler, optional): Learning rate scheduler.\n",
    "        verbose (bool): If True, prints progress and results.\n",
    "        \n",
    "    Returns:\n",
    "        dict: A dictionary containing training and test losses and accuracies.\n",
    "    \"\"\"\n",
    "    history = {'train_loss': [], 'train_acc': [], 'test_loss': [], 'test_acc': []}\n",
    "    \n",
    "    for epoch in range(epochs):\n",
    "        if verbose: print(f'Epoch {epoch+1}/{epochs}')\n",
    "        \n",
    "        # Run training epoch\n",
    "        train_loss, train_acc = run_epoch(model, train_loader, loss_fn, opt, device, is_train=True, scheduler=scheduler, verbose=verbose)\n",
    "        history['train_loss'].append(train_loss)\n",
    "        history['train_acc'].append(train_acc)\n",
    "        \n",
    "        # Run evaluation epoch\n",
    "        test_loss, test_acc = run_epoch(model, test_loader, loss_fn, opt, device, is_train=False, verbose=verbose)\n",
    "        history['test_loss'].append(test_loss)\n",
    "        history['test_acc'].append(test_acc)\n",
    "        \n",
    "        if verbose:\n",
    "            print(f'Epoch {epoch+1}/{epochs}, Train Loss: {train_loss:.4f}, Train Acc: {train_acc:.4f}, Test Loss: {test_loss:.4f}, Test Acc: {test_acc:.4f}')\n",
    "    \n",
    "    if verbose: print('Finished Training')\n",
    "    \n",
    "    return history\n"
   ]
  },
  {
   "cell_type": "code",
   "execution_count": 33,
   "metadata": {},
   "outputs": [
    {
     "name": "stdout",
     "output_type": "stream",
     "text": [
      "Files already downloaded and verified\n",
      "Files already downloaded and verified\n",
      "Epoch 1/10\n"
     ]
    },
    {
     "name": "stderr",
     "output_type": "stream",
     "text": [
      "100%|██████████| 10/10 [00:00<00:00, 128.60it/s]\n",
      "100%|██████████| 100/100 [00:01<00:00, 68.25it/s]\n"
     ]
    },
    {
     "name": "stdout",
     "output_type": "stream",
     "text": [
      "Epoch 1/10, Train Loss: 2.9490, Train Acc: 0.1700, Test Loss: 7.5198, Test Acc: 0.0739\n",
      "Epoch 2/10\n"
     ]
    },
    {
     "name": "stderr",
     "output_type": "stream",
     "text": [
      "100%|██████████| 10/10 [00:00<00:00, 132.51it/s]\n",
      "100%|██████████| 100/100 [00:01<00:00, 68.78it/s]\n"
     ]
    },
    {
     "name": "stdout",
     "output_type": "stream",
     "text": [
      "Epoch 2/10, Train Loss: 2.3874, Train Acc: 0.2000, Test Loss: 4.6420, Test Acc: 0.0539\n",
      "Epoch 3/10\n"
     ]
    },
    {
     "name": "stderr",
     "output_type": "stream",
     "text": [
      "100%|██████████| 10/10 [00:00<00:00, 134.58it/s]\n",
      "100%|██████████| 100/100 [00:01<00:00, 68.97it/s]\n"
     ]
    },
    {
     "name": "stdout",
     "output_type": "stream",
     "text": [
      "Epoch 3/10, Train Loss: 1.9685, Train Acc: 0.3200, Test Loss: 3.0744, Test Acc: 0.1863\n",
      "Epoch 4/10\n"
     ]
    },
    {
     "name": "stderr",
     "output_type": "stream",
     "text": [
      "100%|██████████| 10/10 [00:00<00:00, 133.64it/s]\n",
      "100%|██████████| 100/100 [00:01<00:00, 68.87it/s]\n"
     ]
    },
    {
     "name": "stdout",
     "output_type": "stream",
     "text": [
      "Epoch 4/10, Train Loss: 1.6861, Train Acc: 0.4000, Test Loss: 2.3786, Test Acc: 0.1979\n",
      "Epoch 5/10\n"
     ]
    },
    {
     "name": "stderr",
     "output_type": "stream",
     "text": [
      "100%|██████████| 10/10 [00:00<00:00, 132.98it/s]\n",
      "100%|██████████| 100/100 [00:01<00:00, 68.91it/s]\n"
     ]
    },
    {
     "name": "stdout",
     "output_type": "stream",
     "text": [
      "Epoch 5/10, Train Loss: 1.6251, Train Acc: 0.4400, Test Loss: 2.2361, Test Acc: 0.2048\n",
      "Epoch 6/10\n"
     ]
    },
    {
     "name": "stderr",
     "output_type": "stream",
     "text": [
      "100%|██████████| 10/10 [00:00<00:00, 133.51it/s]\n",
      "100%|██████████| 100/100 [00:01<00:00, 68.87it/s]\n"
     ]
    },
    {
     "name": "stdout",
     "output_type": "stream",
     "text": [
      "Epoch 6/10, Train Loss: 1.5448, Train Acc: 0.5000, Test Loss: 2.1725, Test Acc: 0.2123\n",
      "Epoch 7/10\n"
     ]
    },
    {
     "name": "stderr",
     "output_type": "stream",
     "text": [
      "100%|██████████| 10/10 [00:00<00:00, 133.47it/s]\n",
      "100%|██████████| 100/100 [00:01<00:00, 68.92it/s]\n"
     ]
    },
    {
     "name": "stdout",
     "output_type": "stream",
     "text": [
      "Epoch 7/10, Train Loss: 1.5778, Train Acc: 0.5000, Test Loss: 2.1736, Test Acc: 0.2141\n",
      "Epoch 8/10\n"
     ]
    },
    {
     "name": "stderr",
     "output_type": "stream",
     "text": [
      "100%|██████████| 10/10 [00:00<00:00, 133.13it/s]\n",
      "100%|██████████| 100/100 [00:01<00:00, 68.85it/s]\n"
     ]
    },
    {
     "name": "stdout",
     "output_type": "stream",
     "text": [
      "Epoch 8/10, Train Loss: 1.4665, Train Acc: 0.5400, Test Loss: 2.1674, Test Acc: 0.2137\n",
      "Epoch 9/10\n"
     ]
    },
    {
     "name": "stderr",
     "output_type": "stream",
     "text": [
      "100%|██████████| 10/10 [00:00<00:00, 133.45it/s]\n",
      "100%|██████████| 100/100 [00:01<00:00, 68.97it/s]\n"
     ]
    },
    {
     "name": "stdout",
     "output_type": "stream",
     "text": [
      "Epoch 9/10, Train Loss: 1.4893, Train Acc: 0.5200, Test Loss: 2.1694, Test Acc: 0.2140\n",
      "Epoch 10/10\n"
     ]
    },
    {
     "name": "stderr",
     "output_type": "stream",
     "text": [
      "100%|██████████| 10/10 [00:00<00:00, 133.62it/s]\n",
      "100%|██████████| 100/100 [00:01<00:00, 69.03it/s]"
     ]
    },
    {
     "name": "stdout",
     "output_type": "stream",
     "text": [
      "Epoch 10/10, Train Loss: 1.4314, Train Acc: 0.5900, Test Loss: 2.1615, Test Acc: 0.2151\n",
      "Finished Training\n",
      "Test loss: 2.1615, Test accuracy: 0.2151\n"
     ]
    },
    {
     "name": "stderr",
     "output_type": "stream",
     "text": [
      "\n"
     ]
    }
   ],
   "source": [
    "# Define hyperparameters\n",
    "lr = 0.001\n",
    "epochs = 10\n",
    "batch_size = 10\n",
    "\n",
    "# Load training dataset\n",
    "train_dataset = torchvision.datasets.CIFAR10(root=\"\\content\", train=True, download=True, transform=transforms.ToTensor())\n",
    "train_subset = torch.utils.data.Subset(train_dataset, indices=range(100)) \n",
    "train_loader = torch.utils.data.DataLoader(train_subset, batch_size=batch_size, shuffle=True)\n",
    "\n",
    "# Load test dataset\n",
    "test_dataset = torchvision.datasets.CIFAR10(root=\"\\content\", train=False, download=True, transform=transforms.ToTensor())\n",
    "test_loader = torch.utils.data.DataLoader(test_dataset, batch_size=100, shuffle=False)\n",
    "\n",
    "# Prepare the model, device, optimizer, scheduler, and loss function\n",
    "device = torch.device(\"cuda\" if torch.cuda.is_available() else \"cpu\")\n",
    "model = ResNet18().to(device)\n",
    "\n",
    "optimizer = torch.optim.Adam(model.parameters(), lr=lr)\n",
    "scheduler = torch.optim.lr_scheduler.StepLR(optimizer, step_size=30, gamma=0.1)\n",
    "criterion = torch.nn.CrossEntropyLoss()\n",
    "\n",
    "# Train and test the model\n",
    "history = train_and_test(model, train_loader, test_loader, criterion, optimizer, device, epochs=epochs, scheduler=scheduler)\n",
    "\n",
    "# Print test results from the history\n",
    "last_epoch_results = f\"Test loss: {history['test_loss'][-1]:.4f}, Test accuracy: {history['test_acc'][-1]:.4f}\"\n",
    "print(last_epoch_results)\n",
    "\n",
    "\n",
    "# Storage of the results for ResNet18 model\n",
    "resnet18_train_acc = history['train_acc']\n",
    "resnet18_test_acc = history['test_acc']\n",
    "\n",
    "resnet18_train_acc = [tensor.cpu().numpy() for tensor in resnet18_train_acc]\n",
    "resnet18_train_acc = np.array(resnet18_train_acc)\n",
    "\n",
    "resnet18_test_acc = [tensor.cpu().numpy() for tensor in resnet18_test_acc]\n",
    "resnet18_test_acc = np.array(resnet18_test_acc)"
   ]
  },
  {
   "cell_type": "markdown",
   "metadata": {},
   "source": [
    "| Model | Number of  epochs  | Train accuracy | Test accuracy |\n",
    "|------|------|------|------|\n",
    "|   ResNet18  | 10 | 59.00% | 21.51% |"
   ]
  },
  {
   "cell_type": "markdown",
   "metadata": {},
   "source": [
    "# Transfer learning"
   ]
  },
  {
   "cell_type": "markdown",
   "metadata": {
    "cell_ktag": "GUk74Ejgac/t",
    "id": "8Tn9pW14_2hj"
   },
   "source": [
    "We propose to use pre-trained models on a classification and generative task, in order to improve the results of our setting."
   ]
  },
  {
   "cell_type": "markdown",
   "metadata": {
    "cell_ktag": "GUk74Ejgac/t",
    "id": "z8g_3ZDi_2hj"
   },
   "source": [
    "## ImageNet features"
   ]
  },
  {
   "cell_type": "markdown",
   "metadata": {
    "cell_ktag": "GUk74Ejgac/t",
    "id": "PfYEhdFb_2hj"
   },
   "source": [
    "Now, we will use some pre-trained models on ImageNet and see how well they compare on CIFAR. A list is available on : https://pytorch.org/vision/stable/models.html.\n",
    "\n",
    "__Question 4 (1 points):__ Pick a model from the list above, adapt it for CIFAR10 and retrain its final layer (or a block of layers, depending on the resources to which you have access to). Report its accuracy."
   ]
  },
  {
   "cell_type": "code",
   "execution_count": 39,
   "metadata": {
    "cell_ktag": "GUk74Ejgac/t",
    "collapsed": true,
    "id": "i_lh4xje_2hk"
   },
   "outputs": [
    {
     "name": "stdout",
     "output_type": "stream",
     "text": [
      "Files already downloaded and verified\n",
      "Files already downloaded and verified\n",
      "Epoch 1/10\n"
     ]
    },
    {
     "name": "stderr",
     "output_type": "stream",
     "text": [
      "100%|██████████| 10/10 [00:00<00:00, 128.49it/s]\n",
      "100%|██████████| 100/100 [00:01<00:00, 98.69it/s]\n"
     ]
    },
    {
     "name": "stdout",
     "output_type": "stream",
     "text": [
      "Epoch 1/10, Train Loss: 2.9863, Train Acc: 0.2200, Test Loss: 2.7933, Test Acc: 0.1611\n",
      "Epoch 2/10\n"
     ]
    },
    {
     "name": "stderr",
     "output_type": "stream",
     "text": [
      "100%|██████████| 10/10 [00:00<00:00, 139.04it/s]\n",
      "100%|██████████| 100/100 [00:01<00:00, 99.07it/s]\n"
     ]
    },
    {
     "name": "stdout",
     "output_type": "stream",
     "text": [
      "Epoch 2/10, Train Loss: 2.1128, Train Acc: 0.4000, Test Loss: 2.7232, Test Acc: 0.1986\n",
      "Epoch 3/10\n"
     ]
    },
    {
     "name": "stderr",
     "output_type": "stream",
     "text": [
      "100%|██████████| 10/10 [00:00<00:00, 138.43it/s]\n",
      "100%|██████████| 100/100 [00:01<00:00, 99.25it/s]\n"
     ]
    },
    {
     "name": "stdout",
     "output_type": "stream",
     "text": [
      "Epoch 3/10, Train Loss: 1.3159, Train Acc: 0.5800, Test Loss: 3.2238, Test Acc: 0.2184\n",
      "Epoch 4/10\n"
     ]
    },
    {
     "name": "stderr",
     "output_type": "stream",
     "text": [
      "100%|██████████| 10/10 [00:00<00:00, 137.91it/s]\n",
      "100%|██████████| 100/100 [00:01<00:00, 99.05it/s]\n"
     ]
    },
    {
     "name": "stdout",
     "output_type": "stream",
     "text": [
      "Epoch 4/10, Train Loss: 0.9146, Train Acc: 0.6500, Test Loss: 2.6006, Test Acc: 0.2548\n",
      "Epoch 5/10\n"
     ]
    },
    {
     "name": "stderr",
     "output_type": "stream",
     "text": [
      "100%|██████████| 10/10 [00:00<00:00, 136.07it/s]\n",
      "100%|██████████| 100/100 [00:01<00:00, 99.10it/s]\n"
     ]
    },
    {
     "name": "stdout",
     "output_type": "stream",
     "text": [
      "Epoch 5/10, Train Loss: 0.7688, Train Acc: 0.7400, Test Loss: 2.5253, Test Acc: 0.2528\n",
      "Epoch 6/10\n"
     ]
    },
    {
     "name": "stderr",
     "output_type": "stream",
     "text": [
      "100%|██████████| 10/10 [00:00<00:00, 135.63it/s]\n",
      "100%|██████████| 100/100 [00:01<00:00, 99.19it/s]\n"
     ]
    },
    {
     "name": "stdout",
     "output_type": "stream",
     "text": [
      "Epoch 6/10, Train Loss: 0.6539, Train Acc: 0.7800, Test Loss: 2.5575, Test Acc: 0.2581\n",
      "Epoch 7/10\n"
     ]
    },
    {
     "name": "stderr",
     "output_type": "stream",
     "text": [
      "100%|██████████| 10/10 [00:00<00:00, 135.89it/s]\n",
      "100%|██████████| 100/100 [00:01<00:00, 99.34it/s]\n"
     ]
    },
    {
     "name": "stdout",
     "output_type": "stream",
     "text": [
      "Epoch 7/10, Train Loss: 0.7191, Train Acc: 0.7500, Test Loss: 2.5289, Test Acc: 0.2625\n",
      "Epoch 8/10\n"
     ]
    },
    {
     "name": "stderr",
     "output_type": "stream",
     "text": [
      "100%|██████████| 10/10 [00:00<00:00, 134.29it/s]\n",
      "100%|██████████| 100/100 [00:01<00:00, 99.41it/s]\n"
     ]
    },
    {
     "name": "stdout",
     "output_type": "stream",
     "text": [
      "Epoch 8/10, Train Loss: 0.5063, Train Acc: 0.8400, Test Loss: 2.5284, Test Acc: 0.2604\n",
      "Epoch 9/10\n"
     ]
    },
    {
     "name": "stderr",
     "output_type": "stream",
     "text": [
      "100%|██████████| 10/10 [00:00<00:00, 135.99it/s]\n",
      "100%|██████████| 100/100 [00:01<00:00, 99.29it/s]\n"
     ]
    },
    {
     "name": "stdout",
     "output_type": "stream",
     "text": [
      "Epoch 9/10, Train Loss: 0.5110, Train Acc: 0.8500, Test Loss: 2.5487, Test Acc: 0.2646\n",
      "Epoch 10/10\n"
     ]
    },
    {
     "name": "stderr",
     "output_type": "stream",
     "text": [
      "100%|██████████| 10/10 [00:00<00:00, 135.76it/s]\n",
      "100%|██████████| 100/100 [00:01<00:00, 99.02it/s]"
     ]
    },
    {
     "name": "stdout",
     "output_type": "stream",
     "text": [
      "Epoch 10/10, Train Loss: 0.5808, Train Acc: 0.8400, Test Loss: 2.5397, Test Acc: 0.2636\n",
      "Finished Training\n",
      "Test loss: 2.5397, Test accuracy: 0.2636\n"
     ]
    },
    {
     "name": "stderr",
     "output_type": "stream",
     "text": [
      "\n"
     ]
    }
   ],
   "source": [
    "from torchvision.models import resnet18, ResNet18_Weights # We chose the ResNet18 for comparison sake\n",
    "\n",
    "# Define hyperparameters\n",
    "lr = 0.001\n",
    "epochs = 10\n",
    "batch_size = 10\n",
    "\n",
    "# Load training dataset\n",
    "train_dataset = torchvision.datasets.CIFAR10(root=\"\\content\", train=True, download=True, transform=transforms.ToTensor())\n",
    "train_subset = torch.utils.data.Subset(train_dataset, indices=range(100)) \n",
    "train_loader = torch.utils.data.DataLoader(train_subset, batch_size=batch_size, shuffle=True)\n",
    "\n",
    "# Load test dataset\n",
    "test_dataset = torchvision.datasets.CIFAR10(root=\"\\content\", train=False, download=True, transform=transforms.ToTensor())\n",
    "test_loader = torch.utils.data.DataLoader(test_dataset, batch_size=100, shuffle=False)\n",
    "\n",
    "# Prepare the model, device, optimizer, scheduler, and loss function\n",
    "\n",
    "device = torch.device(\"cuda\" if torch.cuda.is_available() else \"cpu\")\n",
    "# Initialize model with the best available weights\n",
    "weights = ResNet18_Weights.DEFAULT\n",
    "model = resnet18(weights=weights).to(device)\n",
    "# Adapt it for CIFAR10\n",
    "model.fc = nn.Linear(512, 10).to(device)\n",
    "\n",
    "\n",
    "optimizer = torch.optim.Adam(model.parameters(), lr=lr)\n",
    "scheduler = torch.optim.lr_scheduler.StepLR(optimizer, step_size=30, gamma=0.1)\n",
    "criterion = torch.nn.CrossEntropyLoss()\n",
    "\n",
    "# Train and test the model\n",
    "history = train_and_test(model, train_loader, test_loader, criterion, optimizer, device, epochs=epochs, scheduler=scheduler)\n",
    "\n",
    "# Print test results from the history\n",
    "last_epoch_results = f\"Test loss: {history['test_loss'][-1]:.4f}, Test accuracy: {history['test_acc'][-1]:.4f}\"\n",
    "print(last_epoch_results)\n",
    "\n",
    "\n",
    "# Sotrage of the results for Pre-trained ResNet18 model\n",
    "pretrained_resnet18_train_acc = history['train_acc']\n",
    "pretrained_resnet18_test_acc = history['test_acc']\n",
    "\n",
    "pretrained_resnet18_train_acc = [tensor.cpu().numpy() for tensor in pretrained_resnet18_train_acc]\n",
    "pretrained_resnet18_train_acc = np.array(pretrained_resnet18_train_acc)\n",
    "\n",
    "pretrained_resnet18_test_acc = [tensor.cpu().numpy() for tensor in pretrained_resnet18_test_acc]\n",
    "pretrained_resnet18_test_acc = np.array(pretrained_resnet18_test_acc)"
   ]
  },
  {
   "cell_type": "markdown",
   "metadata": {},
   "source": [
    "| Model | Number of  epochs  | Train accuracy | Test accuracy |\n",
    "|------|------|------|------|\n",
    "|   Pre-trained ResNet18  | 10 | 84.00% | 26.36% |"
   ]
  },
  {
   "cell_type": "markdown",
   "metadata": {
    "cell_ktag": "GUk74Ejgac/t",
    "id": "SvkuMzLs_2hk"
   },
   "source": [
    "# Incorporating *a priori*\n",
    "Geometrical *a priori* are appealing for image classification tasks, though one might have to handle several boundary effects.\n",
    "\n",
    "__Question 5 (0.5 points) :__ Explain the issues when dealing with translations, rotations, scaling effects, color changes on $32\\times32$ images. Propose several ideas to tackle them."
   ]
  },
  {
   "cell_type": "markdown",
   "metadata": {
    "cell_ktag": "GUk74Ejgac/t",
    "id": "TIaY60o1_2hk"
   },
   "source": [
    "When manipulating 32x32 images through translations, rotations, scaling, and color adjustments, various challenges may emerge, including:\n",
    "\n",
    "- Information Loss: Transformations such as rotations and scaling can result in crucial details being lost, impeding the model's learning efficiency.\n",
    "\n",
    "- Boundary Issues: Image edges might suffer from distortion or truncation due to translations, rotations, and scaling, creating boundary artifacts.\n",
    "\n",
    "- Aliasing Effects: Scaling down or rotating images can introduce aliasing, degrading image quality by adding high-frequency noise.\n",
    "\n",
    "- Color Shifts: Altering an image's color, brightness, or contrast may change object appearances, complicating the model's ability to recognize consistent patterns across varying color schemes.\n",
    "\n",
    "To address these concerns, consider implementing the following strategies:\n",
    "\n",
    "- Padding: Incorporate padding around images before applying transformations to prevent edge information loss.\n",
    "\n",
    "- Interpolation Techniques: Employ suitable interpolation methods for scaling to minimize aliasing and preserve image integrity.\n",
    "\n",
    "- Anti-Aliasing Filters: Utilize anti-aliasing filters when reducing image size to avoid aliasing effects. For enlarging images, reconstruction filters are recommended to maintain smoothness and clarity.\n",
    "\n",
    "- Color Normalization: Standardize the color channels to a common range prior to color adjustments to maintain balanced color transformations and realistic distributions.\n",
    "\n",
    "- Augmentation Oversight: Regular examination of augmented images is crucial to ensure that the applied modifications do not introduce unrealistic changes or negatively impact model training.\n",
    "\n",
    "- Controlled Data Augmentation: Enrich training datasets with a variety of transformations while cautiously managing the extent of modifications to avoid significant distortion or detail loss. Strategies include:\n",
    "\n",
    "    - Adaptive Augmentation: Adjust the augmentation intensity based on the dataset's specific attributes, applying milder transformations to images with intricate details or complex backgrounds.\n",
    "\n",
    "    - Domain-Specific Augmentation: Customize augmentation approaches to fit the unique requirements of the target domain, such as incorporating relevant expertise for medical imagery to preserve essential diagnostic features."
   ]
  },
  {
   "cell_type": "markdown",
   "metadata": {
    "cell_ktag": "GUk74Ejgac/t",
    "id": "ds6e6teG_2hk"
   },
   "source": [
    "## Data augmentations"
   ]
  },
  {
   "cell_type": "markdown",
   "metadata": {
    "cell_ktag": "GUk74Ejgac/t",
    "id": "-Ek5wlOo_2hk"
   },
   "source": [
    "__Question 6 (4 points):__ Propose a set of geometric transformation beyond translation, and incorporate them in your training pipeline. Train the model of the __Question 3__ with them and report the accuracies."
   ]
  },
  {
   "cell_type": "markdown",
   "metadata": {},
   "source": [
    "- **RandomHorizontalFlip**: Flips images horizontally with a probability of 0.5, effectively increasing the diversity of object orientations in the dataset, which is beneficial for tasks where object orientation is not critical.\n",
    "\n",
    "- **RandomVerticalFlip**: Similar to horizontal flipping but in the vertical direction, it ensures that the model learns to recognize objects from different perspectives, further enhancing its ability to generalize.\n",
    "\n",
    "- **RandomRotation(degrees=15)**: Randomly rotates images by up to 15 degrees in both clockwise and counterclockwise directions. This variation simulates real-world scenarios where objects may be tilted or rotated, encouraging the model to learn features invariant to rotation.\n",
    "\n",
    "- **RandomResizedCrop(32, scale=(0.8, 1.0))**: Randomly crops and resizes images to a size of 32x32 pixels, with a scale factor ranging from 0.8 to 1.0. This transformation helps the model focus on different parts of the image while preserving spatial relationships, aiding in robust feature learning.\n",
    "\n",
    "- **ColorJitter(brightness=0.2, contrast=0.2, saturation=0.2, hue=0.1)**: Randomly adjusts brightness, contrast, saturation, and hue of the images, introducing variations in color distribution. This ensures that the model learns to recognize objects under different lighting conditions and color variations, making it more adaptable to real-world scenarios."
   ]
  },
  {
   "cell_type": "code",
   "execution_count": 53,
   "metadata": {},
   "outputs": [
    {
     "name": "stdout",
     "output_type": "stream",
     "text": [
      "Files already downloaded and verified\n",
      "Files already downloaded and verified\n",
      "Files already downloaded and verified\n",
      "Files already downloaded and verified\n",
      "Files already downloaded and verified\n",
      "Files already downloaded and verified\n",
      "Files already downloaded and verified\n",
      "Epoch 1/10\n"
     ]
    },
    {
     "name": "stderr",
     "output_type": "stream",
     "text": [
      "100%|██████████| 11/11 [00:00<00:00, 33.77it/s]\n",
      "100%|██████████| 100/100 [00:01<00:00, 70.67it/s]\n"
     ]
    },
    {
     "name": "stdout",
     "output_type": "stream",
     "text": [
      "Epoch 1/10, Train Loss: 2.2313, Train Acc: 0.3167, Test Loss: 2.4935, Test Acc: 0.1345\n",
      "Epoch 2/10\n"
     ]
    },
    {
     "name": "stderr",
     "output_type": "stream",
     "text": [
      "100%|██████████| 11/11 [00:00<00:00, 34.84it/s]\n",
      "100%|██████████| 100/100 [00:01<00:00, 70.70it/s]\n"
     ]
    },
    {
     "name": "stdout",
     "output_type": "stream",
     "text": [
      "Epoch 2/10, Train Loss: 1.3184, Train Acc: 0.5450, Test Loss: 3.3398, Test Acc: 0.1220\n",
      "Epoch 3/10\n"
     ]
    },
    {
     "name": "stderr",
     "output_type": "stream",
     "text": [
      "100%|██████████| 11/11 [00:00<00:00, 34.91it/s]\n",
      "100%|██████████| 100/100 [00:01<00:00, 70.66it/s]\n"
     ]
    },
    {
     "name": "stdout",
     "output_type": "stream",
     "text": [
      "Epoch 3/10, Train Loss: 0.8761, Train Acc: 0.7083, Test Loss: 3.7229, Test Acc: 0.1872\n",
      "Epoch 4/10\n"
     ]
    },
    {
     "name": "stderr",
     "output_type": "stream",
     "text": [
      "100%|██████████| 11/11 [00:00<00:00, 34.78it/s]\n",
      "100%|██████████| 100/100 [00:01<00:00, 70.59it/s]\n"
     ]
    },
    {
     "name": "stdout",
     "output_type": "stream",
     "text": [
      "Epoch 4/10, Train Loss: 0.5774, Train Acc: 0.8417, Test Loss: 3.1284, Test Acc: 0.2249\n",
      "Epoch 5/10\n"
     ]
    },
    {
     "name": "stderr",
     "output_type": "stream",
     "text": [
      "100%|██████████| 11/11 [00:00<00:00, 34.83it/s]\n",
      "100%|██████████| 100/100 [00:01<00:00, 70.45it/s]\n"
     ]
    },
    {
     "name": "stdout",
     "output_type": "stream",
     "text": [
      "Epoch 5/10, Train Loss: 0.4078, Train Acc: 0.8883, Test Loss: 3.0100, Test Acc: 0.2558\n",
      "Epoch 6/10\n"
     ]
    },
    {
     "name": "stderr",
     "output_type": "stream",
     "text": [
      "100%|██████████| 11/11 [00:00<00:00, 34.83it/s]\n",
      "100%|██████████| 100/100 [00:01<00:00, 70.44it/s]\n"
     ]
    },
    {
     "name": "stdout",
     "output_type": "stream",
     "text": [
      "Epoch 6/10, Train Loss: 0.3064, Train Acc: 0.9233, Test Loss: 3.0440, Test Acc: 0.2619\n",
      "Epoch 7/10\n"
     ]
    },
    {
     "name": "stderr",
     "output_type": "stream",
     "text": [
      "100%|██████████| 11/11 [00:00<00:00, 34.99it/s]\n",
      "100%|██████████| 100/100 [00:01<00:00, 70.62it/s]\n"
     ]
    },
    {
     "name": "stdout",
     "output_type": "stream",
     "text": [
      "Epoch 7/10, Train Loss: 0.2997, Train Acc: 0.9233, Test Loss: 3.0346, Test Acc: 0.2661\n",
      "Epoch 8/10\n"
     ]
    },
    {
     "name": "stderr",
     "output_type": "stream",
     "text": [
      "100%|██████████| 11/11 [00:00<00:00, 34.90it/s]\n",
      "100%|██████████| 100/100 [00:01<00:00, 70.62it/s]\n"
     ]
    },
    {
     "name": "stdout",
     "output_type": "stream",
     "text": [
      "Epoch 8/10, Train Loss: 0.3300, Train Acc: 0.9167, Test Loss: 3.0385, Test Acc: 0.2643\n",
      "Epoch 9/10\n"
     ]
    },
    {
     "name": "stderr",
     "output_type": "stream",
     "text": [
      "100%|██████████| 11/11 [00:00<00:00, 34.74it/s]\n",
      "100%|██████████| 100/100 [00:01<00:00, 70.61it/s]\n"
     ]
    },
    {
     "name": "stdout",
     "output_type": "stream",
     "text": [
      "Epoch 9/10, Train Loss: 0.2531, Train Acc: 0.9367, Test Loss: 3.0634, Test Acc: 0.2640\n",
      "Epoch 10/10\n"
     ]
    },
    {
     "name": "stderr",
     "output_type": "stream",
     "text": [
      "100%|██████████| 11/11 [00:00<00:00, 34.98it/s]\n",
      "100%|██████████| 100/100 [00:01<00:00, 70.59it/s]"
     ]
    },
    {
     "name": "stdout",
     "output_type": "stream",
     "text": [
      "Epoch 10/10, Train Loss: 0.2637, Train Acc: 0.9417, Test Loss: 3.0584, Test Acc: 0.2653\n",
      "Finished Training\n",
      "Test loss: 3.0584, Test accuracy: 0.2653\n"
     ]
    },
    {
     "name": "stderr",
     "output_type": "stream",
     "text": [
      "\n"
     ]
    }
   ],
   "source": [
    "# Define hyperparameters\n",
    "lr = 0.001\n",
    "epochs = 10\n",
    "batch_size = 55\n",
    "\n",
    "# Load training dataset with additional transformations\n",
    "train_dataset = torchvision.datasets.CIFAR10(root=\"\\content\", train=True, download=True, transform=transforms.ToTensor())\n",
    "train_dataset_transformed = torchvision.datasets.CIFAR10(root=\"\\content\", train=True, download=True, transform=transforms.Compose([\n",
    "    transforms.ToTensor(),\n",
    "    transforms.RandomHorizontalFlip(),  # Random horizontal flip\n",
    "]))\n",
    "train_dataset_transformed2 = torchvision.datasets.CIFAR10(root=\"\\content\", train=True, download=True, transform=transforms.Compose([\n",
    "    transforms.ToTensor(),\n",
    "    transforms.RandomVerticalFlip(),  # Random vertical flip\n",
    "]))\n",
    "train_dataset_transformed3 = torchvision.datasets.CIFAR10(root=\"\\content\", train=True, download=True, transform=transforms.Compose([\n",
    "    transforms.ToTensor(),\n",
    "    transforms.RandomRotation(degrees=15),   # Random rotation up to 15 degrees\n",
    "]))\n",
    "train_dataset_transformed4 = torchvision.datasets.CIFAR10(root=\"\\content\", train=True, download=True, transform=transforms.Compose([\n",
    "    transforms.ToTensor(),\n",
    "    transforms.ColorJitter(brightness=0.2, contrast=0.2, saturation=0.2, hue=0.1),  # Random color jitter\n",
    "]))\n",
    "train_dataset_transformed5 = torchvision.datasets.CIFAR10(root=\"\\content\", train=True, download=True, transform=transforms.Compose([\n",
    "    transforms.ToTensor(),\n",
    "    transforms.RandomResizedCrop(32, scale=(0.8, 1.0)),  # Random resized crop\n",
    "]))\n",
    "train_subset = torch.utils.data.Subset(train_dataset, indices=range(100)) \n",
    "train_subset_transformed = torch.utils.data.Subset(train_dataset_transformed, indices=range(100))\n",
    "train_subset_transformed2 = torch.utils.data.Subset(train_dataset_transformed2, indices=range(100))\n",
    "train_subset_transformed3 = torch.utils.data.Subset(train_dataset_transformed3, indices=range(100))\n",
    "train_subset_transformed4 = torch.utils.data.Subset(train_dataset_transformed4, indices=range(100))\n",
    "train_subset_transformed5 = torch.utils.data.Subset(train_dataset_transformed5, indices=range(100))\n",
    "concatenated_dataset = torch.utils.data.ConcatDataset([train_subset, train_subset_transformed, train_subset_transformed2, train_subset_transformed3, train_subset_transformed4, train_subset_transformed5])\n",
    "train_loader = torch.utils.data.DataLoader(concatenated_dataset, batch_size=batch_size, shuffle=True)\n",
    "\n",
    "# Load test dataset\n",
    "test_dataset = torchvision.datasets.CIFAR10(root=\"\\content\", train=False, download=True, transform=transforms.ToTensor())\n",
    "test_loader = torch.utils.data.DataLoader(test_dataset, batch_size=100, shuffle=False)\n",
    "\n",
    "# Prepare the model, device, optimizer, scheduler, and loss function\n",
    "device = torch.device(\"cuda\" if torch.cuda.is_available() else \"cpu\")\n",
    "model = ResNet18().to(device)\n",
    "\n",
    "optimizer = torch.optim.Adam(model.parameters(), lr=lr)\n",
    "scheduler = torch.optim.lr_scheduler.StepLR(optimizer, step_size=30, gamma=0.1)\n",
    "criterion = torch.nn.CrossEntropyLoss()\n",
    "\n",
    "# Train and test the model\n",
    "history = train_and_test(model, train_loader, test_loader, criterion, optimizer, device, epochs=epochs, scheduler=scheduler)\n",
    "\n",
    "# Print test results from the history\n",
    "last_epoch_results = f\"Test loss: {history['test_loss'][-1]:.4f}, Test accuracy: {history['test_acc'][-1]:.4f}\"\n",
    "print(last_epoch_results)\n",
    "\n",
    "\n",
    "# Storage of the results for the ResNet18 after Data Augmentation model\n",
    "resnet18_augmented_train_acc = history['train_acc']\n",
    "resnet18_augmented_test_acc = history['test_acc']\n",
    "\n",
    "resnet18_augmented_train_acc = [tensor.cpu().numpy() for tensor in resnet18_augmented_train_acc]\n",
    "resnet18_augmented_train_acc = np.array(resnet18_augmented_train_acc)\n",
    "\n",
    "resnet18_augmented_test_acc = [tensor.cpu().numpy() for tensor in resnet18_augmented_test_acc]\n",
    "resnet18_augmented_test_acc = np.array(resnet18_augmented_test_acc)"
   ]
  },
  {
   "cell_type": "markdown",
   "metadata": {},
   "source": [
    "| Model | Number of  epochs  | Train accuracy | Test accuracy |\n",
    "|------|------|------|------|\n",
    "|   ResNet18 after Data Augmentation | 10 | 94.17% | 26.53% |"
   ]
  },
  {
   "cell_type": "markdown",
   "metadata": {
    "cell_ktag": "GUk74Ejgac/t",
    "id": "HRUA5I8N_2hk"
   },
   "source": [
    "# Conclusions"
   ]
  },
  {
   "cell_type": "markdown",
   "metadata": {
    "cell_ktag": "GUk74Ejgac/t",
    "id": "RmyiWAPJ_2hl"
   },
   "source": [
    "__Question 7 (3 points) :__ Write a short report explaining the pros and the cons of each method that you implemented. 25% of the grade of this project will correspond to this question, thus, it should be done carefully. In particular, please add a plot that will summarize all your numerical results."
   ]
  },
  {
   "cell_type": "code",
   "execution_count": 65,
   "metadata": {},
   "outputs": [
    {
     "data": {
      "image/png": "[encoded data removed]",
      "text/plain": [
       "<Figure size 640x480 with 1 Axes>"
      ]
     },
     "metadata": {},
     "output_type": "display_data"
    }
   ],
   "source": [
    "epochs = range(1, 11)\n",
    "\n",
    "# Plot training accuracy\n",
    "plt.plot(epochs, resnet18_train_acc, linestyle='--', label='ResNet18 (Train)', color='b')\n",
    "plt.plot(epochs, pretrained_resnet18_train_acc, linestyle='--', label='Pre-trained ResNet18 (Train)', color='g')\n",
    "plt.plot(epochs, resnet18_augmented_train_acc, linestyle='--', label='ResNet18 after Data Augmentation (Train)', color='r')\n",
    "\n",
    "# Plot test accuracy\n",
    "plt.plot(epochs, resnet18_test_acc, label='ResNet18 (Test)', color='b')\n",
    "plt.plot(epochs, pretrained_resnet18_test_acc, label='Pre-trained ResNet18 (Test)', color='g')\n",
    "plt.plot(epochs, resnet18_augmented_test_acc, label='ResNet18 after Data Augmentation (Test)', color='r')\n",
    "\n",
    "plt.xlabel('Epochs')\n",
    "plt.ylabel('Accuracy')\n",
    "plt.title('Training and Test Accuracy Comparison')\n",
    "plt.legend()\n",
    "plt.grid(True)\n",
    "plt.show()"
   ]
  },
  {
   "cell_type": "markdown",
   "metadata": {
    "cell_ktag": "GUk74Ejgac/t",
    "id": "zJ-v4Nev_2hl"
   },
   "source": [
    "| Model | Number of  epochs  | Train accuracy | Test accuracy |\n",
    "|------|------|------|------|\n",
    "|   ResNet18 after Data Augmentation | 10 | 94.17% | 26.53% |\n",
    "|   Pre-trained ResNet18  | 10 | 84.00% | 26.36% |\n",
    "|   ResNet18  | 10 | 59.00% | 21.51% |"
   ]
  },
  {
   "cell_type": "markdown",
   "metadata": {},
   "source": [
    "Pretraining was done on ImageNet, which is a different dataset from CIFAR10. We observe that increasing (times 6) our labeled CIFAR10 training set's size using data augmentations on the non-pretrained ResNet18 proves slightly more efficient than pretraining on ImageNet.\n",
    "\n",
    "Thus, it seems that transfer learning from one dataset to another is less efficient than a training from scratch, robustified by data augmentations.\n",
    "\n",
    "It would be promising to test pretraining followed by finetuning on an augmented dataset"
   ]
  },
  {
   "cell_type": "code",
   "execution_count": 5,
   "metadata": {},
   "outputs": [
    {
     "name": "stdout",
     "output_type": "stream",
     "text": [
      "Files already downloaded and verified\n",
      "Files already downloaded and verified\n",
      "Files already downloaded and verified\n",
      "Files already downloaded and verified\n",
      "Files already downloaded and verified\n",
      "Files already downloaded and verified\n",
      "Files already downloaded and verified\n",
      "Epoch 1/10\n"
     ]
    },
    {
     "name": "stderr",
     "output_type": "stream",
     "text": [
      "  0%|          | 0/11 [00:00<?, ?it/s]/users/eleves-b/2020/celestin.eve/miniconda3/envs/deep-env2/lib/python3.9/site-packages/torch/nn/modules/conv.py:456: UserWarning: Applied workaround for CuDNN issue, install nvrtc.so (Triggered internally at /opt/conda/conda-bld/pytorch_1708025831482/work/aten/src/ATen/native/cudnn/Conv_v8.cpp:80.)\n",
      "  return F.conv2d(input, weight, bias, self.stride,\n",
      "100%|██████████| 11/11 [00:00<00:00, 22.18it/s]\n",
      "100%|██████████| 100/100 [00:01<00:00, 93.72it/s]\n"
     ]
    },
    {
     "name": "stdout",
     "output_type": "stream",
     "text": [
      "Epoch 1/10, Train Loss: 1.3614, Train Acc: 0.5600, Test Loss: 2.4637, Test Acc: 0.1848\n",
      "Epoch 2/10\n"
     ]
    },
    {
     "name": "stderr",
     "output_type": "stream",
     "text": [
      "100%|██████████| 11/11 [00:00<00:00, 43.17it/s]\n",
      "100%|██████████| 100/100 [00:01<00:00, 96.31it/s]\n"
     ]
    },
    {
     "name": "stdout",
     "output_type": "stream",
     "text": [
      "Epoch 2/10, Train Loss: 0.3792, Train Acc: 0.9117, Test Loss: 2.5219, Test Acc: 0.2966\n",
      "Epoch 3/10\n"
     ]
    },
    {
     "name": "stderr",
     "output_type": "stream",
     "text": [
      "100%|██████████| 11/11 [00:00<00:00, 43.31it/s]\n",
      "100%|██████████| 100/100 [00:01<00:00, 96.44it/s]\n"
     ]
    },
    {
     "name": "stdout",
     "output_type": "stream",
     "text": [
      "Epoch 3/10, Train Loss: 0.2665, Train Acc: 0.9283, Test Loss: 3.1210, Test Acc: 0.2998\n",
      "Epoch 4/10\n"
     ]
    },
    {
     "name": "stderr",
     "output_type": "stream",
     "text": [
      "100%|██████████| 11/11 [00:00<00:00, 43.34it/s]\n",
      "100%|██████████| 100/100 [00:01<00:00, 96.31it/s]\n"
     ]
    },
    {
     "name": "stdout",
     "output_type": "stream",
     "text": [
      "Epoch 4/10, Train Loss: 0.1479, Train Acc: 0.9600, Test Loss: 3.0312, Test Acc: 0.3227\n",
      "Epoch 5/10\n"
     ]
    },
    {
     "name": "stderr",
     "output_type": "stream",
     "text": [
      "100%|██████████| 11/11 [00:00<00:00, 43.10it/s]\n",
      "100%|██████████| 100/100 [00:01<00:00, 96.70it/s]\n"
     ]
    },
    {
     "name": "stdout",
     "output_type": "stream",
     "text": [
      "Epoch 5/10, Train Loss: 0.0940, Train Acc: 0.9650, Test Loss: 2.9158, Test Acc: 0.3354\n",
      "Epoch 6/10\n"
     ]
    },
    {
     "name": "stderr",
     "output_type": "stream",
     "text": [
      "100%|██████████| 11/11 [00:00<00:00, 43.24it/s]\n",
      "100%|██████████| 100/100 [00:01<00:00, 96.39it/s]\n"
     ]
    },
    {
     "name": "stdout",
     "output_type": "stream",
     "text": [
      "Epoch 6/10, Train Loss: 0.1132, Train Acc: 0.9717, Test Loss: 2.8394, Test Acc: 0.3366\n",
      "Epoch 7/10\n"
     ]
    },
    {
     "name": "stderr",
     "output_type": "stream",
     "text": [
      "100%|██████████| 11/11 [00:00<00:00, 43.22it/s]\n",
      "100%|██████████| 100/100 [00:01<00:00, 96.80it/s]\n"
     ]
    },
    {
     "name": "stdout",
     "output_type": "stream",
     "text": [
      "Epoch 7/10, Train Loss: 0.0971, Train Acc: 0.9700, Test Loss: 2.8510, Test Acc: 0.3345\n",
      "Epoch 8/10\n"
     ]
    },
    {
     "name": "stderr",
     "output_type": "stream",
     "text": [
      "100%|██████████| 11/11 [00:00<00:00, 43.22it/s]\n",
      "100%|██████████| 100/100 [00:01<00:00, 96.82it/s]\n"
     ]
    },
    {
     "name": "stdout",
     "output_type": "stream",
     "text": [
      "Epoch 8/10, Train Loss: 0.0724, Train Acc: 0.9783, Test Loss: 2.8339, Test Acc: 0.3343\n",
      "Epoch 9/10\n"
     ]
    },
    {
     "name": "stderr",
     "output_type": "stream",
     "text": [
      "100%|██████████| 11/11 [00:00<00:00, 43.33it/s]\n",
      "100%|██████████| 100/100 [00:01<00:00, 96.26it/s]\n"
     ]
    },
    {
     "name": "stdout",
     "output_type": "stream",
     "text": [
      "Epoch 9/10, Train Loss: 0.0583, Train Acc: 0.9833, Test Loss: 2.8169, Test Acc: 0.3358\n",
      "Epoch 10/10\n"
     ]
    },
    {
     "name": "stderr",
     "output_type": "stream",
     "text": [
      "100%|██████████| 11/11 [00:00<00:00, 43.23it/s]\n",
      "100%|██████████| 100/100 [00:01<00:00, 96.58it/s]"
     ]
    },
    {
     "name": "stdout",
     "output_type": "stream",
     "text": [
      "Epoch 10/10, Train Loss: 0.0701, Train Acc: 0.9783, Test Loss: 2.8345, Test Acc: 0.3369\n",
      "Finished Training\n",
      "Test loss: 2.8345, Test accuracy: 0.3369\n"
     ]
    },
    {
     "name": "stderr",
     "output_type": "stream",
     "text": [
      "\n"
     ]
    }
   ],
   "source": [
    "from torchvision.models import resnet18, ResNet18_Weights\n",
    "\n",
    "# Define hyperparameters\n",
    "lr = 0.001\n",
    "epochs = 10\n",
    "batch_size = 55\n",
    "\n",
    "# Load training dataset with additional transformations\n",
    "train_dataset = torchvision.datasets.CIFAR10(root=\"\\content\", train=True, download=True, transform=transforms.ToTensor())\n",
    "train_dataset_transformed = torchvision.datasets.CIFAR10(root=\"\\content\", train=True, download=True, transform=transforms.Compose([\n",
    "    transforms.ToTensor(),\n",
    "    transforms.RandomHorizontalFlip(),  # Random horizontal flip\n",
    "]))\n",
    "train_dataset_transformed2 = torchvision.datasets.CIFAR10(root=\"\\content\", train=True, download=True, transform=transforms.Compose([\n",
    "    transforms.ToTensor(),\n",
    "    transforms.RandomVerticalFlip(),  # Random vertical flip\n",
    "]))\n",
    "train_dataset_transformed3 = torchvision.datasets.CIFAR10(root=\"\\content\", train=True, download=True, transform=transforms.Compose([\n",
    "    transforms.ToTensor(),\n",
    "    transforms.RandomRotation(degrees=15),   # Random rotation up to 15 degrees\n",
    "]))\n",
    "train_dataset_transformed4 = torchvision.datasets.CIFAR10(root=\"\\content\", train=True, download=True, transform=transforms.Compose([\n",
    "    transforms.ToTensor(),\n",
    "    transforms.ColorJitter(brightness=0.2, contrast=0.2, saturation=0.2, hue=0.1),  # Random color jitter\n",
    "]))\n",
    "train_dataset_transformed5 = torchvision.datasets.CIFAR10(root=\"\\content\", train=True, download=True, transform=transforms.Compose([\n",
    "    transforms.ToTensor(),\n",
    "    transforms.RandomResizedCrop(32, scale=(0.8, 1.0)),  # Random resized crop\n",
    "]))\n",
    "train_subset = torch.utils.data.Subset(train_dataset, indices=range(100)) \n",
    "train_subset_transformed = torch.utils.data.Subset(train_dataset_transformed, indices=range(100))\n",
    "train_subset_transformed2 = torch.utils.data.Subset(train_dataset_transformed2, indices=range(100))\n",
    "train_subset_transformed3 = torch.utils.data.Subset(train_dataset_transformed3, indices=range(100))\n",
    "train_subset_transformed4 = torch.utils.data.Subset(train_dataset_transformed4, indices=range(100))\n",
    "train_subset_transformed5 = torch.utils.data.Subset(train_dataset_transformed5, indices=range(100))\n",
    "concatenated_dataset = torch.utils.data.ConcatDataset([train_subset, train_subset_transformed, train_subset_transformed2, train_subset_transformed3, train_subset_transformed4, train_subset_transformed5])\n",
    "train_loader = torch.utils.data.DataLoader(concatenated_dataset, batch_size=batch_size, shuffle=True)\n",
    "\n",
    "# Load test dataset\n",
    "test_dataset = torchvision.datasets.CIFAR10(root=\"\\content\", train=False, download=True, transform=transforms.ToTensor())\n",
    "test_loader = torch.utils.data.DataLoader(test_dataset, batch_size=100, shuffle=False)\n",
    "\n",
    "# Prepare the model, device, optimizer, scheduler, and loss function\n",
    "\n",
    "device = torch.device(\"cuda\" if torch.cuda.is_available() else \"cpu\")\n",
    "# Initialize model with the best available weights\n",
    "weights = ResNet18_Weights.DEFAULT\n",
    "model = resnet18(weights=weights).to(device)\n",
    "# Adapt it for CIFAR10\n",
    "model.fc = nn.Linear(512, 10).to(device)\n",
    "\n",
    "\n",
    "optimizer = torch.optim.Adam(model.parameters(), lr=lr)\n",
    "scheduler = torch.optim.lr_scheduler.StepLR(optimizer, step_size=30, gamma=0.1)\n",
    "criterion = torch.nn.CrossEntropyLoss()\n",
    "\n",
    "# Train and test the model\n",
    "history = train_and_test(model, train_loader, test_loader, criterion, optimizer, device, epochs=epochs, scheduler=scheduler)\n",
    "\n",
    "# Print test results from the history\n",
    "last_epoch_results = f\"Test loss: {history['test_loss'][-1]:.4f}, Test accuracy: {history['test_acc'][-1]:.4f}\"\n",
    "print(last_epoch_results)\n",
    "\n",
    "\n",
    "# Storage of the results for the ResNet18 after Data Augmentation model\n",
    "pretrained_resnet18_augmented_train_acc = history['train_acc']\n",
    "pretrained_resnet18_augmented_test_acc = history['test_acc']\n",
    "\n",
    "pretrained_resnet18_augmented_train_acc = [tensor.cpu().numpy() for tensor in pretrained_resnet18_augmented_train_acc]\n",
    "pretrained_resnet18_augmented_train_acc = np.array(pretrained_resnet18_augmented_train_acc)\n",
    "\n",
    "pretrained_resnet18_augmented_test_acc = [tensor.cpu().numpy() for tensor in pretrained_resnet18_augmented_test_acc]\n",
    "pretrained_resnet18_augmented_test_acc = np.array(pretrained_resnet18_augmented_test_acc)"
   ]
  },
  {
   "cell_type": "markdown",
   "metadata": {},
   "source": [
    "| Model | Number of  epochs  | Train accuracy | Test accuracy |\n",
    "|------|------|------|------|\n",
    "|   ResNet18 after Data Augmentation | 10 | 97.83% | 33.69% |"
   ]
  },
  {
   "cell_type": "markdown",
   "metadata": {},
   "source": [
    "After having tested combining pretraining of ResNet18 on Imagenet and augmenting our (labeled) train dataset's size with geometric prior, we get our better results of this whole project, with 33.69% accuracy on this model."
   ]
  },
  {
   "cell_type": "markdown",
   "metadata": {
    "cell_ktag": "GUk74Ejgac/t",
    "id": "sAGp7ddN_2hl"
   },
   "source": [
    "# Weak supervision"
   ]
  },
  {
   "cell_type": "markdown",
   "metadata": {
    "cell_ktag": "GUk74Ejgac/t",
    "id": "wHQRLbC3_2hl"
   },
   "source": [
    "__Bonus \\[open\\] question (up to 3 points) :__ Pick a weakly supervised method that will potentially use $\\mathcal{X}\\cup\\mathcal{X}_{\\text{train}}$ to train a representation (a subset of $\\mathcal{X}$ is also fine). Evaluate it and report the accuracies. You should be careful in the choice of your method, in order to avoid heavy computational effort."
   ]
  },
  {
   "cell_type": "markdown",
   "metadata": {
    "cell_ktag": "GUk74Ejgac/t",
    "id": "rbjhfIvN_2hl"
   },
   "source": []
  },
  {
   "cell_type": "code",
   "execution_count": 6,
   "metadata": {},
   "outputs": [],
   "source": [
    "import os\n",
    "\n",
    "from torch.utils.data import Dataset, DataLoader\n",
    "import torchvision.models as models\n",
    "from torchvision.datasets import CIFAR10\n",
    "from torch.optim import Adam"
   ]
  },
  {
   "cell_type": "code",
   "execution_count": 7,
   "metadata": {},
   "outputs": [],
   "source": [
    "class SimCLR(nn.Module):\n",
    "    def __init__(self, base_model_func, out_dim):\n",
    "        super(SimCLR, self).__init__()\n",
    "        self.encoder = base_model_func(pretrained=False)  # Instantiate the base model\n",
    "        \n",
    "        # Capture in_features from the original fc layer before replacing it\n",
    "        in_features = self.encoder.fc.in_features\n",
    "        \n",
    "        # Replace the classification head with nn.Identity\n",
    "        self.encoder.fc = nn.Identity()\n",
    "        \n",
    "        # Projection head\n",
    "        self.projection_head = nn.Sequential(\n",
    "            nn.Linear(in_features, 512),\n",
    "            nn.ReLU(),\n",
    "            nn.Linear(512, out_dim),\n",
    "        )\n",
    "\n",
    "    def forward(self, x):\n",
    "        features = self.encoder(x)\n",
    "        projections = self.projection_head(features)\n",
    "        return projections\n",
    "  \n",
    "\n",
    "class NTXentLoss(nn.Module):\n",
    "    def __init__(self, temperature, device):\n",
    "        super(NTXentLoss, self).__init__()\n",
    "        self.temperature = temperature\n",
    "        self.device = device\n",
    "        self.criterion = nn.CrossEntropyLoss()\n",
    "\n",
    "    def forward(self, z_i, z_j):\n",
    "        N = z_i.size(0)\n",
    "        device = z_i.device\n",
    "        # Create the combined tensor of z_i and z_j\n",
    "        z = torch.cat((z_i, z_j), dim=0)\n",
    "        # Compute the cosine similarity\n",
    "        sim_matrix = torch.mm(z, z.T) / self.temperature\n",
    "        # For numerical stability purposes\n",
    "        sim_matrix = sim_matrix - torch.max(sim_matrix, dim=1, keepdim=True)[0]\n",
    "        # Construct labels\n",
    "        labels = torch.arange(2*N, device=device)\n",
    "        labels = (labels + N) % (2*N)\n",
    "        # Mask to zero out positive samples' own contribution\n",
    "        sim_matrix.fill_diagonal_(0)\n",
    "        # The logits are the similarity scores\n",
    "        logits = sim_matrix\n",
    "        # print(f\"logits shape: {logits.shape}, labels shape: {labels.shape}\")\n",
    "        loss = self.criterion(logits, labels)\n",
    "        return loss\n",
    "\n",
    "class CIFAR10Pair(Dataset):\n",
    "    def __init__(self, root, train=True, transform=None, download=False):\n",
    "        self.dataset = CIFAR10(root=root, train=train, download=download, transform=None)  # Don't apply transforms here\n",
    "        self.transform = transform  # Apply transformations manually in __getitem__\n",
    "\n",
    "    def __getitem__(self, index):\n",
    "        img, _ = self.dataset[index]\n",
    "\n",
    "        if self.transform:\n",
    "            img1 = self.transform(img)  # Apply transform to the original image\n",
    "            img2 = self.transform(img)  # Apply transform again for a second version\n",
    "\n",
    "        return img1, img2\n",
    "\n",
    "    def __len__(self):\n",
    "        return len(self.dataset)"
   ]
  },
  {
   "cell_type": "code",
   "execution_count": 8,
   "metadata": {},
   "outputs": [
    {
     "name": "stdout",
     "output_type": "stream",
     "text": [
      "device: cuda\n"
     ]
    },
    {
     "name": "stderr",
     "output_type": "stream",
     "text": [
      "/users/eleves-b/2020/celestin.eve/miniconda3/envs/deep-env2/lib/python3.9/site-packages/torchvision/models/_utils.py:208: UserWarning: The parameter 'pretrained' is deprecated since 0.13 and may be removed in the future, please use 'weights' instead.\n",
      "  warnings.warn(\n",
      "/users/eleves-b/2020/celestin.eve/miniconda3/envs/deep-env2/lib/python3.9/site-packages/torchvision/models/_utils.py:223: UserWarning: Arguments other than a weight enum or `None` for 'weights' are deprecated since 0.13 and may be removed in the future. The current behavior is equivalent to passing `weights=None`.\n",
      "  warnings.warn(msg)\n"
     ]
    }
   ],
   "source": [
    "device = torch.device(\"cuda\" if torch.cuda.is_available() else \"cpu\")\n",
    "print(\"device:\",device)\n",
    "\n",
    "# Instantiate the ResNet18 model for SimCLR\n",
    "base_model = models.resnet18  # Fetch the model constructor\n",
    "out_dim = 128  # Output dimension of the projection head\n",
    "\n",
    "model = SimCLR(base_model, out_dim=out_dim).to(device)"
   ]
  },
  {
   "cell_type": "code",
   "execution_count": 9,
   "metadata": {},
   "outputs": [
    {
     "name": "stdout",
     "output_type": "stream",
     "text": [
      "Files already downloaded and verified\n",
      "Files already downloaded and verified\n"
     ]
    }
   ],
   "source": [
    "transform = transforms.Compose([\n",
    "    transforms.RandomResizedCrop(size=32),\n",
    "    transforms.RandomHorizontalFlip(),\n",
    "    transforms.ToTensor(),  # Ensure this is the final transform\n",
    "])\n",
    "\n",
    "# Instantiate your dataset and data loader with the correct transformations\n",
    "full_train_dataset = CIFAR10Pair(root='\\content', train=True, transform=transform, download=True)\n",
    "full_train_loader = DataLoader(full_train_dataset, batch_size=16, shuffle=True, num_workers=4)\n",
    "\n",
    "\n",
    "# CIFAR10 test dataset for evaluation\n",
    "test_dataset = CIFAR10(root='\\content', train=False, transform=transforms.ToTensor(), download=True)\n",
    "test_loader = DataLoader(test_dataset, batch_size=16, shuffle=False, num_workers=4)"
   ]
  },
  {
   "cell_type": "code",
   "execution_count": null,
   "metadata": {},
   "outputs": [],
   "source": [
    "# Assuming full_train_loader is defined\n",
    "# Define optimizer and loss function\n",
    "optimizer = Adam(model.parameters(), lr=1e-3)\n",
    "criterion = NTXentLoss(temperature=0.5, device=device)\n",
    "\n",
    "epochs = 10  # You may adjust this number based on your computational budget\n",
    "\n",
    "checkpoint_dir = './checkpoints'  # Directory where to save the checkpoints\n",
    "\n",
    "# Create the checkpoint directory if it does not exist\n",
    "if not os.path.exists(checkpoint_dir):\n",
    "    os.makedirs(checkpoint_dir)\n",
    "best_loss = float('inf')  # Initialize with a very high value\n",
    "\n",
    "for epoch in tqdm(range(epochs), desc='Pretraining'):\n",
    "    model.train()\n",
    "    total_loss = 0\n",
    "    for (images_i, images_j) in full_train_loader:\n",
    "        images_i, images_j = images_i.to(device), images_j.to(device)\n",
    "        \n",
    "        # Forward pass through the model to get projections\n",
    "        z_i = model(images_i)\n",
    "        z_j = model(images_j)\n",
    "        \n",
    "        # Compute contrastive loss\n",
    "        loss = criterion(z_i, z_j)\n",
    "        \n",
    "        # Backward pass and optimize\n",
    "        optimizer.zero_grad()\n",
    "        loss.backward()\n",
    "        optimizer.step()\n",
    "        \n",
    "        total_loss += loss.item()\n",
    "    \n",
    "    average_loss = total_loss / len(full_train_loader)\n",
    "    print(f'Epoch {epoch+1}, Loss: {average_loss}')\n",
    "\n",
    "    # Check if the current model is the best so far\n",
    "    if average_loss < best_loss:\n",
    "        best_loss = average_loss  # Update best loss\n",
    "        # Save checkpoint for the best model\n",
    "        checkpoint_path = os.path.join(checkpoint_dir, 'best_checkpoint.pth')\n",
    "        torch.save({\n",
    "            'epoch': epoch + 1,\n",
    "            'model_state_dict': model.state_dict(),\n",
    "            'optimizer_state_dict': optimizer.state_dict(),\n",
    "            'loss': best_loss,\n",
    "        }, checkpoint_path)\n",
    "\n",
    "        print(f\"Best model checkpoint saved to {checkpoint_path}\")"
   ]
  },
  {
   "cell_type": "code",
   "execution_count": null,
   "metadata": {},
   "outputs": [],
   "source": [
    "checkpoint_path = './checkpoints/best_checkpoint.pth'\n",
    "\n",
    "# Load the checkpoint\n",
    "checkpoint = torch.load(checkpoint_path, map_location=device)\n",
    "\n",
    "# Assuming your SimCLR model is defined as 'model' and is already on the correct device\n",
    "model.load_state_dict(checkpoint['model_state_dict'])\n",
    "\n",
    "print(\"Checkpoint loaded successfully.\")"
   ]
  },
  {
   "cell_type": "code",
   "execution_count": 11,
   "metadata": {},
   "outputs": [],
   "source": [
    "class FineTunedModel(nn.Module):\n",
    "    def __init__(self, simclr_model, num_classes=10):\n",
    "        super(FineTunedModel, self).__init__()\n",
    "        # Extract the encoder part of the SimCLR model\n",
    "        self.feature_extractor = nn.Sequential(*list(simclr_model.children())[0].children())[:-1]\n",
    "        \n",
    "        # Add a new classifier layer\n",
    "        # Assuming the feature extractor outputs features of size 512 for ResNet18\n",
    "        self.classifier = nn.Linear(512, num_classes)\n",
    "        \n",
    "    def forward(self, x):\n",
    "        # Forward pass through the feature extractor\n",
    "        x = self.feature_extractor(x)\n",
    "        # Global average pooling\n",
    "        x = torch.mean(x, dim=[2, 3])\n",
    "        # Classify\n",
    "        x = self.classifier(x)\n",
    "        return x\n",
    "\n",
    "# Instantiate the fine-tuned model\n",
    "fine_tuned_model = FineTunedModel(model).to(device)"
   ]
  },
  {
   "cell_type": "code",
   "execution_count": 12,
   "metadata": {},
   "outputs": [
    {
     "name": "stdout",
     "output_type": "stream",
     "text": [
      "Files already downloaded and verified\n",
      "Files already downloaded and verified\n",
      "Epoch 1/10\n"
     ]
    },
    {
     "name": "stderr",
     "output_type": "stream",
     "text": [
      "100%|██████████| 5/5 [00:00<00:00, 53.51it/s]\n",
      "100%|██████████| 100/100 [00:01<00:00, 67.10it/s]\n"
     ]
    },
    {
     "name": "stdout",
     "output_type": "stream",
     "text": [
      "Epoch 1/10, Train Loss: 2.4454, Train Acc: 0.2100, Test Loss: 2.3167, Test Acc: 0.1025\n",
      "Epoch 2/10\n"
     ]
    },
    {
     "name": "stderr",
     "output_type": "stream",
     "text": [
      "100%|██████████| 5/5 [00:00<00:00, 107.32it/s]\n",
      "100%|██████████| 100/100 [00:01<00:00, 67.10it/s]\n"
     ]
    },
    {
     "name": "stdout",
     "output_type": "stream",
     "text": [
      "Epoch 2/10, Train Loss: 1.4158, Train Acc: 0.6400, Test Loss: 2.4967, Test Acc: 0.1006\n",
      "Epoch 3/10\n"
     ]
    },
    {
     "name": "stderr",
     "output_type": "stream",
     "text": [
      "100%|██████████| 5/5 [00:00<00:00, 107.87it/s]\n",
      "100%|██████████| 100/100 [00:01<00:00, 66.95it/s]\n"
     ]
    },
    {
     "name": "stdout",
     "output_type": "stream",
     "text": [
      "Epoch 3/10, Train Loss: 0.5589, Train Acc: 0.8000, Test Loss: 2.8979, Test Acc: 0.1054\n",
      "Epoch 4/10\n"
     ]
    },
    {
     "name": "stderr",
     "output_type": "stream",
     "text": [
      "100%|██████████| 5/5 [00:00<00:00, 105.08it/s]\n",
      "100%|██████████| 100/100 [00:01<00:00, 66.87it/s]\n"
     ]
    },
    {
     "name": "stdout",
     "output_type": "stream",
     "text": [
      "Epoch 4/10, Train Loss: 0.2643, Train Acc: 0.9000, Test Loss: 3.2441, Test Acc: 0.1255\n",
      "Epoch 5/10\n"
     ]
    },
    {
     "name": "stderr",
     "output_type": "stream",
     "text": [
      "100%|██████████| 5/5 [00:00<00:00, 106.93it/s]\n",
      "100%|██████████| 100/100 [00:01<00:00, 66.91it/s]\n"
     ]
    },
    {
     "name": "stdout",
     "output_type": "stream",
     "text": [
      "Epoch 5/10, Train Loss: 0.3605, Train Acc: 0.9100, Test Loss: 3.6795, Test Acc: 0.1379\n",
      "Epoch 6/10\n"
     ]
    },
    {
     "name": "stderr",
     "output_type": "stream",
     "text": [
      "100%|██████████| 5/5 [00:00<00:00, 106.91it/s]\n",
      "100%|██████████| 100/100 [00:01<00:00, 66.70it/s]\n"
     ]
    },
    {
     "name": "stdout",
     "output_type": "stream",
     "text": [
      "Epoch 6/10, Train Loss: 0.1086, Train Acc: 0.9700, Test Loss: 3.3134, Test Acc: 0.1665\n",
      "Epoch 7/10\n"
     ]
    },
    {
     "name": "stderr",
     "output_type": "stream",
     "text": [
      "100%|██████████| 5/5 [00:00<00:00, 107.50it/s]\n",
      "100%|██████████| 100/100 [00:01<00:00, 65.92it/s]\n"
     ]
    },
    {
     "name": "stdout",
     "output_type": "stream",
     "text": [
      "Epoch 7/10, Train Loss: 0.0605, Train Acc: 1.0000, Test Loss: 3.2097, Test Acc: 0.1775\n",
      "Epoch 8/10\n"
     ]
    },
    {
     "name": "stderr",
     "output_type": "stream",
     "text": [
      "100%|██████████| 5/5 [00:00<00:00, 108.14it/s]\n",
      "100%|██████████| 100/100 [00:01<00:00, 66.94it/s]\n"
     ]
    },
    {
     "name": "stdout",
     "output_type": "stream",
     "text": [
      "Epoch 8/10, Train Loss: 0.0453, Train Acc: 1.0000, Test Loss: 3.1682, Test Acc: 0.1909\n",
      "Epoch 9/10\n"
     ]
    },
    {
     "name": "stderr",
     "output_type": "stream",
     "text": [
      "100%|██████████| 5/5 [00:00<00:00, 107.22it/s]\n",
      "100%|██████████| 100/100 [00:01<00:00, 67.15it/s]\n"
     ]
    },
    {
     "name": "stdout",
     "output_type": "stream",
     "text": [
      "Epoch 9/10, Train Loss: 0.0800, Train Acc: 0.9800, Test Loss: 3.1453, Test Acc: 0.2077\n",
      "Epoch 10/10\n"
     ]
    },
    {
     "name": "stderr",
     "output_type": "stream",
     "text": [
      "100%|██████████| 5/5 [00:00<00:00, 106.50it/s]\n",
      "100%|██████████| 100/100 [00:01<00:00, 66.96it/s]"
     ]
    },
    {
     "name": "stdout",
     "output_type": "stream",
     "text": [
      "Epoch 10/10, Train Loss: 0.0199, Train Acc: 1.0000, Test Loss: 3.1359, Test Acc: 0.2140\n",
      "Finished Training\n",
      "Test loss: 3.1359, Test accuracy: 0.2140\n"
     ]
    },
    {
     "name": "stderr",
     "output_type": "stream",
     "text": [
      "\n"
     ]
    }
   ],
   "source": [
    "# Define hyperparameters\n",
    "lr = 0.001\n",
    "epochs = 10\n",
    "batch_size = 20\n",
    "\n",
    "# Define transformations (adjust as necessary for your model's requirements)\n",
    "transform = transforms.Compose([\n",
    "    transforms.ToTensor(),\n",
    "    transforms.Normalize((0.5, 0.5, 0.5), (0.5, 0.5, 0.5))\n",
    "])\n",
    "\n",
    "# Load training dataset and create a subset and loader\n",
    "train_dataset = CIFAR10(root=\"\\content\", train=True, download=True, transform=transform)\n",
    "train_subset = torch.utils.data.Subset(train_dataset, indices=range(100))  # Subset of 100 samples for fine-tuning\n",
    "train_loader = torch.utils.data.DataLoader(train_subset, batch_size=batch_size, shuffle=True)\n",
    "\n",
    "# Load test dataset and create a loader\n",
    "test_dataset = CIFAR10(root=\"\\content\", train=False, download=True, transform=transform)\n",
    "test_loader = torch.utils.data.DataLoader(test_dataset, batch_size=100, shuffle=False)  # Larger batch size for testing\n",
    "\n",
    "# Assuming fine_tuned_model is already defined as shown earlier\n",
    "# Ensure it's on the correct device\n",
    "fine_tuned_model = fine_tuned_model.to(device)\n",
    "\n",
    "# Define the optimizer, scheduler, and loss function\n",
    "optimizer = torch.optim.Adam(fine_tuned_model.parameters(), lr=lr)\n",
    "scheduler = torch.optim.lr_scheduler.StepLR(optimizer, step_size=30, gamma=0.1)  # Adjust step_size as needed\n",
    "criterion = nn.CrossEntropyLoss()\n",
    "\n",
    "# Train and test the fine-tuned model\n",
    "history = train_and_test(fine_tuned_model, train_loader, test_loader, criterion, optimizer, device, epochs=epochs, scheduler=scheduler)\n",
    "\n",
    "# Print test results from the history\n",
    "last_epoch_results = f\"Test loss: {history['test_loss'][-1]:.4f}, Test accuracy: {history['test_acc'][-1]:.4f}\"\n",
    "print(last_epoch_results)"
   ]
  },
  {
   "cell_type": "markdown",
   "metadata": {},
   "source": [
    "It seems that our implementation of SimCLR's self-supervised pretraining is not relevant. It takes quite a lot of time to pretrain with a reasonable batch size. Moreover, finetuning on our small CIFAR10 trainset does not give better results than our best pretrained model with finetuning on augmented dataset."
   ]
  }
 ],
 "metadata": {
  "colab": {
   "provenance": []
  },
  "kernelspec": {
   "display_name": "Python 3 (ipykernel)",
   "language": "python",
   "name": "python3"
  },
  "kfiletag": "GUk74Ejgac/t",
  "language_info": {
   "codemirror_mode": {
    "name": "ipython",
    "version": 3
   },
   "file_extension": ".py",
   "mimetype": "text/x-python",
   "name": "python",
   "nbconvert_exporter": "python",
   "pygments_lexer": "ipython3",
   "version": "3.9.18"
  }
 },
 "nbformat": 4,
 "nbformat_minor": 1
}
