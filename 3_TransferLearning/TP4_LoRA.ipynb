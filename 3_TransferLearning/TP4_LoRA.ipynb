{
 "cells": [
  {
   "cell_type": "markdown",
   "metadata": {
    "cell_ktag": "tnUSoEpbIv5j"
   },
   "source": [
    "# Implementing a Low Rank Adapter (LoRA) (8 points)\n",
    "\n",
    "Objective of this exercice:\n",
    "\n",
    "Given a neural network (NN) classifier pre-trained on the subset of MNIST containing digits 0...4,\n",
    "you will fine-tune this NN, by optimizing all weights, and compare the test accuracy of this baseline model versus fine-tuning a LoRA.\n",
    "\n",
    "The neural network that we will define is artificially big because LoRA is usually applied to Large Language Models of billions of parameters\n",
    "\n",
    "**What is a LoRA ?**\n",
    "\n",
    "LoRA (Low-Rank Adaptation of Large Language Models) is a popular and lightweight training technique that significantly reduces the number of trainable parameters. It works by inserting a smaller number of new weights into the model and only these are trained. This makes training with LoRA much faster, memory-efficient, and produces smaller model weights (a few hundred MBs), which are easier to store and share.\n",
    "\n",
    "<div style=\"display: flex; justify-content: space-between;\">\n",
    "    <img src='https://www.lri.fr/~gcharpia/deeppractice/2024/TP4/imgs/lora_fig.png' style=\"width: 30%;\">\n",
    "    <img src='https://www.lri.fr/~gcharpia/deeppractice/2024/TP4/imgs/lora_text.png' style=\"width: 70%;\">\n",
    "</div>\n",
    "\n",
    "\n",
    "\n",
    "References: \n",
    "\n",
    "https://arxiv.org/pdf/2106.09685.pdf\n",
    "\n",
    "https://lightning.ai/pages/community/tutorial/lora-llm/\n",
    "\n",
    "https://huggingface.co/docs/diffusers/main/en/training/lora\n"
   ]
  },
  {
   "cell_type": "code",
   "execution_count": 1,
   "metadata": {
    "cell_ktag": "tnUSoEpbIv5j"
   },
   "outputs": [],
   "source": [
    "import torch\n",
    "import torch.nn as nn\n",
    "import torchvision.datasets as datasets\n",
    "from torch.utils.data import DataLoader, random_split, Subset\n",
    "import torch.nn.utils.parametrize as parametrize\n",
    "import torchvision.transforms as transforms\n",
    "\n",
    "import numpy as np\n",
    "import matplotlib.pyplot as plt\n",
    "\n",
    "from tqdm import tqdm\n",
    "\n",
    "# Make torch deterministic\n",
    "_ = torch.manual_seed(0)\n",
    "\n",
    "\n",
    "# Decide which device we want to run on\n",
    "ngpu=1\n",
    "device = torch.device(\"cuda:0\" if (torch.cuda.is_available() and ngpu > 0) else \"cpu\")\n",
    "\n",
    "if device.type == 'cuda':\n",
    "    print(torch.cuda.get_device_name(0))\n",
    "    print('Memory Usage:')\n",
    "    print('Allocated:', round(torch.cuda.memory_allocated(0)/1024**3,1), 'GB')\n",
    "    print('Cached:   ', round(torch.cuda.memory_reserved(0)/1024**3,1), 'GB')"
   ]
  },
  {
   "cell_type": "code",
   "execution_count": 2,
   "metadata": {
    "cell_ktag": "tnUSoEpbIv5j"
   },
   "outputs": [
    {
     "name": "stdout",
     "output_type": "stream",
     "text": [
      "Downloading http://yann.lecun.com/exdb/mnist/train-images-idx3-ubyte.gz\n",
      "Downloading http://yann.lecun.com/exdb/mnist/train-images-idx3-ubyte.gz to ./data/MNIST/raw/train-images-idx3-ubyte.gz\n"
     ]
    },
    {
     "name": "stderr",
     "output_type": "stream",
     "text": [
      "100%|██████████| 9912422/9912422 [00:00<00:00, 62746035.32it/s]\n"
     ]
    },
    {
     "name": "stdout",
     "output_type": "stream",
     "text": [
      "Extracting ./data/MNIST/raw/train-images-idx3-ubyte.gz to ./data/MNIST/raw\n",
      "\n",
      "Downloading http://yann.lecun.com/exdb/mnist/train-labels-idx1-ubyte.gz\n",
      "Downloading http://yann.lecun.com/exdb/mnist/train-labels-idx1-ubyte.gz to ./data/MNIST/raw/train-labels-idx1-ubyte.gz\n"
     ]
    },
    {
     "name": "stderr",
     "output_type": "stream",
     "text": [
      "100%|██████████| 28881/28881 [00:00<00:00, 104607680.33it/s]\n"
     ]
    },
    {
     "name": "stdout",
     "output_type": "stream",
     "text": [
      "Extracting ./data/MNIST/raw/train-labels-idx1-ubyte.gz to ./data/MNIST/raw\n",
      "\n",
      "Downloading http://yann.lecun.com/exdb/mnist/t10k-images-idx3-ubyte.gz\n",
      "Downloading http://yann.lecun.com/exdb/mnist/t10k-images-idx3-ubyte.gz to ./data/MNIST/raw/t10k-images-idx3-ubyte.gz\n"
     ]
    },
    {
     "name": "stderr",
     "output_type": "stream",
     "text": [
      "100%|██████████| 1648877/1648877 [00:00<00:00, 38820826.37it/s]\n"
     ]
    },
    {
     "name": "stdout",
     "output_type": "stream",
     "text": [
      "Extracting ./data/MNIST/raw/t10k-images-idx3-ubyte.gz to ./data/MNIST/raw\n",
      "\n",
      "Downloading http://yann.lecun.com/exdb/mnist/t10k-labels-idx1-ubyte.gz\n",
      "Downloading http://yann.lecun.com/exdb/mnist/t10k-labels-idx1-ubyte.gz to ./data/MNIST/raw/t10k-labels-idx1-ubyte.gz\n"
     ]
    },
    {
     "name": "stderr",
     "output_type": "stream",
     "text": [
      "100%|██████████| 4542/4542 [00:00<00:00, 27730027.32it/s]\n"
     ]
    },
    {
     "name": "stdout",
     "output_type": "stream",
     "text": [
      "Extracting ./data/MNIST/raw/t10k-labels-idx1-ubyte.gz to ./data/MNIST/raw\n",
      "\n"
     ]
    }
   ],
   "source": [
    "#Normalizing MNIST\n",
    "#These values are the mean and std deviation of the MNIST dataset.\n",
    "transform = transforms.Compose([transforms.ToTensor(), transforms.Normalize((0.1307,), (0.3081,))])\n",
    "\n",
    "# load MNIST \n",
    "mnist_train = datasets.MNIST(root='./data', train=True, download=True, transform=transform)\n",
    "mnist_test = datasets.MNIST(root='./data', train=False, download=True, transform=transform)\n",
    "\n",
    "# keep images of desired labels\n",
    "class_names = [0, 1, 2, 3, 4]\n",
    "\n",
    "# create a mask to filter indices for each label\n",
    "train_mask = torch.tensor([label in class_names for label in mnist_train.targets])\n",
    "test_mask = torch.tensor([label in class_names for label in mnist_test.targets])\n",
    "\n",
    "# Create Subset datasets for train, validation, and test\n",
    "train_dataset = Subset(mnist_train, torch.where(train_mask)[0])\n",
    "test_dataset = Subset(mnist_test, torch.where(test_mask)[0])\n",
    "\n",
    "# split train into train & validation\n",
    "train_size = int(0.7 * len(train_dataset))\n",
    "val_size = len(train_dataset) - train_size\n",
    "train_dataset, val_dataset = random_split(train_dataset, [train_size, val_size])\n",
    "\n",
    "batch_size=128\n",
    "\n",
    "train_loader = DataLoader(train_dataset, batch_size=batch_size, shuffle=True)\n",
    "val_loader = DataLoader(val_dataset, batch_size=batch_size, shuffle=False)\n",
    "test_loader = DataLoader(test_dataset, batch_size=batch_size, shuffle=False)\n"
   ]
  },
  {
   "cell_type": "code",
   "execution_count": 3,
   "metadata": {
    "cell_ktag": "tnUSoEpbIv5j"
   },
   "outputs": [
    {
     "data": {
      "text/plain": [
       "(21417, 9179, 5139)"
      ]
     },
     "execution_count": 3,
     "metadata": {},
     "output_type": "execute_result"
    }
   ],
   "source": [
    "len(train_dataset),len(val_dataset),len(test_dataset)"
   ]
  },
  {
   "cell_type": "markdown",
   "metadata": {
    "cell_ktag": "tnUSoEpbIv5j"
   },
   "source": [
    "# Architecture of the classifier"
   ]
  },
  {
   "cell_type": "code",
   "execution_count": 4,
   "metadata": {
    "cell_ktag": "tnUSoEpbIv5j"
   },
   "outputs": [],
   "source": [
    "#note that last layer has 5 neurons for digits 0...4\n",
    "#and the same layer will be used for 5...9\n",
    "\n",
    "class classifier(nn.Module):\n",
    "    def __init__(self, hidden_size_1=1000, hidden_size_2=2000):\n",
    "        super(classifier,self).__init__()\n",
    "        \n",
    "        self.linear1 = nn.Linear(28*28, hidden_size_1) \n",
    "        self.linear2 = nn.Linear(hidden_size_1, hidden_size_2) \n",
    "        self.linear3 = nn.Linear(hidden_size_2, 5)\n",
    "        self.relu = nn.ReLU()\n",
    "        \n",
    "        \n",
    "        self.dropout = nn.Dropout(0.5)\n",
    "\n",
    "\n",
    "\n",
    "    def forward(self, img):\n",
    "        x = img.view(-1, 28*28)\n",
    "        x = self.relu(self.linear1(x))\n",
    "        x = self.dropout(x)\n",
    "        x = self.relu(self.linear2(x))\n",
    "        x = self.dropout(x)\n",
    "        x = self.linear3(x)\n",
    "        return x\n",
    "\n",
    "net = classifier().to(device)"
   ]
  },
  {
   "cell_type": "markdown",
   "metadata": {
    "cell_ktag": "tnUSoEpbIv5j"
   },
   "source": [
    "# Code for training loop & validation"
   ]
  },
  {
   "cell_type": "code",
   "execution_count": 5,
   "metadata": {
    "cell_ktag": "tnUSoEpbIv5j"
   },
   "outputs": [],
   "source": [
    "#We set a lower learning rate when we will fine-tune on the subset of MNIST containing digits 5...9\n",
    "#so that fine-tuning don't change pre-training weights too much.\n",
    "\n",
    "#Since the NN is big, we add weight decay to regularize it otherwise it will overfit too much too fast\n",
    "def adjust_optimizer(name, parameters):\n",
    "    lr = 0.001\n",
    "    if name == \"subset2\":\n",
    "        lr = 0.00001\n",
    "    return torch.optim.Adam(parameters, lr=lr, weight_decay=0.0001)\n",
    "\n",
    "#to do label prediction during training we use argmax on the last layer, which output a vector of 5 components\n",
    "#so y_hat will be between 0 and 4, we thus have to \"translate\" y_true so that it's in the right range\n",
    "\n",
    "# the name variable will be used later on to recognize on which dataset we are\n",
    "# and do the corresponding label translation, and set the good hyperparameters\n",
    "def process_labels(name, labels):\n",
    "    if 'subset2' in name:\n",
    "        labels = labels - 5\n",
    "    return labels\n",
    "\n",
    "\n",
    "def run_epoch(loader, name, net, optimizer, cross_el, total_iterations_limit=None):\n",
    "    net.train() if optimizer else net.eval()\n",
    "    \n",
    "    loss_sum = 0\n",
    "    num_iterations = 0\n",
    "\n",
    "    data_iterator = tqdm(loader, desc=f'Training' if optimizer else f'Validation')\n",
    "    if total_iterations_limit is not None:\n",
    "        data_iterator.total = total_iterations_limit\n",
    "\n",
    "    for data in data_iterator:\n",
    "        num_iterations += 1\n",
    "        x, y = data\n",
    "        x, y = x.to(device), y.to(device)\n",
    "        x = x.view(-1, 28*28)\n",
    "        optimizer.zero_grad() if optimizer else None\n",
    "        output = net(x)\n",
    "        loss = cross_el(output, process_labels(name, y))\n",
    "        loss_sum += loss.item()\n",
    "        avg_loss = loss_sum / num_iterations\n",
    "        data_iterator.set_postfix(loss=avg_loss)\n",
    "        if optimizer:\n",
    "            loss.backward()\n",
    "            optimizer.step()\n",
    "\n",
    "    return loss_sum / len(data_iterator)\n",
    "\n",
    "def train(train_loader, val_loader, name, net, epochs=5, total_iterations_limit=None):\n",
    "    cross_el = nn.CrossEntropyLoss()\n",
    "    optimizer = adjust_optimizer(name, net.parameters())\n",
    "    \n",
    "    total_iterations = 0\n",
    "    train_loss_lst, val_loss_lst = [], []\n",
    "\n",
    "    for epoch in range(epochs):\n",
    "        train_loss = run_epoch(train_loader, name, net, optimizer, cross_el, total_iterations_limit)\n",
    "        print(f\"Epoch [{epoch+1}/{epochs}] Train Loss: {train_loss}\")\n",
    "        train_loss_lst.append(train_loss)\n",
    "            \n",
    "        val_loss = run_epoch(val_loader, name, net, None, cross_el, total_iterations_limit)\n",
    "        print(f\"Epoch [{epoch+1}/{epochs}] Validation Loss: {val_loss}\")\n",
    "        val_loss_lst.append(val_loss)\n",
    "        \n",
    "    return train_loss_lst, val_loss_lst"
   ]
  },
  {
   "cell_type": "code",
   "execution_count": 6,
   "metadata": {
    "cell_ktag": "tnUSoEpbIv5j"
   },
   "outputs": [],
   "source": [
    "def plot_losses(train_loss_lst, val_loss_lst):\n",
    "    plt.plot(train_loss_lst,label=\"train\")\n",
    "    plt.plot(val_loss_lst,label=\"val\")\n",
    "    plt.legend()"
   ]
  },
  {
   "cell_type": "markdown",
   "metadata": {
    "cell_ktag": "tnUSoEpbIv5j"
   },
   "source": [
    "# If you have GPU access, or simply want to train your own model, run this code"
   ]
  },
  {
   "cell_type": "code",
   "execution_count": 6,
   "metadata": {
    "cell_ktag": "tnUSoEpbIv5j"
   },
   "outputs": [
    {
     "name": "stderr",
     "output_type": "stream",
     "text": [
      "Training: 100%|██████████████████| 168/168 [00:01<00:00, 107.89it/s, loss=0.149]\n"
     ]
    },
    {
     "name": "stdout",
     "output_type": "stream",
     "text": [
      "Epoch [1/30] Train Loss: 0.14933186718484476\n"
     ]
    },
    {
     "name": "stderr",
     "output_type": "stream",
     "text": [
      "Validation: 100%|█████████████████| 72/72 [00:00<00:00, 154.46it/s, loss=0.0629]\n"
     ]
    },
    {
     "name": "stdout",
     "output_type": "stream",
     "text": [
      "Epoch [1/30] Validation Loss: 0.06286703370925453\n"
     ]
    },
    {
     "name": "stderr",
     "output_type": "stream",
     "text": [
      "Training: 100%|█████████████████| 168/168 [00:01<00:00, 137.21it/s, loss=0.0693]\n"
     ]
    },
    {
     "name": "stdout",
     "output_type": "stream",
     "text": [
      "Epoch [2/30] Train Loss: 0.0692892816178279\n"
     ]
    },
    {
     "name": "stderr",
     "output_type": "stream",
     "text": [
      "Validation: 100%|█████████████████| 72/72 [00:00<00:00, 146.92it/s, loss=0.0611]\n"
     ]
    },
    {
     "name": "stdout",
     "output_type": "stream",
     "text": [
      "Epoch [2/30] Validation Loss: 0.061095939004897244\n"
     ]
    },
    {
     "name": "stderr",
     "output_type": "stream",
     "text": [
      "Training: 100%|█████████████████| 168/168 [00:01<00:00, 132.72it/s, loss=0.0573]\n"
     ]
    },
    {
     "name": "stdout",
     "output_type": "stream",
     "text": [
      "Epoch [3/30] Train Loss: 0.05725510023157334\n"
     ]
    },
    {
     "name": "stderr",
     "output_type": "stream",
     "text": [
      "Validation: 100%|█████████████████| 72/72 [00:00<00:00, 156.70it/s, loss=0.0551]\n"
     ]
    },
    {
     "name": "stdout",
     "output_type": "stream",
     "text": [
      "Epoch [3/30] Validation Loss: 0.05512118190462287\n"
     ]
    },
    {
     "name": "stderr",
     "output_type": "stream",
     "text": [
      "Training: 100%|█████████████████| 168/168 [00:01<00:00, 136.25it/s, loss=0.0455]\n"
     ]
    },
    {
     "name": "stdout",
     "output_type": "stream",
     "text": [
      "Epoch [4/30] Train Loss: 0.04553046500604112\n"
     ]
    },
    {
     "name": "stderr",
     "output_type": "stream",
     "text": [
      "Validation: 100%|█████████████████| 72/72 [00:00<00:00, 158.39it/s, loss=0.0428]\n"
     ]
    },
    {
     "name": "stdout",
     "output_type": "stream",
     "text": [
      "Epoch [4/30] Validation Loss: 0.04281151670632729\n"
     ]
    },
    {
     "name": "stderr",
     "output_type": "stream",
     "text": [
      "Training: 100%|█████████████████| 168/168 [00:01<00:00, 137.87it/s, loss=0.0443]\n"
     ]
    },
    {
     "name": "stdout",
     "output_type": "stream",
     "text": [
      "Epoch [5/30] Train Loss: 0.044287869350574466\n"
     ]
    },
    {
     "name": "stderr",
     "output_type": "stream",
     "text": [
      "Validation: 100%|█████████████████| 72/72 [00:00<00:00, 157.15it/s, loss=0.0458]\n"
     ]
    },
    {
     "name": "stdout",
     "output_type": "stream",
     "text": [
      "Epoch [5/30] Validation Loss: 0.045809944667982765\n"
     ]
    },
    {
     "name": "stderr",
     "output_type": "stream",
     "text": [
      "Training: 100%|█████████████████| 168/168 [00:01<00:00, 136.49it/s, loss=0.0389]\n"
     ]
    },
    {
     "name": "stdout",
     "output_type": "stream",
     "text": [
      "Epoch [6/30] Train Loss: 0.03889225736479386\n"
     ]
    },
    {
     "name": "stderr",
     "output_type": "stream",
     "text": [
      "Validation: 100%|██████████████████| 72/72 [00:00<00:00, 149.50it/s, loss=0.055]\n"
     ]
    },
    {
     "name": "stdout",
     "output_type": "stream",
     "text": [
      "Epoch [6/30] Validation Loss: 0.05495715997272378\n"
     ]
    },
    {
     "name": "stderr",
     "output_type": "stream",
     "text": [
      "Training: 100%|█████████████████| 168/168 [00:01<00:00, 139.79it/s, loss=0.0387]\n"
     ]
    },
    {
     "name": "stdout",
     "output_type": "stream",
     "text": [
      "Epoch [7/30] Train Loss: 0.03872360478756794\n"
     ]
    },
    {
     "name": "stderr",
     "output_type": "stream",
     "text": [
      "Validation: 100%|█████████████████| 72/72 [00:00<00:00, 157.07it/s, loss=0.0342]\n"
     ]
    },
    {
     "name": "stdout",
     "output_type": "stream",
     "text": [
      "Epoch [7/30] Validation Loss: 0.03422206855935252\n"
     ]
    },
    {
     "name": "stderr",
     "output_type": "stream",
     "text": [
      "Training: 100%|█████████████████| 168/168 [00:01<00:00, 137.86it/s, loss=0.0327]\n"
     ]
    },
    {
     "name": "stdout",
     "output_type": "stream",
     "text": [
      "Epoch [8/30] Train Loss: 0.0327019439781517\n"
     ]
    },
    {
     "name": "stderr",
     "output_type": "stream",
     "text": [
      "Validation: 100%|█████████████████| 72/72 [00:00<00:00, 155.21it/s, loss=0.0373]\n"
     ]
    },
    {
     "name": "stdout",
     "output_type": "stream",
     "text": [
      "Epoch [8/30] Validation Loss: 0.03734635477141839\n"
     ]
    },
    {
     "name": "stderr",
     "output_type": "stream",
     "text": [
      "Training: 100%|█████████████████| 168/168 [00:01<00:00, 135.68it/s, loss=0.0356]\n"
     ]
    },
    {
     "name": "stdout",
     "output_type": "stream",
     "text": [
      "Epoch [9/30] Train Loss: 0.03560796978507867\n"
     ]
    },
    {
     "name": "stderr",
     "output_type": "stream",
     "text": [
      "Validation: 100%|█████████████████| 72/72 [00:00<00:00, 155.37it/s, loss=0.0409]\n"
     ]
    },
    {
     "name": "stdout",
     "output_type": "stream",
     "text": [
      "Epoch [9/30] Validation Loss: 0.04089845901398803\n"
     ]
    },
    {
     "name": "stderr",
     "output_type": "stream",
     "text": [
      "Training: 100%|█████████████████| 168/168 [00:01<00:00, 136.81it/s, loss=0.0343]\n"
     ]
    },
    {
     "name": "stdout",
     "output_type": "stream",
     "text": [
      "Epoch [10/30] Train Loss: 0.034252971674591425\n"
     ]
    },
    {
     "name": "stderr",
     "output_type": "stream",
     "text": [
      "Validation: 100%|█████████████████| 72/72 [00:00<00:00, 153.90it/s, loss=0.0388]\n"
     ]
    },
    {
     "name": "stdout",
     "output_type": "stream",
     "text": [
      "Epoch [10/30] Validation Loss: 0.03882684804496724\n"
     ]
    },
    {
     "name": "stderr",
     "output_type": "stream",
     "text": [
      "Training: 100%|█████████████████| 168/168 [00:01<00:00, 138.73it/s, loss=0.0331]\n"
     ]
    },
    {
     "name": "stdout",
     "output_type": "stream",
     "text": [
      "Epoch [11/30] Train Loss: 0.03305167252082832\n"
     ]
    },
    {
     "name": "stderr",
     "output_type": "stream",
     "text": [
      "Validation: 100%|█████████████████| 72/72 [00:00<00:00, 155.00it/s, loss=0.0454]\n"
     ]
    },
    {
     "name": "stdout",
     "output_type": "stream",
     "text": [
      "Epoch [11/30] Validation Loss: 0.04540025969092514\n"
     ]
    },
    {
     "name": "stderr",
     "output_type": "stream",
     "text": [
      "Training: 100%|█████████████████| 168/168 [00:01<00:00, 135.51it/s, loss=0.0301]\n"
     ]
    },
    {
     "name": "stdout",
     "output_type": "stream",
     "text": [
      "Epoch [12/30] Train Loss: 0.03012808299432176\n"
     ]
    },
    {
     "name": "stderr",
     "output_type": "stream",
     "text": [
      "Validation: 100%|█████████████████| 72/72 [00:00<00:00, 157.83it/s, loss=0.0372]\n"
     ]
    },
    {
     "name": "stdout",
     "output_type": "stream",
     "text": [
      "Epoch [12/30] Validation Loss: 0.03720840583648371\n"
     ]
    },
    {
     "name": "stderr",
     "output_type": "stream",
     "text": [
      "Training: 100%|█████████████████| 168/168 [00:01<00:00, 138.92it/s, loss=0.0304]\n"
     ]
    },
    {
     "name": "stdout",
     "output_type": "stream",
     "text": [
      "Epoch [13/30] Train Loss: 0.030433479537567195\n"
     ]
    },
    {
     "name": "stderr",
     "output_type": "stream",
     "text": [
      "Validation: 100%|█████████████████| 72/72 [00:00<00:00, 160.13it/s, loss=0.0438]\n"
     ]
    },
    {
     "name": "stdout",
     "output_type": "stream",
     "text": [
      "Epoch [13/30] Validation Loss: 0.04383453529771941\n"
     ]
    },
    {
     "name": "stderr",
     "output_type": "stream",
     "text": [
      "Training: 100%|█████████████████| 168/168 [00:01<00:00, 137.21it/s, loss=0.0274]\n"
     ]
    },
    {
     "name": "stdout",
     "output_type": "stream",
     "text": [
      "Epoch [14/30] Train Loss: 0.027426294209969154\n"
     ]
    },
    {
     "name": "stderr",
     "output_type": "stream",
     "text": [
      "Validation: 100%|█████████████████| 72/72 [00:00<00:00, 156.31it/s, loss=0.0463]\n"
     ]
    },
    {
     "name": "stdout",
     "output_type": "stream",
     "text": [
      "Epoch [14/30] Validation Loss: 0.04630647162351428\n"
     ]
    },
    {
     "name": "stderr",
     "output_type": "stream",
     "text": [
      "Training: 100%|█████████████████| 168/168 [00:01<00:00, 137.53it/s, loss=0.0277]\n"
     ]
    },
    {
     "name": "stdout",
     "output_type": "stream",
     "text": [
      "Epoch [15/30] Train Loss: 0.02771474479024099\n"
     ]
    },
    {
     "name": "stderr",
     "output_type": "stream",
     "text": [
      "Validation: 100%|█████████████████| 72/72 [00:00<00:00, 156.48it/s, loss=0.0509]\n"
     ]
    },
    {
     "name": "stdout",
     "output_type": "stream",
     "text": [
      "Epoch [15/30] Validation Loss: 0.050858664745141544\n"
     ]
    },
    {
     "name": "stderr",
     "output_type": "stream",
     "text": [
      "Training: 100%|█████████████████| 168/168 [00:01<00:00, 138.89it/s, loss=0.0287]\n"
     ]
    },
    {
     "name": "stdout",
     "output_type": "stream",
     "text": [
      "Epoch [16/30] Train Loss: 0.028659748730292665\n"
     ]
    },
    {
     "name": "stderr",
     "output_type": "stream",
     "text": [
      "Validation: 100%|█████████████████| 72/72 [00:00<00:00, 155.05it/s, loss=0.0429]\n"
     ]
    },
    {
     "name": "stdout",
     "output_type": "stream",
     "text": [
      "Epoch [16/30] Validation Loss: 0.042862602280567645\n"
     ]
    },
    {
     "name": "stderr",
     "output_type": "stream",
     "text": [
      "Training: 100%|█████████████████| 168/168 [00:01<00:00, 136.78it/s, loss=0.0193]\n"
     ]
    },
    {
     "name": "stdout",
     "output_type": "stream",
     "text": [
      "Epoch [17/30] Train Loss: 0.019339816354355815\n"
     ]
    },
    {
     "name": "stderr",
     "output_type": "stream",
     "text": [
      "Validation: 100%|█████████████████| 72/72 [00:00<00:00, 157.88it/s, loss=0.0397]\n"
     ]
    },
    {
     "name": "stdout",
     "output_type": "stream",
     "text": [
      "Epoch [17/30] Validation Loss: 0.03971146041840257\n"
     ]
    },
    {
     "name": "stderr",
     "output_type": "stream",
     "text": [
      "Training: 100%|█████████████████| 168/168 [00:01<00:00, 126.61it/s, loss=0.0223]\n"
     ]
    },
    {
     "name": "stdout",
     "output_type": "stream",
     "text": [
      "Epoch [18/30] Train Loss: 0.022309415107364266\n"
     ]
    },
    {
     "name": "stderr",
     "output_type": "stream",
     "text": [
      "Validation: 100%|█████████████████| 72/72 [00:00<00:00, 138.76it/s, loss=0.0477]\n"
     ]
    },
    {
     "name": "stdout",
     "output_type": "stream",
     "text": [
      "Epoch [18/30] Validation Loss: 0.04767566159734492\n"
     ]
    },
    {
     "name": "stderr",
     "output_type": "stream",
     "text": [
      "Training: 100%|█████████████████| 168/168 [00:01<00:00, 136.03it/s, loss=0.0275]\n"
     ]
    },
    {
     "name": "stdout",
     "output_type": "stream",
     "text": [
      "Epoch [19/30] Train Loss: 0.027466415036109366\n"
     ]
    },
    {
     "name": "stderr",
     "output_type": "stream",
     "text": [
      "Validation: 100%|█████████████████| 72/72 [00:00<00:00, 153.10it/s, loss=0.0452]\n"
     ]
    },
    {
     "name": "stdout",
     "output_type": "stream",
     "text": [
      "Epoch [19/30] Validation Loss: 0.04520998123300362\n"
     ]
    },
    {
     "name": "stderr",
     "output_type": "stream",
     "text": [
      "Training: 100%|█████████████████| 168/168 [00:01<00:00, 139.36it/s, loss=0.0307]\n"
     ]
    },
    {
     "name": "stdout",
     "output_type": "stream",
     "text": [
      "Epoch [20/30] Train Loss: 0.030713143446129316\n"
     ]
    },
    {
     "name": "stderr",
     "output_type": "stream",
     "text": [
      "Validation: 100%|█████████████████| 72/72 [00:00<00:00, 155.30it/s, loss=0.0567]\n"
     ]
    },
    {
     "name": "stdout",
     "output_type": "stream",
     "text": [
      "Epoch [20/30] Validation Loss: 0.05667133948574903\n"
     ]
    },
    {
     "name": "stderr",
     "output_type": "stream",
     "text": [
      "Training: 100%|█████████████████| 168/168 [00:01<00:00, 139.54it/s, loss=0.0221]\n"
     ]
    },
    {
     "name": "stdout",
     "output_type": "stream",
     "text": [
      "Epoch [21/30] Train Loss: 0.022059973280799266\n"
     ]
    },
    {
     "name": "stderr",
     "output_type": "stream",
     "text": [
      "Validation: 100%|█████████████████| 72/72 [00:00<00:00, 157.38it/s, loss=0.0397]\n"
     ]
    },
    {
     "name": "stdout",
     "output_type": "stream",
     "text": [
      "Epoch [21/30] Validation Loss: 0.03969193083119333\n"
     ]
    },
    {
     "name": "stderr",
     "output_type": "stream",
     "text": [
      "Training: 100%|█████████████████| 168/168 [00:01<00:00, 140.36it/s, loss=0.0256]\n"
     ]
    },
    {
     "name": "stdout",
     "output_type": "stream",
     "text": [
      "Epoch [22/30] Train Loss: 0.025620731208445727\n"
     ]
    },
    {
     "name": "stderr",
     "output_type": "stream",
     "text": [
      "Validation: 100%|██████████████████| 72/72 [00:00<00:00, 154.31it/s, loss=0.046]\n"
     ]
    },
    {
     "name": "stdout",
     "output_type": "stream",
     "text": [
      "Epoch [22/30] Validation Loss: 0.04604798716112176\n"
     ]
    },
    {
     "name": "stderr",
     "output_type": "stream",
     "text": [
      "Training: 100%|██████████████████| 168/168 [00:01<00:00, 138.89it/s, loss=0.022]\n"
     ]
    },
    {
     "name": "stdout",
     "output_type": "stream",
     "text": [
      "Epoch [23/30] Train Loss: 0.02198525760121854\n"
     ]
    },
    {
     "name": "stderr",
     "output_type": "stream",
     "text": [
      "Validation: 100%|█████████████████| 72/72 [00:00<00:00, 157.45it/s, loss=0.0431]\n"
     ]
    },
    {
     "name": "stdout",
     "output_type": "stream",
     "text": [
      "Epoch [23/30] Validation Loss: 0.043142043826012215\n"
     ]
    },
    {
     "name": "stderr",
     "output_type": "stream",
     "text": [
      "Training: 100%|█████████████████| 168/168 [00:01<00:00, 135.50it/s, loss=0.0189]\n"
     ]
    },
    {
     "name": "stdout",
     "output_type": "stream",
     "text": [
      "Epoch [24/30] Train Loss: 0.01888838153575177\n"
     ]
    },
    {
     "name": "stderr",
     "output_type": "stream",
     "text": [
      "Validation: 100%|█████████████████| 72/72 [00:00<00:00, 158.04it/s, loss=0.0401]\n"
     ]
    },
    {
     "name": "stdout",
     "output_type": "stream",
     "text": [
      "Epoch [24/30] Validation Loss: 0.04013342797401896\n"
     ]
    },
    {
     "name": "stderr",
     "output_type": "stream",
     "text": [
      "Training: 100%|█████████████████| 168/168 [00:01<00:00, 136.67it/s, loss=0.0206]\n"
     ]
    },
    {
     "name": "stdout",
     "output_type": "stream",
     "text": [
      "Epoch [25/30] Train Loss: 0.02062189068133843\n"
     ]
    },
    {
     "name": "stderr",
     "output_type": "stream",
     "text": [
      "Validation: 100%|█████████████████| 72/72 [00:00<00:00, 154.72it/s, loss=0.0482]\n"
     ]
    },
    {
     "name": "stdout",
     "output_type": "stream",
     "text": [
      "Epoch [25/30] Validation Loss: 0.048244417440501924\n"
     ]
    },
    {
     "name": "stderr",
     "output_type": "stream",
     "text": [
      "Training: 100%|█████████████████| 168/168 [00:01<00:00, 139.62it/s, loss=0.0278]\n"
     ]
    },
    {
     "name": "stdout",
     "output_type": "stream",
     "text": [
      "Epoch [26/30] Train Loss: 0.027788216903510538\n"
     ]
    },
    {
     "name": "stderr",
     "output_type": "stream",
     "text": [
      "Validation: 100%|█████████████████| 72/72 [00:00<00:00, 156.75it/s, loss=0.0382]\n"
     ]
    },
    {
     "name": "stdout",
     "output_type": "stream",
     "text": [
      "Epoch [26/30] Validation Loss: 0.03815588849992461\n"
     ]
    },
    {
     "name": "stderr",
     "output_type": "stream",
     "text": [
      "Training: 100%|█████████████████| 168/168 [00:01<00:00, 134.41it/s, loss=0.0193]\n"
     ]
    },
    {
     "name": "stdout",
     "output_type": "stream",
     "text": [
      "Epoch [27/30] Train Loss: 0.019341656480481192\n"
     ]
    },
    {
     "name": "stderr",
     "output_type": "stream",
     "text": [
      "Validation: 100%|█████████████████| 72/72 [00:00<00:00, 158.24it/s, loss=0.0449]\n"
     ]
    },
    {
     "name": "stdout",
     "output_type": "stream",
     "text": [
      "Epoch [27/30] Validation Loss: 0.044872063286245774\n"
     ]
    },
    {
     "name": "stderr",
     "output_type": "stream",
     "text": [
      "Training: 100%|█████████████████| 168/168 [00:01<00:00, 136.80it/s, loss=0.0219]\n"
     ]
    },
    {
     "name": "stdout",
     "output_type": "stream",
     "text": [
      "Epoch [28/30] Train Loss: 0.021920076200937427\n"
     ]
    },
    {
     "name": "stderr",
     "output_type": "stream",
     "text": [
      "Validation: 100%|█████████████████| 72/72 [00:00<00:00, 139.16it/s, loss=0.0417]\n"
     ]
    },
    {
     "name": "stdout",
     "output_type": "stream",
     "text": [
      "Epoch [28/30] Validation Loss: 0.04169640849770278\n"
     ]
    },
    {
     "name": "stderr",
     "output_type": "stream",
     "text": [
      "Training: 100%|██████████████████| 168/168 [00:01<00:00, 135.23it/s, loss=0.023]\n"
     ]
    },
    {
     "name": "stdout",
     "output_type": "stream",
     "text": [
      "Epoch [29/30] Train Loss: 0.022968304885309754\n"
     ]
    },
    {
     "name": "stderr",
     "output_type": "stream",
     "text": [
      "Validation: 100%|█████████████████| 72/72 [00:00<00:00, 156.25it/s, loss=0.0505]\n"
     ]
    },
    {
     "name": "stdout",
     "output_type": "stream",
     "text": [
      "Epoch [29/30] Validation Loss: 0.050509686620200805\n"
     ]
    },
    {
     "name": "stderr",
     "output_type": "stream",
     "text": [
      "Training: 100%|██████████████████| 168/168 [00:01<00:00, 139.65it/s, loss=0.021]\n"
     ]
    },
    {
     "name": "stdout",
     "output_type": "stream",
     "text": [
      "Epoch [30/30] Train Loss: 0.02103841142414218\n"
     ]
    },
    {
     "name": "stderr",
     "output_type": "stream",
     "text": [
      "Validation: 100%|█████████████████| 72/72 [00:00<00:00, 158.91it/s, loss=0.0429]"
     ]
    },
    {
     "name": "stdout",
     "output_type": "stream",
     "text": [
      "Epoch [30/30] Validation Loss: 0.042913090224020484\n"
     ]
    },
    {
     "name": "stderr",
     "output_type": "stream",
     "text": [
      "\n"
     ]
    }
   ],
   "source": [
    "train_loss_lst, val_loss_lst = train(train_loader, val_loader, \"subset1\", net, epochs=30)"
   ]
  },
  {
   "cell_type": "code",
   "execution_count": 7,
   "metadata": {
    "cell_ktag": "tnUSoEpbIv5j"
   },
   "outputs": [
    {
     "data": {
      "image/png": "[encoded data removed]",
      "text/plain": [
       "<Figure size 640x480 with 1 Axes>"
      ]
     },
     "metadata": {},
     "output_type": "display_data"
    }
   ],
   "source": [
    "plot_losses(train_loss_lst,val_loss_lst)"
   ]
  },
  {
   "cell_type": "code",
   "execution_count": 8,
   "metadata": {
    "cell_ktag": "tnUSoEpbIv5j"
   },
   "outputs": [],
   "source": [
    "# save the model\n",
    "path1= ...\n",
    "torch.save(net,path1)\n",
    "\n",
    "path2=...\n",
    "# Save the state dictionary\n",
    "torch.save(net.state_dict(), path2)\n"
   ]
  },
  {
   "cell_type": "markdown",
   "metadata": {
    "cell_ktag": "tnUSoEpbIv5j"
   },
   "source": [
    "# Otherwise load an already pre-trained model\n",
    "Either the one you have created above, either the one already available at https://www.lri.fr/~gcharpia/deeppractice/2024/TP4/models/ \n"
   ]
  },
  {
   "cell_type": "code",
   "execution_count": 66,
   "id": "9d578281",
   "metadata": {},
   "outputs": [],
   "source": [
    "path1= \"/Users/halvardbariller/Documents/GITHUB/practical-deep-learning/3_TransferLearning/models/model_pretrained_subset1.pth\"\n",
    "path2=\"/Users/halvardbariller/Documents/GITHUB/practical-deep-learning/3_TransferLearning/models/model_pretrained_subset1_state_dict.pth\""
   ]
  },
  {
   "cell_type": "code",
   "execution_count": 67,
   "metadata": {
    "cell_ktag": "tnUSoEpbIv5j"
   },
   "outputs": [],
   "source": [
    "net=torch.load(path1, map_location=device).to(device)"
   ]
  },
  {
   "cell_type": "markdown",
   "metadata": {
    "cell_ktag": "tnUSoEpbIv5j"
   },
   "source": [
    "# Count the number of weights & compare it with parameters added by LoRA"
   ]
  },
  {
   "cell_type": "code",
   "execution_count": 68,
   "metadata": {
    "cell_ktag": "tnUSoEpbIv5j"
   },
   "outputs": [],
   "source": [
    "original_weights = {}\n",
    "for name, param in net.named_parameters():\n",
    "    original_weights[name] = param.clone().detach()"
   ]
  },
  {
   "cell_type": "code",
   "execution_count": 69,
   "metadata": {
    "cell_ktag": "tnUSoEpbIv5j"
   },
   "outputs": [
    {
     "name": "stdout",
     "output_type": "stream",
     "text": [
      "Layer 1: W: torch.Size([1000, 784]) + B: torch.Size([1000])\n",
      "Layer 2: W: torch.Size([2000, 1000]) + B: torch.Size([2000])\n",
      "Layer 3: W: torch.Size([5, 2000]) + B: torch.Size([5])\n",
      "Total number of parameters: 2,797,005\n"
     ]
    }
   ],
   "source": [
    "# Print the size of the weights matrices of the network\n",
    "# Save the count of the total number of parameters\n",
    "net.eval()\n",
    "total_parameters_original = 0\n",
    "for index, layer in enumerate([net.linear1, net.linear2, net.linear3]):\n",
    "    total_parameters_original += layer.weight.nelement() + layer.bias.nelement()\n",
    "    print(f'Layer {index+1}: W: {layer.weight.shape} + B: {layer.bias.shape}')\n",
    "print(f'Total number of parameters: {total_parameters_original:,}')\n"
   ]
  },
  {
   "cell_type": "markdown",
   "metadata": {
    "cell_ktag": "tnUSoEpbIv5j"
   },
   "source": [
    "# Test the model on digits 0...4"
   ]
  },
  {
   "cell_type": "code",
   "execution_count": 70,
   "metadata": {
    "cell_ktag": "tnUSoEpbIv5j"
   },
   "outputs": [
    {
     "name": "stderr",
     "output_type": "stream",
     "text": [
      "Testing: 100%|██████████| 41/41 [00:00<00:00, 147.52it/s]"
     ]
    },
    {
     "name": "stdout",
     "output_type": "stream",
     "text": [
      "Accuracy: 0.994\n",
      "Wrong counts for the digit 0: 3\n",
      "Wrong counts for the digit 1: 4\n",
      "Wrong counts for the digit 2: 10\n",
      "Wrong counts for the digit 3: 4\n",
      "Wrong counts for the digit 4: 11\n"
     ]
    },
    {
     "name": "stderr",
     "output_type": "stream",
     "text": [
      "\n"
     ]
    },
    {
     "data": {
      "text/plain": [
       "0.994"
      ]
     },
     "execution_count": 70,
     "metadata": {},
     "output_type": "execute_result"
    }
   ],
   "source": [
    "def test(loader, name, net, wrong_counts):\n",
    "    correct = 0\n",
    "    total = 0\n",
    "    \n",
    "    net.eval()\n",
    "    with torch.no_grad():\n",
    "        for data in tqdm(loader, desc=name):\n",
    "            x, y = data\n",
    "            x = x.to(device)\n",
    "            y = y.to(device)\n",
    "            y = process_labels(name, y)\n",
    "            output = net(x.view(-1, 784))\n",
    "            for idx, i in enumerate(output):\n",
    "                if torch.argmax(i) == y[idx]:\n",
    "                    correct += 1\n",
    "                else:\n",
    "                    wrong_digit = y[idx].item() + 5 if 'subset2' in name else y[idx].item()\n",
    "                    wrong_counts[wrong_digit] += 1\n",
    "                    \n",
    "                total += 1\n",
    "\n",
    "    accuracy = round(correct / total, 3)\n",
    "    print(f'Accuracy: {accuracy}')\n",
    "    for key, value in wrong_counts.items():\n",
    "        print(f'Wrong counts for the digit {key}: {value}')\n",
    "        \n",
    "    return accuracy\n",
    "\n",
    "test(test_loader, \"Testing\", net, {i: 0 for i in range(5)})\n"
   ]
  },
  {
   "cell_type": "markdown",
   "metadata": {
    "cell_ktag": "tnUSoEpbIv5j"
   },
   "source": [
    "# Define train, validation, test sets for digits 5...9"
   ]
  },
  {
   "cell_type": "markdown",
   "metadata": {
    "cell_ktag": "tnUSoEpbIv5j"
   },
   "source": [
    "__Question 1 (0.25 points) :__"
   ]
  },
  {
   "cell_type": "code",
   "execution_count": 71,
   "metadata": {
    "cell_ktag": "tnUSoEpbIv5j"
   },
   "outputs": [],
   "source": [
    "#same code as before except for the mask\n",
    "\n",
    "# create a mask to filter indices for each label, retrieve digits 5...9\n",
    "# keep images of desired labels\n",
    "class_names_subset2 = [5, 6, 7, 8, 9]\n",
    "\n",
    "# create a mask to filter indices for each label\n",
    "train_mask_subset2 = torch.tensor([label in class_names_subset2 for label in mnist_train.targets])\n",
    "test_mask_subset2 = torch.tensor([label in class_names_subset2 for label in mnist_test.targets])\n",
    "\n",
    "# Create Subset datasets for train, validation, and test\n",
    "train_dataset_subset2 = Subset(mnist_train, torch.where(train_mask_subset2)[0])\n",
    "test_dataset_subset2 = Subset(mnist_test, torch.where(test_mask_subset2)[0])\n",
    "\n",
    "# split train into train & validation\n",
    "train_size_subset2 = int(0.7 * len(train_dataset_subset2))\n",
    "val_size_subset2 = len(train_dataset_subset2) - train_size_subset2\n",
    "train_dataset_subset2, val_dataset_subset2 = random_split(train_dataset_subset2, [train_size_subset2, val_size_subset2])\n",
    "\n",
    "train_loader_subset2 = DataLoader(train_dataset_subset2, batch_size=batch_size, shuffle=True)\n",
    "val_loader_subset2 = DataLoader(val_dataset_subset2, batch_size=batch_size, shuffle=False)\n",
    "test_loader_subset2 = DataLoader(test_dataset_subset2, batch_size=batch_size, shuffle=False)\n"
   ]
  },
  {
   "cell_type": "markdown",
   "metadata": {
    "cell_ktag": "tnUSoEpbIv5j"
   },
   "source": [
    "# Verify that pre-trained model on digits 0...4 is bad on digits 5...9"
   ]
  },
  {
   "cell_type": "markdown",
   "metadata": {
    "cell_ktag": "tnUSoEpbIv5j"
   },
   "source": [
    "__Question 2 (0.25 points) :__"
   ]
  },
  {
   "cell_type": "markdown",
   "metadata": {
    "cell_ktag": "tnUSoEpbIv5j"
   },
   "source": [
    "You should display the number of wrong predictions for each digits & global accuracy. \\\n",
    "Note that it's better than random guess ($\\frac{1}{5}\\times 100= $20%) for digit 8 and 9 because 3 looks like 8 and 4 looks like 9\n"
   ]
  },
  {
   "cell_type": "code",
   "execution_count": 72,
   "metadata": {
    "cell_ktag": "tnUSoEpbIv5j"
   },
   "outputs": [
    {
     "name": "stderr",
     "output_type": "stream",
     "text": [
      "Testing_subset2: 100%|██████████| 38/38 [00:00<00:00, 142.29it/s]"
     ]
    },
    {
     "name": "stdout",
     "output_type": "stream",
     "text": [
      "Accuracy: 0.394\n",
      "Wrong counts for the digit 5: 741\n",
      "Wrong counts for the digit 6: 935\n",
      "Wrong counts for the digit 7: 709\n",
      "Wrong counts for the digit 8: 403\n",
      "Wrong counts for the digit 9: 160\n"
     ]
    },
    {
     "name": "stderr",
     "output_type": "stream",
     "text": [
      "\n"
     ]
    },
    {
     "data": {
      "text/plain": [
       "0.394"
      ]
     },
     "execution_count": 72,
     "metadata": {},
     "output_type": "execute_result"
    }
   ],
   "source": [
    "test(test_loader_subset2, \"Testing_subset2\", net, {i: 0 for i in range(5, 10)})"
   ]
  },
  {
   "cell_type": "markdown",
   "metadata": {
    "cell_ktag": "tnUSoEpbIv5j"
   },
   "source": [
    "# Fine-tune the model on digits 5...9"
   ]
  },
  {
   "cell_type": "markdown",
   "metadata": {
    "cell_ktag": "tnUSoEpbIv5j"
   },
   "source": [
    "__Question 3 (0.5 points) :__"
   ]
  },
  {
   "cell_type": "markdown",
   "metadata": {
    "cell_ktag": "tnUSoEpbIv5j"
   },
   "source": [
    "You will fine-tune all the layers of the model (ie. all parameters of all fully-connected matrices) for 10 epochs"
   ]
  },
  {
   "cell_type": "code",
   "execution_count": 73,
   "metadata": {
    "cell_ktag": "tnUSoEpbIv5j"
   },
   "outputs": [
    {
     "name": "stderr",
     "output_type": "stream",
     "text": [
      "Training: 100%|██████████| 161/161 [00:02<00:00, 55.94it/s, loss=5.98]\n"
     ]
    },
    {
     "name": "stdout",
     "output_type": "stream",
     "text": [
      "Epoch [1/10] Train Loss: 5.978000032235377\n"
     ]
    },
    {
     "name": "stderr",
     "output_type": "stream",
     "text": [
      "Validation: 100%|██████████| 69/69 [00:00<00:00, 139.10it/s, loss=4.15]\n"
     ]
    },
    {
     "name": "stdout",
     "output_type": "stream",
     "text": [
      "Epoch [1/10] Validation Loss: 4.147287475890008\n"
     ]
    },
    {
     "name": "stderr",
     "output_type": "stream",
     "text": [
      "Training: 100%|██████████| 161/161 [00:02<00:00, 55.74it/s, loss=3.87]\n"
     ]
    },
    {
     "name": "stdout",
     "output_type": "stream",
     "text": [
      "Epoch [2/10] Train Loss: 3.874290293047887\n"
     ]
    },
    {
     "name": "stderr",
     "output_type": "stream",
     "text": [
      "Validation: 100%|██████████| 69/69 [00:00<00:00, 144.20it/s, loss=2.4] \n"
     ]
    },
    {
     "name": "stdout",
     "output_type": "stream",
     "text": [
      "Epoch [2/10] Validation Loss: 2.3989553814348965\n"
     ]
    },
    {
     "name": "stderr",
     "output_type": "stream",
     "text": [
      "Training: 100%|██████████| 161/161 [00:02<00:00, 55.31it/s, loss=2.39]\n"
     ]
    },
    {
     "name": "stdout",
     "output_type": "stream",
     "text": [
      "Epoch [3/10] Train Loss: 2.385222463874343\n"
     ]
    },
    {
     "name": "stderr",
     "output_type": "stream",
     "text": [
      "Validation: 100%|██████████| 69/69 [00:00<00:00, 135.00it/s, loss=1.36]\n"
     ]
    },
    {
     "name": "stdout",
     "output_type": "stream",
     "text": [
      "Epoch [3/10] Validation Loss: 1.3569113949070806\n"
     ]
    },
    {
     "name": "stderr",
     "output_type": "stream",
     "text": [
      "Training: 100%|██████████| 161/161 [00:02<00:00, 54.61it/s, loss=1.46]\n"
     ]
    },
    {
     "name": "stdout",
     "output_type": "stream",
     "text": [
      "Epoch [4/10] Train Loss: 1.4636380890881793\n"
     ]
    },
    {
     "name": "stderr",
     "output_type": "stream",
     "text": [
      "Validation: 100%|██████████| 69/69 [00:00<00:00, 133.30it/s, loss=0.801]\n"
     ]
    },
    {
     "name": "stdout",
     "output_type": "stream",
     "text": [
      "Epoch [4/10] Validation Loss: 0.8010480576667233\n"
     ]
    },
    {
     "name": "stderr",
     "output_type": "stream",
     "text": [
      "Training: 100%|██████████| 161/161 [00:02<00:00, 54.20it/s, loss=0.974]\n"
     ]
    },
    {
     "name": "stdout",
     "output_type": "stream",
     "text": [
      "Epoch [5/10] Train Loss: 0.9743393515207752\n"
     ]
    },
    {
     "name": "stderr",
     "output_type": "stream",
     "text": [
      "Validation: 100%|██████████| 69/69 [00:00<00:00, 141.61it/s, loss=0.564]\n"
     ]
    },
    {
     "name": "stdout",
     "output_type": "stream",
     "text": [
      "Epoch [5/10] Validation Loss: 0.564095622819403\n"
     ]
    },
    {
     "name": "stderr",
     "output_type": "stream",
     "text": [
      "Training: 100%|██████████| 161/161 [00:02<00:00, 55.16it/s, loss=0.738]\n"
     ]
    },
    {
     "name": "stdout",
     "output_type": "stream",
     "text": [
      "Epoch [6/10] Train Loss: 0.7377387749852601\n"
     ]
    },
    {
     "name": "stderr",
     "output_type": "stream",
     "text": [
      "Validation: 100%|██████████| 69/69 [00:00<00:00, 133.06it/s, loss=0.446]\n"
     ]
    },
    {
     "name": "stdout",
     "output_type": "stream",
     "text": [
      "Epoch [6/10] Validation Loss: 0.4464248954385951\n"
     ]
    },
    {
     "name": "stderr",
     "output_type": "stream",
     "text": [
      "Training: 100%|██████████| 161/161 [00:02<00:00, 55.59it/s, loss=0.626]\n"
     ]
    },
    {
     "name": "stdout",
     "output_type": "stream",
     "text": [
      "Epoch [7/10] Train Loss: 0.6260417349960493\n"
     ]
    },
    {
     "name": "stderr",
     "output_type": "stream",
     "text": [
      "Validation: 100%|██████████| 69/69 [00:00<00:00, 133.98it/s, loss=0.375]\n"
     ]
    },
    {
     "name": "stdout",
     "output_type": "stream",
     "text": [
      "Epoch [7/10] Validation Loss: 0.374673188596532\n"
     ]
    },
    {
     "name": "stderr",
     "output_type": "stream",
     "text": [
      "Training: 100%|██████████| 161/161 [00:02<00:00, 55.69it/s, loss=0.528]\n"
     ]
    },
    {
     "name": "stdout",
     "output_type": "stream",
     "text": [
      "Epoch [8/10] Train Loss: 0.5275474757141208\n"
     ]
    },
    {
     "name": "stderr",
     "output_type": "stream",
     "text": [
      "Validation: 100%|██████████| 69/69 [00:00<00:00, 133.96it/s, loss=0.321]\n"
     ]
    },
    {
     "name": "stdout",
     "output_type": "stream",
     "text": [
      "Epoch [8/10] Validation Loss: 0.32118374368418817\n"
     ]
    },
    {
     "name": "stderr",
     "output_type": "stream",
     "text": [
      "Training: 100%|██████████| 161/161 [00:02<00:00, 55.29it/s, loss=0.472]\n"
     ]
    },
    {
     "name": "stdout",
     "output_type": "stream",
     "text": [
      "Epoch [9/10] Train Loss: 0.4716848060025932\n"
     ]
    },
    {
     "name": "stderr",
     "output_type": "stream",
     "text": [
      "Validation: 100%|██████████| 69/69 [00:00<00:00, 134.54it/s, loss=0.281]\n"
     ]
    },
    {
     "name": "stdout",
     "output_type": "stream",
     "text": [
      "Epoch [9/10] Validation Loss: 0.28117402265037317\n"
     ]
    },
    {
     "name": "stderr",
     "output_type": "stream",
     "text": [
      "Training: 100%|██████████| 161/161 [00:02<00:00, 54.73it/s, loss=0.421]\n"
     ]
    },
    {
     "name": "stdout",
     "output_type": "stream",
     "text": [
      "Epoch [10/10] Train Loss: 0.42117971505807794\n"
     ]
    },
    {
     "name": "stderr",
     "output_type": "stream",
     "text": [
      "Validation: 100%|██████████| 69/69 [00:00<00:00, 143.59it/s, loss=0.252]"
     ]
    },
    {
     "name": "stdout",
     "output_type": "stream",
     "text": [
      "Epoch [10/10] Validation Loss: 0.25182357516841614\n"
     ]
    },
    {
     "name": "stderr",
     "output_type": "stream",
     "text": [
      "\n"
     ]
    }
   ],
   "source": [
    "train_loss_lst_2, val_loss_lst_2 = train(train_loader_subset2, val_loader_subset2, \"subset2\", net, epochs=10)"
   ]
  },
  {
   "cell_type": "code",
   "execution_count": 74,
   "metadata": {
    "cell_ktag": "tnUSoEpbIv5j"
   },
   "outputs": [
    {
     "data": {
      "image/png": "[encoded data removed]",
      "text/plain": [
       "<Figure size 640x480 with 1 Axes>"
      ]
     },
     "metadata": {},
     "output_type": "display_data"
    }
   ],
   "source": [
    "#plot the train and validation losses\n",
    "\n",
    "plot_losses(train_loss_lst_2, val_loss_lst_2)"
   ]
  },
  {
   "cell_type": "code",
   "execution_count": 75,
   "metadata": {
    "cell_ktag": "tnUSoEpbIv5j"
   },
   "outputs": [
    {
     "name": "stderr",
     "output_type": "stream",
     "text": [
      "Testing_subset2: 100%|██████████| 38/38 [00:00<00:00, 133.58it/s]"
     ]
    },
    {
     "name": "stdout",
     "output_type": "stream",
     "text": [
      "Accuracy: 0.921\n",
      "Wrong counts for the digit 5: 86\n",
      "Wrong counts for the digit 6: 40\n",
      "Wrong counts for the digit 7: 92\n",
      "Wrong counts for the digit 8: 98\n",
      "Wrong counts for the digit 9: 69\n"
     ]
    },
    {
     "name": "stderr",
     "output_type": "stream",
     "text": [
      "\n"
     ]
    }
   ],
   "source": [
    "#test accuracy of fine-tuned model on digits 5...9\n",
    "# & save this number into a variable, we will need it for final plot\n",
    "\n",
    "accuracy_fully_finetuned = test(test_loader_subset2, \"Testing_subset2\", net, {i: 0 for i in range(5, 10)})"
   ]
  },
  {
   "cell_type": "markdown",
   "metadata": {
    "cell_ktag": "tnUSoEpbIv5j"
   },
   "source": [
    "# Fine-tune the model on digits 5...9 with LoRA"
   ]
  },
  {
   "cell_type": "markdown",
   "metadata": {
    "cell_ktag": "tnUSoEpbIv5j"
   },
   "source": [
    "__Question 4 (2.5 points) :__"
   ]
  },
  {
   "cell_type": "markdown",
   "metadata": {
    "cell_ktag": "tnUSoEpbIv5j"
   },
   "source": [
    "You will now implement one LoRA per layer"
   ]
  },
  {
   "cell_type": "code",
   "execution_count": 132,
   "metadata": {
    "cell_ktag": "tnUSoEpbIv5j"
   },
   "outputs": [],
   "source": [
    "class ModifiedClassifier(nn.Module):\n",
    "    def __init__(self, lora_rank, init=\"Normal\"):\n",
    "        super(ModifiedClassifier, self).__init__()\n",
    "        \n",
    "        # Load the pretrained model\n",
    "        self.pretrained_net = classifier().to(device)\n",
    "        self.pretrained_net.load_state_dict(torch.load(path2, map_location=device))\n",
    "        \n",
    "        self.relu = nn.ReLU()\n",
    "        \n",
    "        self.dropout = nn.Dropout(0.5)\n",
    "        \n",
    "        # Define lora hyperparameters\n",
    "        self.rank = lora_rank\n",
    "        self.std = 1.0\n",
    "        self.alpha = 1.0\n",
    "        initialisations = [\"Normal\", \"Xavier\", \"KaimingU\"]\n",
    "        assert init in initialisations, f\"init should be one of {initialisations}\"\n",
    "        \n",
    "        # Define lora weights matrices for each layer in pretrained model\n",
    "        self.l1_lora_A = nn.Parameter(torch.empty(28*28, self.rank))\n",
    "        self.l1_lora_B = nn.Parameter(torch.empty(self.rank, 1000))\n",
    "\n",
    "        self.l2_lora_A = nn.Parameter(torch.empty(1000, self.rank))\n",
    "        self.l2_lora_B = nn.Parameter(torch.empty(self.rank, 2000))\n",
    "\n",
    "        self.l3_lora_A = nn.Parameter(torch.empty(2000, self.rank))\n",
    "        self.l3_lora_B = nn.Parameter(torch.empty(self.rank, 5))\n",
    "        \n",
    "        # Initialization for lora layers\n",
    "        if init == \"Normal\": \n",
    "            nn.init.normal_(self.l1_lora_A, std=self.std)\n",
    "            nn.init.normal_(self.l2_lora_A, std=self.std)\n",
    "            nn.init.normal_(self.l3_lora_A, std=self.std)\n",
    "        \n",
    "        if init == \"Xavier\":\n",
    "            nn.init.xavier_normal_(self.l1_lora_A)\n",
    "            nn.init.xavier_normal_(self.l2_lora_A)\n",
    "            nn.init.xavier_normal_(self.l3_lora_A)\n",
    "\n",
    "        if init == \"KaimingU\":\n",
    "            nn.init.kaiming_uniform_(self.l1_lora_A)\n",
    "            nn.init.kaiming_uniform_(self.l2_lora_A)\n",
    "            nn.init.kaiming_uniform_(self.l3_lora_A)\n",
    "        \n",
    "        nn.init.zeros_(self.l1_lora_B)\n",
    "        nn.init.zeros_(self.l2_lora_B)\n",
    "        nn.init.zeros_(self.l3_lora_B)\n",
    "       \n",
    "        # freeze non lora weights\n",
    "        for param in self.pretrained_net.parameters():\n",
    "            param.requires_grad = False\n",
    "                \n",
    "    def lora_linear(self, x, layer, lora_A, lora_B):\n",
    "        #Implement formula (3) in arxiv.org/pdf/2106.09685.pdf\n",
    "        h = layer(x) + x @ (lora_A @ lora_B) * self.alpha\n",
    "        return h\n",
    "                     \n",
    "        \n",
    "    def forward(self, input):\n",
    "        x = input.view(-1, 28*28)\n",
    "        \n",
    "        # layer 1 (input size, hidden size)\n",
    "        x = self.lora_linear(x, self.pretrained_net.linear1, self.l1_lora_A, self.l1_lora_B)\n",
    "        x = self.relu(x)\n",
    "        x = self.dropout(x)\n",
    "\n",
    "        #complete the remaining code (layer 2 and 3)\n",
    "        x = self.lora_linear(x, self.pretrained_net.linear2, self.l2_lora_A, self.l2_lora_B)\n",
    "        x = self.relu(x)\n",
    "        x = self.dropout(x)\n",
    "\n",
    "        x = self.lora_linear(x, self.pretrained_net.linear3, self.l3_lora_A, self.l3_lora_B)\n",
    "        \n",
    "        return x\n",
    "\n",
    "lora_rank=1\n",
    "# Create an instance of the modified network\n",
    "modified_net = ModifiedClassifier(lora_rank, init=\"KaimingU\").to(device)\n"
   ]
  },
  {
   "cell_type": "markdown",
   "metadata": {
    "cell_ktag": "tnUSoEpbIv5j"
   },
   "source": [
    "Make a function that counts the number of parameters introduced by lora ( use the function torch.numel() )"
   ]
  },
  {
   "cell_type": "code",
   "execution_count": 133,
   "metadata": {
    "cell_ktag": "tnUSoEpbIv5j"
   },
   "outputs": [
    {
     "name": "stdout",
     "output_type": "stream",
     "text": [
      "Total number of parameters in the modified model: 6,789\n"
     ]
    }
   ],
   "source": [
    "# Count the parameters introduced by lora layers\n",
    "def count_parameters(model):\n",
    "    return sum(p.numel() for p in model.parameters() if p.requires_grad)\n",
    "\n",
    "print(f'Total number of parameters in the modified model: {count_parameters(modified_net):,}')"
   ]
  },
  {
   "cell_type": "markdown",
   "metadata": {
    "cell_ktag": "tnUSoEpbIv5j"
   },
   "source": [
    "# Fine-Tune using LoRA of rank 1"
   ]
  },
  {
   "cell_type": "markdown",
   "metadata": {
    "cell_ktag": "tnUSoEpbIv5j"
   },
   "source": [
    "__Question 5 (0.5 points) :__"
   ]
  },
  {
   "cell_type": "code",
   "execution_count": 134,
   "metadata": {
    "cell_ktag": "tnUSoEpbIv5j"
   },
   "outputs": [
    {
     "name": "stderr",
     "output_type": "stream",
     "text": [
      "Training: 100%|██████████| 161/161 [00:03<00:00, 51.43it/s, loss=7.12]\n"
     ]
    },
    {
     "name": "stdout",
     "output_type": "stream",
     "text": [
      "Epoch [1/10] Train Loss: 7.120201128610173\n"
     ]
    },
    {
     "name": "stderr",
     "output_type": "stream",
     "text": [
      "Validation: 100%|██████████| 69/69 [00:00<00:00, 88.00it/s, loss=6.16]\n"
     ]
    },
    {
     "name": "stdout",
     "output_type": "stream",
     "text": [
      "Epoch [1/10] Validation Loss: 6.162601097770359\n"
     ]
    },
    {
     "name": "stderr",
     "output_type": "stream",
     "text": [
      "Training: 100%|██████████| 161/161 [00:03<00:00, 52.44it/s, loss=6.86]\n"
     ]
    },
    {
     "name": "stdout",
     "output_type": "stream",
     "text": [
      "Epoch [2/10] Train Loss: 6.859162970359281\n"
     ]
    },
    {
     "name": "stderr",
     "output_type": "stream",
     "text": [
      "Validation: 100%|██████████| 69/69 [00:00<00:00, 88.83it/s, loss=5.97]\n"
     ]
    },
    {
     "name": "stdout",
     "output_type": "stream",
     "text": [
      "Epoch [2/10] Validation Loss: 5.970879402713499\n"
     ]
    },
    {
     "name": "stderr",
     "output_type": "stream",
     "text": [
      "Training: 100%|██████████| 161/161 [00:03<00:00, 52.77it/s, loss=6.73]\n"
     ]
    },
    {
     "name": "stdout",
     "output_type": "stream",
     "text": [
      "Epoch [3/10] Train Loss: 6.732442340495424\n"
     ]
    },
    {
     "name": "stderr",
     "output_type": "stream",
     "text": [
      "Validation: 100%|██████████| 69/69 [00:00<00:00, 86.26it/s, loss=5.77]\n"
     ]
    },
    {
     "name": "stdout",
     "output_type": "stream",
     "text": [
      "Epoch [3/10] Validation Loss: 5.765553401864094\n"
     ]
    },
    {
     "name": "stderr",
     "output_type": "stream",
     "text": [
      "Training: 100%|██████████| 161/161 [00:03<00:00, 52.49it/s, loss=6.52]\n"
     ]
    },
    {
     "name": "stdout",
     "output_type": "stream",
     "text": [
      "Epoch [4/10] Train Loss: 6.522993149964706\n"
     ]
    },
    {
     "name": "stderr",
     "output_type": "stream",
     "text": [
      "Validation: 100%|██████████| 69/69 [00:00<00:00, 88.07it/s, loss=5.55]\n"
     ]
    },
    {
     "name": "stdout",
     "output_type": "stream",
     "text": [
      "Epoch [4/10] Validation Loss: 5.548901599386464\n"
     ]
    },
    {
     "name": "stderr",
     "output_type": "stream",
     "text": [
      "Training: 100%|██████████| 161/161 [00:03<00:00, 52.38it/s, loss=6.31]\n"
     ]
    },
    {
     "name": "stdout",
     "output_type": "stream",
     "text": [
      "Epoch [5/10] Train Loss: 6.308581989004005\n"
     ]
    },
    {
     "name": "stderr",
     "output_type": "stream",
     "text": [
      "Validation: 100%|██████████| 69/69 [00:00<00:00, 87.27it/s, loss=5.32]\n"
     ]
    },
    {
     "name": "stdout",
     "output_type": "stream",
     "text": [
      "Epoch [5/10] Validation Loss: 5.321629116500634\n"
     ]
    },
    {
     "name": "stderr",
     "output_type": "stream",
     "text": [
      "Training: 100%|██████████| 161/161 [00:03<00:00, 50.93it/s, loss=6.09]\n"
     ]
    },
    {
     "name": "stdout",
     "output_type": "stream",
     "text": [
      "Epoch [6/10] Train Loss: 6.091101516107595\n"
     ]
    },
    {
     "name": "stderr",
     "output_type": "stream",
     "text": [
      "Validation: 100%|██████████| 69/69 [00:00<00:00, 83.12it/s, loss=5.11]\n"
     ]
    },
    {
     "name": "stdout",
     "output_type": "stream",
     "text": [
      "Epoch [6/10] Validation Loss: 5.105785148731177\n"
     ]
    },
    {
     "name": "stderr",
     "output_type": "stream",
     "text": [
      "Training: 100%|██████████| 161/161 [00:03<00:00, 50.98it/s, loss=5.9] \n"
     ]
    },
    {
     "name": "stdout",
     "output_type": "stream",
     "text": [
      "Epoch [7/10] Train Loss: 5.8994433687340395\n"
     ]
    },
    {
     "name": "stderr",
     "output_type": "stream",
     "text": [
      "Validation: 100%|██████████| 69/69 [00:00<00:00, 84.33it/s, loss=4.93]\n"
     ]
    },
    {
     "name": "stdout",
     "output_type": "stream",
     "text": [
      "Epoch [7/10] Validation Loss: 4.925568459690481\n"
     ]
    },
    {
     "name": "stderr",
     "output_type": "stream",
     "text": [
      "Training: 100%|██████████| 161/161 [00:03<00:00, 52.72it/s, loss=5.72]\n"
     ]
    },
    {
     "name": "stdout",
     "output_type": "stream",
     "text": [
      "Epoch [8/10] Train Loss: 5.724790953701327\n"
     ]
    },
    {
     "name": "stderr",
     "output_type": "stream",
     "text": [
      "Validation: 100%|██████████| 69/69 [00:00<00:00, 88.07it/s, loss=4.78]\n"
     ]
    },
    {
     "name": "stdout",
     "output_type": "stream",
     "text": [
      "Epoch [8/10] Validation Loss: 4.781222046285436\n"
     ]
    },
    {
     "name": "stderr",
     "output_type": "stream",
     "text": [
      "Training: 100%|██████████| 161/161 [00:03<00:00, 52.19it/s, loss=5.69]\n"
     ]
    },
    {
     "name": "stdout",
     "output_type": "stream",
     "text": [
      "Epoch [9/10] Train Loss: 5.685508257113629\n"
     ]
    },
    {
     "name": "stderr",
     "output_type": "stream",
     "text": [
      "Validation: 100%|██████████| 69/69 [00:00<00:00, 87.20it/s, loss=4.66]\n"
     ]
    },
    {
     "name": "stdout",
     "output_type": "stream",
     "text": [
      "Epoch [9/10] Validation Loss: 4.657964661501456\n"
     ]
    },
    {
     "name": "stderr",
     "output_type": "stream",
     "text": [
      "Training: 100%|██████████| 161/161 [00:03<00:00, 52.80it/s, loss=5.52]\n"
     ]
    },
    {
     "name": "stdout",
     "output_type": "stream",
     "text": [
      "Epoch [10/10] Train Loss: 5.523426334310022\n"
     ]
    },
    {
     "name": "stderr",
     "output_type": "stream",
     "text": [
      "Validation: 100%|██████████| 69/69 [00:00<00:00, 87.23it/s, loss=4.54]"
     ]
    },
    {
     "name": "stdout",
     "output_type": "stream",
     "text": [
      "Epoch [10/10] Validation Loss: 4.537197233974069\n"
     ]
    },
    {
     "name": "stderr",
     "output_type": "stream",
     "text": [
      "\n"
     ]
    }
   ],
   "source": [
    "#Fine tune this new model with loras of rank 1, on MNIST 5...9\n",
    "train_loss_lst_lora1, val_loss_lst_lora1 = train(train_loader_subset2, val_loader_subset2, \"subset2\", modified_net, epochs=10)"
   ]
  },
  {
   "cell_type": "code",
   "execution_count": 135,
   "metadata": {
    "cell_ktag": "tnUSoEpbIv5j"
   },
   "outputs": [
    {
     "name": "stdout",
     "output_type": "stream",
     "text": [
      "linear1.weight : True\n",
      "linear1.bias : True\n",
      "linear2.weight : True\n",
      "linear2.bias : True\n",
      "linear3.weight : True\n",
      "linear3.bias : True\n"
     ]
    }
   ],
   "source": [
    "# Check that the frozen parameters are still unchanged by the finetuning\n",
    "# Remember the dictionary \"original_weights\"\n",
    "\n",
    "for a, b in zip(original_weights, modified_net.pretrained_net.named_parameters()):\n",
    "    print(f'{a} : {torch.equal(original_weights[a], b[1])}')"
   ]
  },
  {
   "cell_type": "code",
   "execution_count": 136,
   "metadata": {
    "cell_ktag": "tnUSoEpbIv5j"
   },
   "outputs": [
    {
     "data": {
      "image/png": "[encoded data removed]",
      "text/plain": [
       "<Figure size 640x480 with 1 Axes>"
      ]
     },
     "metadata": {},
     "output_type": "display_data"
    }
   ],
   "source": [
    "#plot losses\n",
    "\n",
    "plot_losses(train_loss_lst_lora1, val_loss_lst_lora1)"
   ]
  },
  {
   "cell_type": "code",
   "execution_count": 137,
   "metadata": {
    "cell_ktag": "tnUSoEpbIv5j"
   },
   "outputs": [
    {
     "name": "stderr",
     "output_type": "stream",
     "text": [
      "Testing_subset2: 100%|██████████| 38/38 [00:00<00:00, 90.36it/s]"
     ]
    },
    {
     "name": "stdout",
     "output_type": "stream",
     "text": [
      "Accuracy: 0.499\n",
      "Wrong counts for the digit 5: 731\n",
      "Wrong counts for the digit 6: 564\n",
      "Wrong counts for the digit 7: 446\n",
      "Wrong counts for the digit 8: 512\n",
      "Wrong counts for the digit 9: 183\n"
     ]
    },
    {
     "name": "stderr",
     "output_type": "stream",
     "text": [
      "\n"
     ]
    }
   ],
   "source": [
    "#Compute test accuracy on MNIST 5...9 for that lora rank\n",
    "\n",
    "accuracy_lora = test(test_loader_subset2, \"Testing_subset2\", modified_net, {i: 0 for i in range(5, 10)})"
   ]
  },
  {
   "cell_type": "markdown",
   "metadata": {
    "cell_ktag": "tnUSoEpbIv5j"
   },
   "source": [
    "# Try different LoRA rank"
   ]
  },
  {
   "cell_type": "markdown",
   "metadata": {
    "cell_ktag": "tnUSoEpbIv5j"
   },
   "source": [
    "__Question 6 (4 points) :__"
   ]
  },
  {
   "cell_type": "markdown",
   "metadata": {
    "cell_ktag": "tnUSoEpbIv5j"
   },
   "source": [
    "Fine-tune the pre-trained model using different lora ranks [1,2,4,8,16,32,64], evaluate it on the test set\n",
    "and store the number of parameters added \n",
    "\n",
    "Make a plot showing the test accuracy as a function of lora rank. \\\n",
    "Compare it to the test accuracy of the pre-trained model fine-tuned in the usual way on MNIST 5...9 \n",
    "\n",
    "Conclude by looking at the number of parameters added\n",
    "\n",
    "Discuss what are the pros of LoRA, what possible applications do you envision for it ?"
   ]
  },
  {
   "cell_type": "code",
   "execution_count": null,
   "metadata": {
    "cell_ktag": "tnUSoEpbIv5j"
   },
   "outputs": [],
   "source": [
    "lora_ranks = [1, 2, 4, 8, 16, 32, 64]\n",
    "accuracies = []\n",
    "\n",
    "for lora_rank in lora_ranks:\n",
    "    modified_net = ModifiedClassifier(lora_rank, init=\"KaimingU\").to(device)\n",
    "    train(train_loader_subset2, val_loader_subset2, \"subset2\", modified_net, epochs=10)\n",
    "    accuracy = test(test_loader_subset2, \"Testing_subset2\", modified_net, {i: 0 for i in range(5, 10)})\n",
    "    accuracies.append(accuracy)"
   ]
  },
  {
   "cell_type": "code",
   "execution_count": 183,
   "id": "e0f735d5",
   "metadata": {},
   "outputs": [
    {
     "data": {
      "image/png": "[encoded data removed]",
      "text/plain": [
       "<Figure size 1500x500 with 3 Axes>"
      ]
     },
     "metadata": {},
     "output_type": "display_data"
    }
   ],
   "source": [
    "fig, ax = plt.subplots(1, 2, figsize=(15, 5))\n",
    "\n",
    "ax[0].plot(lora_ranks, accuracies, marker='*')\n",
    "ax[0].hlines(y=accuracy_fully_finetuned, xmin=1, xmax=64, color='r', linestyle='--', label='Accuracy on full-finetuning')\n",
    "ax[0].set_xlim(0, 65)\n",
    "ax[0].set_xlabel('Lora Rank')\n",
    "ax[0].set_ylabel('Accuracy')\n",
    "ax[0].set_title('Accuracy vs Lora Rank')\n",
    "# Add grid\n",
    "ax[0].grid()\n",
    "ax[0].legend(loc = 'lower right')\n",
    "\n",
    "ax[1].bar(lora_ranks, [count_parameters(ModifiedClassifier(rank, init=\"KaimingU\")) for rank in lora_ranks], color='b')\n",
    "# ax[1].hlines(y=count_parameters(net), xmin=1, xmax=64, color='r', linestyle='--', label='Fully finetuned')\n",
    "ax[1].grid()\n",
    "ax[1].set_xlabel('Lora Rank')\n",
    "ax[1].set_ylabel('Number of parameters', color='b')\n",
    "ax[1].tick_params(axis='y', labelcolor='b')\n",
    "ax[1].set_title('Number of parameters vs Lora Rank')\n",
    "\n",
    "ax2 = ax[1].twinx()\n",
    "ax2.plot(lora_ranks, [count_parameters(ModifiedClassifier(rank, init=\"KaimingU\"))/count_parameters(net) \n",
    "                      for rank in lora_ranks], color='r', marker='o')\n",
    "ax2.set_ylabel('% of parameters compared to fully-finetuned model', color='r')\n",
    "ax2.tick_params(axis='y', labelcolor='r')\n",
    "\n",
    "plt.show()\n"
   ]
  },
  {
   "cell_type": "code",
   "execution_count": null,
   "id": "88eb290f",
   "metadata": {},
   "outputs": [],
   "source": []
  }
 ],
 "metadata": {
  "kernelspec": {
   "display_name": "Python 3",
   "language": "python",
   "name": "python3"
  },
  "kfiletag": "tnUSoEpbIv5j",
  "language_info": {
   "codemirror_mode": {
    "name": "ipython",
    "version": 3
   },
   "file_extension": ".py",
   "mimetype": "text/x-python",
   "name": "python",
   "nbconvert_exporter": "python",
   "pygments_lexer": "ipython3",
   "version": "3.11.6"
  }
 },
 "nbformat": 4,
 "nbformat_minor": 5
}
