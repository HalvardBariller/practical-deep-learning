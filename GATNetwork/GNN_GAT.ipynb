{
 "cells": [
  {
   "cell_type": "markdown",
   "metadata": {
    "cell_ktag": "igvw2CQ9lmSp",
    "id": "nlCNZsWlOSfP"
   },
   "source": [
    "# Practical Session on Graph Neural Networks\n",
    "\n",
    "**by Matthieu Nastorg and Cyriaque Rousselot**"
   ]
  },
  {
   "cell_type": "markdown",
   "metadata": {
    "cell_ktag": "igvw2CQ9lmSp",
    "id": "p0RMEfCaEehI"
   },
   "source": [
    "## **PART 1 : CODING** (8/20)"
   ]
  },
  {
   "cell_type": "markdown",
   "metadata": {
    "cell_ktag": "igvw2CQ9lmSp",
    "id": "v5Lp4PasOby4"
   },
   "source": [
    "### Install Pytorch Geometric\n",
    "\n",
    "To handle graph data, we use the library Pytorch Geometric : https://pytorch-geometric.readthedocs.io/en/latest/\n",
    "\n",
    "*   If you use _Google Colab_, simply run the following cell to install Pytorch Geometric (**advised**).\n",
    "*   If you plan using your _own environment_, follow the documentation to install Pytorch Geometric : https://pytorch-geometric.readthedocs.io/en/latest/install/installation.html and skip the following cell."
   ]
  },
  {
   "cell_type": "code",
   "execution_count": 28,
   "metadata": {
    "cell_ktag": "igvw2CQ9lmSp",
    "colab": {
     "base_uri": "https://localhost:8080/",
     "height": 1000
    },
    "id": "buW3eZmrj1N2",
    "outputId": "825f2cc5-6c42-40b6-c811-de8e83815d1a"
   },
   "outputs": [
    {
     "name": "stdout",
     "output_type": "stream",
     "text": [
      "Looking in links: https://pytorch-geometric.com/whl/torch-2.2.0+cu121.html\n",
      "Requirement already satisfied: torch-scatter in /Data/basile-terver/venvs/.venv_DLinP/lib/python3.11/site-packages (2.1.2+pt22cu121)\n",
      "\n",
      "\u001b[1m[\u001b[0m\u001b[34;49mnotice\u001b[0m\u001b[1;39;49m]\u001b[0m\u001b[39;49m A new release of pip is available: \u001b[0m\u001b[31;49m23.2.1\u001b[0m\u001b[39;49m -> \u001b[0m\u001b[32;49m24.0\u001b[0m\n",
      "\u001b[1m[\u001b[0m\u001b[34;49mnotice\u001b[0m\u001b[1;39;49m]\u001b[0m\u001b[39;49m To update, run: \u001b[0m\u001b[32;49mpip install --upgrade pip\u001b[0m\n",
      "Looking in links: https://pytorch-geometric.com/whl/torch-2.2.0+cu121.html\n",
      "Requirement already satisfied: torch-sparse in /Data/basile-terver/venvs/.venv_DLinP/lib/python3.11/site-packages (0.6.18+pt22cu121)\n",
      "Requirement already satisfied: scipy in /Data/basile-terver/venvs/.venv_DLinP/lib/python3.11/site-packages (from torch-sparse) (1.12.0)\n",
      "Requirement already satisfied: numpy<1.29.0,>=1.22.4 in /Data/basile-terver/venvs/.venv_DLinP/lib/python3.11/site-packages (from scipy->torch-sparse) (1.26.4)\n",
      "\n",
      "\u001b[1m[\u001b[0m\u001b[34;49mnotice\u001b[0m\u001b[1;39;49m]\u001b[0m\u001b[39;49m A new release of pip is available: \u001b[0m\u001b[31;49m23.2.1\u001b[0m\u001b[39;49m -> \u001b[0m\u001b[32;49m24.0\u001b[0m\n",
      "\u001b[1m[\u001b[0m\u001b[34;49mnotice\u001b[0m\u001b[1;39;49m]\u001b[0m\u001b[39;49m To update, run: \u001b[0m\u001b[32;49mpip install --upgrade pip\u001b[0m\n",
      "Looking in links: https://pytorch-geometric.com/whl/torch-2.2.0+cu121.html\n",
      "Requirement already satisfied: torch-cluster in /Data/basile-terver/venvs/.venv_DLinP/lib/python3.11/site-packages (1.6.3+pt22cu121)\n",
      "Requirement already satisfied: scipy in /Data/basile-terver/venvs/.venv_DLinP/lib/python3.11/site-packages (from torch-cluster) (1.12.0)\n",
      "Requirement already satisfied: numpy<1.29.0,>=1.22.4 in /Data/basile-terver/venvs/.venv_DLinP/lib/python3.11/site-packages (from scipy->torch-cluster) (1.26.4)\n",
      "\n",
      "\u001b[1m[\u001b[0m\u001b[34;49mnotice\u001b[0m\u001b[1;39;49m]\u001b[0m\u001b[39;49m A new release of pip is available: \u001b[0m\u001b[31;49m23.2.1\u001b[0m\u001b[39;49m -> \u001b[0m\u001b[32;49m24.0\u001b[0m\n",
      "\u001b[1m[\u001b[0m\u001b[34;49mnotice\u001b[0m\u001b[1;39;49m]\u001b[0m\u001b[39;49m To update, run: \u001b[0m\u001b[32;49mpip install --upgrade pip\u001b[0m\n",
      "Looking in links: https://pytorch-geometric.com/whl/torch-2.2.0+cu121.html\n",
      "Requirement already satisfied: torch-spline-conv in /Data/basile-terver/venvs/.venv_DLinP/lib/python3.11/site-packages (1.2.2+pt22cu121)\n",
      "\n",
      "\u001b[1m[\u001b[0m\u001b[34;49mnotice\u001b[0m\u001b[1;39;49m]\u001b[0m\u001b[39;49m A new release of pip is available: \u001b[0m\u001b[31;49m23.2.1\u001b[0m\u001b[39;49m -> \u001b[0m\u001b[32;49m24.0\u001b[0m\n",
      "\u001b[1m[\u001b[0m\u001b[34;49mnotice\u001b[0m\u001b[1;39;49m]\u001b[0m\u001b[39;49m To update, run: \u001b[0m\u001b[32;49mpip install --upgrade pip\u001b[0m\n",
      "Requirement already satisfied: torch-geometric in /Data/basile-terver/venvs/.venv_DLinP/lib/python3.11/site-packages (2.5.0)\n",
      "Requirement already satisfied: tqdm in /Data/basile-terver/venvs/.venv_DLinP/lib/python3.11/site-packages (from torch-geometric) (4.66.2)\n",
      "Requirement already satisfied: numpy in /Data/basile-terver/venvs/.venv_DLinP/lib/python3.11/site-packages (from torch-geometric) (1.26.4)\n",
      "Requirement already satisfied: scipy in /Data/basile-terver/venvs/.venv_DLinP/lib/python3.11/site-packages (from torch-geometric) (1.12.0)\n",
      "Requirement already satisfied: fsspec in /Data/basile-terver/venvs/.venv_DLinP/lib/python3.11/site-packages (from torch-geometric) (2024.2.0)\n",
      "Requirement already satisfied: jinja2 in /Data/basile-terver/venvs/.venv_DLinP/lib/python3.11/site-packages (from torch-geometric) (3.1.3)\n",
      "Requirement already satisfied: aiohttp in /Data/basile-terver/venvs/.venv_DLinP/lib/python3.11/site-packages (from torch-geometric) (3.9.3)\n",
      "Requirement already satisfied: requests in /Data/basile-terver/venvs/.venv_DLinP/lib/python3.11/site-packages (from torch-geometric) (2.31.0)\n",
      "Requirement already satisfied: pyparsing in /Data/basile-terver/venvs/.venv_DLinP/lib/python3.11/site-packages (from torch-geometric) (3.1.1)\n",
      "Requirement already satisfied: scikit-learn in /Data/basile-terver/venvs/.venv_DLinP/lib/python3.11/site-packages (from torch-geometric) (1.4.1.post1)\n",
      "Requirement already satisfied: psutil>=5.8.0 in /Data/basile-terver/venvs/.venv_DLinP/lib/python3.11/site-packages (from torch-geometric) (5.9.8)\n",
      "Requirement already satisfied: aiosignal>=1.1.2 in /Data/basile-terver/venvs/.venv_DLinP/lib/python3.11/site-packages (from aiohttp->torch-geometric) (1.3.1)\n",
      "Requirement already satisfied: attrs>=17.3.0 in /Data/basile-terver/venvs/.venv_DLinP/lib/python3.11/site-packages (from aiohttp->torch-geometric) (23.2.0)\n",
      "Requirement already satisfied: frozenlist>=1.1.1 in /Data/basile-terver/venvs/.venv_DLinP/lib/python3.11/site-packages (from aiohttp->torch-geometric) (1.4.1)\n",
      "Requirement already satisfied: multidict<7.0,>=4.5 in /Data/basile-terver/venvs/.venv_DLinP/lib/python3.11/site-packages (from aiohttp->torch-geometric) (6.0.5)\n",
      "Requirement already satisfied: yarl<2.0,>=1.0 in /Data/basile-terver/venvs/.venv_DLinP/lib/python3.11/site-packages (from aiohttp->torch-geometric) (1.9.4)\n",
      "Requirement already satisfied: MarkupSafe>=2.0 in /Data/basile-terver/venvs/.venv_DLinP/lib/python3.11/site-packages (from jinja2->torch-geometric) (2.1.5)\n",
      "Requirement already satisfied: charset-normalizer<4,>=2 in /Data/basile-terver/venvs/.venv_DLinP/lib/python3.11/site-packages (from requests->torch-geometric) (3.3.2)\n",
      "Requirement already satisfied: idna<4,>=2.5 in /Data/basile-terver/venvs/.venv_DLinP/lib/python3.11/site-packages (from requests->torch-geometric) (3.6)\n",
      "Requirement already satisfied: urllib3<3,>=1.21.1 in /Data/basile-terver/venvs/.venv_DLinP/lib/python3.11/site-packages (from requests->torch-geometric) (2.2.0)\n",
      "Requirement already satisfied: certifi>=2017.4.17 in /Data/basile-terver/venvs/.venv_DLinP/lib/python3.11/site-packages (from requests->torch-geometric) (2024.2.2)\n",
      "Requirement already satisfied: joblib>=1.2.0 in /Data/basile-terver/venvs/.venv_DLinP/lib/python3.11/site-packages (from scikit-learn->torch-geometric) (1.3.2)\n",
      "Requirement already satisfied: threadpoolctl>=2.0.0 in /Data/basile-terver/venvs/.venv_DLinP/lib/python3.11/site-packages (from scikit-learn->torch-geometric) (3.3.0)\n",
      "\n",
      "\u001b[1m[\u001b[0m\u001b[34;49mnotice\u001b[0m\u001b[1;39;49m]\u001b[0m\u001b[39;49m A new release of pip is available: \u001b[0m\u001b[31;49m23.2.1\u001b[0m\u001b[39;49m -> \u001b[0m\u001b[32;49m24.0\u001b[0m\n",
      "\u001b[1m[\u001b[0m\u001b[34;49mnotice\u001b[0m\u001b[1;39;49m]\u001b[0m\u001b[39;49m To update, run: \u001b[0m\u001b[32;49mpip install --upgrade pip\u001b[0m\n"
     ]
    }
   ],
   "source": [
    "########## INSTALL TORCH GEOMETRIC ##################\n",
    "# https://pytorch-geometric.readthedocs.io/en/latest/\n",
    "#####################################################\n",
    "import torch\n",
    "\n",
    "\n",
    "def format_pytorch_version(version):\n",
    "    return version.split(\"+\")[0]\n",
    "\n",
    "\n",
    "TORCH_version = torch.__version__\n",
    "TORCH = format_pytorch_version(TORCH_version)\n",
    "\n",
    "\n",
    "def format_cuda_version(version):\n",
    "    return \"cu\" + version.replace(\".\", \"\")\n",
    "\n",
    "\n",
    "CUDA_version = torch.version.cuda\n",
    "CUDA = format_cuda_version(CUDA_version)\n",
    "\n",
    "!pip install torch-scatter     -f https://pytorch-geometric.com/whl/torch-{TORCH}+{CUDA}.html\n",
    "!pip install torch-sparse      -f https://pytorch-geometric.com/whl/torch-{TORCH}+{CUDA}.html\n",
    "!pip install torch-cluster     -f https://pytorch-geometric.com/whl/torch-{TORCH}+{CUDA}.html\n",
    "!pip install torch-spline-conv -f https://pytorch-geometric.com/whl/torch-{TORCH}+{CUDA}.html\n",
    "!pip install torch-geometric"
   ]
  },
  {
   "cell_type": "markdown",
   "metadata": {
    "cell_ktag": "igvw2CQ9lmSp",
    "id": "04JPKXjDclTj"
   },
   "source": [
    "### Import required packages\n",
    "\n",
    "Run the following cell to import all required packages. This cell **must not** be modified.\n",
    "\n",
    "To significantly accelerate your training, it is advised to use GPU. Using Google Colab, you need to activate it : \n",
    "\n",
    "*   Edit --> Notebook Setting --> Hardware accelerator --> GPU"
   ]
  },
  {
   "cell_type": "code",
   "execution_count": 29,
   "metadata": {
    "cell_ktag": "igvw2CQ9lmSp",
    "id": "qXGDmBMYgA_x"
   },
   "outputs": [],
   "source": [
    "#####################################################\n",
    "################## PACKAGES #########################\n",
    "#####################################################\n",
    "import torch\n",
    "import numpy as np\n",
    "import matplotlib.pyplot as plt\n",
    "\n",
    "import torch.nn as nn\n",
    "import torch_geometric.nn as graphnn\n",
    "from sklearn.metrics import f1_score\n",
    "from torch_geometric.datasets import PPI\n",
    "from torch_geometric.loader import DataLoader"
   ]
  },
  {
   "cell_type": "markdown",
   "metadata": {
    "cell_ktag": "igvw2CQ9lmSp",
    "id": "3UvCNG8FgdS-"
   },
   "source": [
    "### Dataset\n",
    "\n",
    "We use the Protein-Protein Interaction (PPI) network dataset which includes:\n",
    "- 20 graphs for training \n",
    "- 2 graphs for validation\n",
    "- 2 graphs for testing\n",
    "\n",
    "One graph of the PPI dataset has on average 2372 nodes. Each node:\n",
    "- 50 features : positional gene sets / motif gene / immunological signatures ...\n",
    "- 121 (binary) labels : gene ontology sets (way to classify gene products like proteins).\n",
    "\n",
    "**This problem aims to predict, for a given PPI graph, the correct node's labels**.\n",
    "\n",
    "**It is a node (multi-level) classification task** (trained using supervised learning). \n",
    "\n",
    "For your curiosity, more details information on the dataset and some applications:\n",
    "- https://cs.stanford.edu/~jure/pubs/pathways-psb18.pdf\n",
    "- https://arxiv.org/abs/1707.04638\n",
    "\n",
    "To understand how a graph data is implemented in Pytorch Geometric, refer to : https://pytorch-geometric.readthedocs.io/en/latest/get_started/introduction.html\n"
   ]
  },
  {
   "cell_type": "code",
   "execution_count": 30,
   "metadata": {
    "cell_ktag": "igvw2CQ9lmSp",
    "colab": {
     "base_uri": "https://localhost:8080/"
    },
    "id": "IwdNhvzVNkZB",
    "outputId": "64b6d3c5-43b2-420b-e5ce-0204fa1dd6be"
   },
   "outputs": [
    {
     "name": "stdout",
     "output_type": "stream",
     "text": [
      "Number of samples in the train dataset:  20\n",
      "Number of samples in the val dataset:  2\n",
      "Number of samples in the test dataset:  2\n",
      "Output of one sample from the train dataset:  Data(x=[1767, 50], edge_index=[2, 32318], y=[1767, 121])\n",
      "Target to train against shape: torch.Size([1767, 121])\n",
      "Target to train against: tensor([[1., 0., 0.,  ..., 1., 1., 0.],\n",
      "        [1., 0., 0.,  ..., 1., 1., 1.],\n",
      "        [1., 1., 1.,  ..., 0., 0., 0.],\n",
      "        ...,\n",
      "        [0., 0., 0.,  ..., 0., 0., 0.],\n",
      "        [0., 0., 0.,  ..., 0., 0., 0.],\n",
      "        [1., 0., 0.,  ..., 0., 0., 0.]])\n",
      "Target to train against for first node: tensor([1., 0., 0., 0., 0., 0., 0., 0., 0., 1., 0., 0., 1., 0., 0., 0., 0., 1.,\n",
      "        0., 1., 0., 1., 0., 0., 0., 1., 1., 0., 1., 0., 1., 1., 1., 0., 0., 0.,\n",
      "        0., 0., 0., 0., 0., 1., 0., 0., 0., 0., 0., 1., 0., 0., 0., 0., 0., 1.,\n",
      "        1., 0., 0., 0., 0., 0., 0., 1., 0., 0., 0., 1., 0., 0., 0., 0., 0., 0.,\n",
      "        0., 0., 0., 1., 0., 0., 0., 0., 0., 1., 0., 1., 0., 1., 0., 0., 0., 0.,\n",
      "        0., 0., 1., 0., 1., 1., 0., 1., 1., 0., 1., 0., 0., 0., 0., 0., 0., 0.,\n",
      "        0., 1., 0., 0., 0., 0., 0., 1., 1., 1., 1., 1., 0.])\n",
      "Edge_index :\n",
      "tensor([[   0,    0,    0,  ..., 1744, 1745, 1749],\n",
      "        [ 372, 1101,  766,  ..., 1745, 1744, 1739]])\n",
      "Number of features per node:  50\n",
      "Number of classes per node:  121\n"
     ]
    }
   ],
   "source": [
    "### LOAD DATASETS\n",
    "\n",
    "BATCH_SIZE = 2\n",
    "\n",
    "# Train Dataset\n",
    "train_dataset = PPI(root=\"\", split=\"train\")\n",
    "train_dataloader = DataLoader(train_dataset, batch_size=BATCH_SIZE)\n",
    "# Val Dataset\n",
    "val_dataset = PPI(root=\"\", split=\"val\")\n",
    "val_dataloader = DataLoader(val_dataset, batch_size=BATCH_SIZE)\n",
    "# Test Dataset\n",
    "test_dataset = PPI(root=\"\", split=\"test\")\n",
    "test_dataloader = DataLoader(test_dataset, batch_size=BATCH_SIZE)\n",
    "\n",
    "# Number of features and classes\n",
    "n_features, n_classes = train_dataset[0].x.shape[1], train_dataset[0].y.shape[1]\n",
    "\"\"\"\n",
    "From PyG documentation: \n",
    "A single graph in PyG is described by an instance of torch_geometric.data.Data, which holds the following attributes by default:\n",
    "data.x: Node feature matrix with shape [num_nodes, num_node_features]\n",
    "data.edge_index: Graph connectivity in COO format with shape [2, num_edges] and type torch.long\n",
    "data.edge_attr: Edge feature matrix with shape [num_edges, num_edge_features]\n",
    "data.y: Target to train against (may have arbitrary shape), e.g., node-level targets of shape \n",
    "[num_nodes, *] or graph-level targets of shape [1, *]\n",
    "data.pos: Node position matrix with shape [num_nodes, num_dimensions]\n",
    "\"\"\"\n",
    "\n",
    "print(\"Number of samples in the train dataset: \", len(train_dataset))\n",
    "print(\"Number of samples in the val dataset: \", len(test_dataset))\n",
    "print(\"Number of samples in the test dataset: \", len(test_dataset))\n",
    "print(\"Output of one sample from the train dataset: \", train_dataset[0])\n",
    "print(\"Target to train against shape:\",train_dataset[0].y.shape)\n",
    "print(\"Target to train against:\",train_dataset[0].y)\n",
    "print(\"Target to train against for first node:\",train_dataset[0].y[0])\n",
    "# goal is to predict node labels, which are k-hot encoded, this is multi-label classification\n",
    "print(\"Edge_index :\")\n",
    "print(train_dataset[0].edge_index)\n",
    "print(\"Number of features per node: \", n_features)\n",
    "print(\"Number of classes per node: \", n_classes)"
   ]
  },
  {
   "cell_type": "markdown",
   "metadata": {
    "cell_ktag": "igvw2CQ9lmSp",
    "id": "hiCcn9qeO6Nm"
   },
   "source": [
    "### Define a basic Model"
   ]
  },
  {
   "cell_type": "markdown",
   "metadata": {
    "cell_ktag": "igvw2CQ9lmSp",
    "id": "8RjzEiJ-eVot"
   },
   "source": [
    "Here we define a very simple Graph Neural Network model which will be used as our baseline. This model consists of three graph convolutional layers (from https://arxiv.org/pdf/1609.02907.pdf). The first two layers computes 256 features, followed by an ELU activation function. The last layer is used for (multi-level) classification task, computing 121 features."
   ]
  },
  {
   "cell_type": "code",
   "execution_count": 31,
   "metadata": {
    "cell_ktag": "igvw2CQ9lmSp",
    "id": "2Km-GN1aMpd_"
   },
   "outputs": [],
   "source": [
    "#####################################################\n",
    "################## MODEL ############################\n",
    "#####################################################\n",
    "class BasicGraphModel(nn.Module):\n",
    "    def __init__(self, input_size, hidden_size, output_size):\n",
    "        super().__init__()\n",
    "\n",
    "        self.graphconv1 = graphnn.GCNConv(input_size, hidden_size)\n",
    "        self.graphconv2 = graphnn.GCNConv(hidden_size, hidden_size)\n",
    "        self.graphconv3 = graphnn.GCNConv(hidden_size, output_size)\n",
    "\n",
    "        self.elu = nn.ELU()\n",
    "        # smooth ReLU but taking values in (-1,+infty)\n",
    "\n",
    "    def forward(self, x, edge_index):\n",
    "        x = self.graphconv1(x, edge_index)\n",
    "        x = self.elu(x)\n",
    "        x = self.graphconv2(x, edge_index)\n",
    "        x = self.elu(x)\n",
    "        x = self.graphconv3(x, edge_index)\n",
    "\n",
    "        return x"
   ]
  },
  {
   "cell_type": "markdown",
   "metadata": {
    "cell_ktag": "igvw2CQ9lmSp",
    "id": "6ekk0TrOktOB"
   },
   "source": [
    "Next we construct the function to train the model."
   ]
  },
  {
   "cell_type": "code",
   "execution_count": 32,
   "metadata": {
    "cell_ktag": "igvw2CQ9lmSp",
    "id": "m4lneoadMxqy"
   },
   "outputs": [],
   "source": [
    "#####################################################\n",
    "############## TRAIN FUNCTION #######################\n",
    "#####################################################\n",
    "def train(\n",
    "    model, loss_fcn, device, optimizer, max_epochs, train_dataloader, val_dataloader\n",
    "):\n",
    "\n",
    "    epoch_list = []\n",
    "    scores_list = []\n",
    "\n",
    "    # loop over epochs\n",
    "    for epoch in range(max_epochs):\n",
    "        model.train()\n",
    "        losses = []\n",
    "        # loop over batches\n",
    "        for i, train_batch in enumerate(train_dataloader):\n",
    "            optimizer.zero_grad()\n",
    "            train_batch_device = train_batch.to(device)\n",
    "            # logits is the output of the model\n",
    "            logits = model(train_batch_device.x, train_batch_device.edge_index)\n",
    "            # compute the loss\n",
    "            loss = loss_fcn(logits, train_batch_device.y)\n",
    "            # optimizer step\n",
    "            loss.backward()\n",
    "            optimizer.step()\n",
    "            losses.append(loss.item())\n",
    "        loss_data = np.array(losses).mean()\n",
    "        print(\"Epoch {:05d} | Loss: {:.4f}\".format(epoch + 1, loss_data))\n",
    "\n",
    "        if epoch % 5 == 0:\n",
    "            # evaluate the model on the validation set\n",
    "            # computes the f1-score (see next function)\n",
    "            score = evaluate(model, loss_fcn, device, val_dataloader)\n",
    "            print(\"F1-Score: {:.4f}\".format(score))\n",
    "            scores_list.append(score)\n",
    "            epoch_list.append(epoch)\n",
    "\n",
    "    return epoch_list, scores_list"
   ]
  },
  {
   "cell_type": "markdown",
   "metadata": {
    "cell_ktag": "igvw2CQ9lmSp",
    "id": "PTd9OqaelLni"
   },
   "source": [
    "Next function is designed to evaluate the performance of the model, computing the F1-Score"
   ]
  },
  {
   "cell_type": "code",
   "execution_count": 33,
   "metadata": {
    "cell_ktag": "igvw2CQ9lmSp",
    "id": "PajZzg5zM7V1"
   },
   "outputs": [],
   "source": [
    "#####################################################\n",
    "############### TEST FUNCTION #######################\n",
    "#####################################################\n",
    "def evaluate(model, loss_fcn, device, dataloader):\n",
    "    score_list_batch = []\n",
    "\n",
    "    model.eval()\n",
    "    for i, batch in enumerate(dataloader):\n",
    "        batch = batch.to(device)\n",
    "        output = model(batch.x, batch.edge_index)\n",
    "        loss_test = loss_fcn(output, batch.y)\n",
    "        # If the element of output is greater than or equal to 0, it replaces it with 1.\n",
    "        predict = np.where(output.detach().cpu().numpy() >= 0, 1, 0)\n",
    "        score = f1_score(batch.y.cpu().numpy(), predict, average=\"micro\")\n",
    "        score_list_batch.append(score)\n",
    "\n",
    "    return np.array(score_list_batch).mean()"
   ]
  },
  {
   "cell_type": "markdown",
   "metadata": {},
   "source": [
    "If the element of output is greater than or equal to 0, it replaces it with 1, otherwise 0. Thus, we would want an output layer activation function with values in (-1,1)."
   ]
  },
  {
   "cell_type": "markdown",
   "metadata": {
    "cell_ktag": "igvw2CQ9lmSp",
    "id": "EilgopwMlpsu"
   },
   "source": [
    "Let's train this model !"
   ]
  },
  {
   "cell_type": "code",
   "execution_count": 34,
   "metadata": {
    "cell_ktag": "igvw2CQ9lmSp",
    "colab": {
     "base_uri": "https://localhost:8080/"
    },
    "id": "Xkqo7e0gNACE",
    "outputId": "5f2ab59d-7841-4d79-da1b-2d7b4ed963c2"
   },
   "outputs": [
    {
     "name": "stdout",
     "output_type": "stream",
     "text": [
      "\n",
      "Device:  cuda\n",
      "Epoch 00001 | Loss: 0.6387\n",
      "F1-Score: 0.4529\n",
      "Epoch 00002 | Loss: 0.5815\n",
      "Epoch 00003 | Loss: 0.5620\n",
      "Epoch 00004 | Loss: 0.5563\n",
      "Epoch 00005 | Loss: 0.5511\n",
      "Epoch 00006 | Loss: 0.5457\n",
      "F1-Score: 0.4958\n",
      "Epoch 00007 | Loss: 0.5418\n",
      "Epoch 00008 | Loss: 0.5377\n",
      "Epoch 00009 | Loss: 0.5343\n",
      "Epoch 00010 | Loss: 0.5316\n",
      "Epoch 00011 | Loss: 0.5288\n",
      "F1-Score: 0.5206\n",
      "Epoch 00012 | Loss: 0.5260\n",
      "Epoch 00013 | Loss: 0.5234\n",
      "Epoch 00014 | Loss: 0.5210\n",
      "Epoch 00015 | Loss: 0.5186\n",
      "Epoch 00016 | Loss: 0.5163\n",
      "F1-Score: 0.5329\n",
      "Epoch 00017 | Loss: 0.5140\n",
      "Epoch 00018 | Loss: 0.5118\n",
      "Epoch 00019 | Loss: 0.5095\n",
      "Epoch 00020 | Loss: 0.5074\n",
      "Epoch 00021 | Loss: 0.5053\n",
      "F1-Score: 0.5415\n",
      "Epoch 00022 | Loss: 0.5033\n",
      "Epoch 00023 | Loss: 0.5013\n",
      "Epoch 00024 | Loss: 0.4994\n",
      "Epoch 00025 | Loss: 0.4975\n",
      "Epoch 00026 | Loss: 0.4957\n",
      "F1-Score: 0.5524\n",
      "Epoch 00027 | Loss: 0.4939\n",
      "Epoch 00028 | Loss: 0.4922\n",
      "Epoch 00029 | Loss: 0.4905\n",
      "Epoch 00030 | Loss: 0.4889\n",
      "Epoch 00031 | Loss: 0.4872\n",
      "F1-Score: 0.5630\n",
      "Epoch 00032 | Loss: 0.4858\n",
      "Epoch 00033 | Loss: 0.4843\n",
      "Epoch 00034 | Loss: 0.4832\n",
      "Epoch 00035 | Loss: 0.4822\n",
      "Epoch 00036 | Loss: 0.4811\n",
      "F1-Score: 0.5719\n",
      "Epoch 00037 | Loss: 0.4802\n",
      "Epoch 00038 | Loss: 0.4781\n",
      "Epoch 00039 | Loss: 0.4764\n",
      "Epoch 00040 | Loss: 0.4751\n",
      "Epoch 00041 | Loss: 0.4738\n",
      "F1-Score: 0.5774\n",
      "Epoch 00042 | Loss: 0.4723\n",
      "Epoch 00043 | Loss: 0.4715\n",
      "Epoch 00044 | Loss: 0.4702\n",
      "Epoch 00045 | Loss: 0.4696\n",
      "Epoch 00046 | Loss: 0.4702\n",
      "F1-Score: 0.5530\n",
      "Epoch 00047 | Loss: 0.4721\n",
      "Epoch 00048 | Loss: 0.4703\n",
      "Epoch 00049 | Loss: 0.4688\n",
      "Epoch 00050 | Loss: 0.4664\n",
      "Epoch 00051 | Loss: 0.4637\n",
      "F1-Score: 0.5619\n",
      "Epoch 00052 | Loss: 0.4612\n",
      "Epoch 00053 | Loss: 0.4600\n",
      "Epoch 00054 | Loss: 0.4587\n",
      "Epoch 00055 | Loss: 0.4576\n",
      "Epoch 00056 | Loss: 0.4563\n",
      "F1-Score: 0.5549\n",
      "Epoch 00057 | Loss: 0.4552\n",
      "Epoch 00058 | Loss: 0.4543\n",
      "Epoch 00059 | Loss: 0.4531\n",
      "Epoch 00060 | Loss: 0.4527\n",
      "Epoch 00061 | Loss: 0.4522\n",
      "F1-Score: 0.5552\n",
      "Epoch 00062 | Loss: 0.4524\n",
      "Epoch 00063 | Loss: 0.4526\n",
      "Epoch 00064 | Loss: 0.4520\n",
      "Epoch 00065 | Loss: 0.4508\n",
      "Epoch 00066 | Loss: 0.4512\n",
      "F1-Score: 0.5556\n",
      "Epoch 00067 | Loss: 0.4503\n",
      "Epoch 00068 | Loss: 0.4502\n",
      "Epoch 00069 | Loss: 0.4513\n",
      "Epoch 00070 | Loss: 0.4489\n",
      "Epoch 00071 | Loss: 0.4484\n",
      "F1-Score: 0.5986\n",
      "Epoch 00072 | Loss: 0.4466\n",
      "Epoch 00073 | Loss: 0.4456\n",
      "Epoch 00074 | Loss: 0.4444\n",
      "Epoch 00075 | Loss: 0.4432\n",
      "Epoch 00076 | Loss: 0.4419\n",
      "F1-Score: 0.6042\n",
      "Epoch 00077 | Loss: 0.4417\n",
      "Epoch 00078 | Loss: 0.4405\n",
      "Epoch 00079 | Loss: 0.4395\n",
      "Epoch 00080 | Loss: 0.4387\n",
      "Epoch 00081 | Loss: 0.4392\n",
      "F1-Score: 0.6032\n",
      "Epoch 00082 | Loss: 0.4397\n",
      "Epoch 00083 | Loss: 0.4393\n",
      "Epoch 00084 | Loss: 0.4385\n",
      "Epoch 00085 | Loss: 0.4393\n",
      "Epoch 00086 | Loss: 0.4396\n",
      "F1-Score: 0.5979\n",
      "Epoch 00087 | Loss: 0.4387\n",
      "Epoch 00088 | Loss: 0.4378\n",
      "Epoch 00089 | Loss: 0.4368\n",
      "Epoch 00090 | Loss: 0.4364\n",
      "Epoch 00091 | Loss: 0.4355\n",
      "F1-Score: 0.6088\n",
      "Epoch 00092 | Loss: 0.4334\n",
      "Epoch 00093 | Loss: 0.4318\n",
      "Epoch 00094 | Loss: 0.4309\n",
      "Epoch 00095 | Loss: 0.4298\n",
      "Epoch 00096 | Loss: 0.4289\n",
      "F1-Score: 0.6049\n",
      "Epoch 00097 | Loss: 0.4280\n",
      "Epoch 00098 | Loss: 0.4269\n",
      "Epoch 00099 | Loss: 0.4262\n",
      "Epoch 00100 | Loss: 0.4257\n",
      "Epoch 00101 | Loss: 0.4254\n",
      "F1-Score: 0.6140\n",
      "Epoch 00102 | Loss: 0.4248\n",
      "Epoch 00103 | Loss: 0.4250\n",
      "Epoch 00104 | Loss: 0.4244\n",
      "Epoch 00105 | Loss: 0.4240\n",
      "Epoch 00106 | Loss: 0.4250\n",
      "F1-Score: 0.6102\n",
      "Epoch 00107 | Loss: 0.4262\n",
      "Epoch 00108 | Loss: 0.4262\n",
      "Epoch 00109 | Loss: 0.4252\n",
      "Epoch 00110 | Loss: 0.4255\n",
      "Epoch 00111 | Loss: 0.4247\n",
      "F1-Score: 0.6107\n",
      "Epoch 00112 | Loss: 0.4250\n",
      "Epoch 00113 | Loss: 0.4252\n",
      "Epoch 00114 | Loss: 0.4259\n",
      "Epoch 00115 | Loss: 0.4236\n",
      "Epoch 00116 | Loss: 0.4223\n",
      "F1-Score: 0.6167\n",
      "Epoch 00117 | Loss: 0.4210\n",
      "Epoch 00118 | Loss: 0.4193\n",
      "Epoch 00119 | Loss: 0.4176\n",
      "Epoch 00120 | Loss: 0.4169\n",
      "Epoch 00121 | Loss: 0.4161\n",
      "F1-Score: 0.6083\n",
      "Epoch 00122 | Loss: 0.4162\n",
      "Epoch 00123 | Loss: 0.4164\n",
      "Epoch 00124 | Loss: 0.4160\n",
      "Epoch 00125 | Loss: 0.4155\n",
      "Epoch 00126 | Loss: 0.4151\n",
      "F1-Score: 0.6143\n",
      "Epoch 00127 | Loss: 0.4160\n",
      "Epoch 00128 | Loss: 0.4165\n",
      "Epoch 00129 | Loss: 0.4171\n",
      "Epoch 00130 | Loss: 0.4180\n",
      "Epoch 00131 | Loss: 0.4194\n",
      "F1-Score: 0.5873\n",
      "Epoch 00132 | Loss: 0.4169\n",
      "Epoch 00133 | Loss: 0.4168\n",
      "Epoch 00134 | Loss: 0.4180\n",
      "Epoch 00135 | Loss: 0.4170\n",
      "Epoch 00136 | Loss: 0.4158\n",
      "F1-Score: 0.6129\n",
      "Epoch 00137 | Loss: 0.4156\n",
      "Epoch 00138 | Loss: 0.4151\n",
      "Epoch 00139 | Loss: 0.4133\n",
      "Epoch 00140 | Loss: 0.4134\n",
      "Epoch 00141 | Loss: 0.4145\n",
      "F1-Score: 0.6082\n",
      "Epoch 00142 | Loss: 0.4153\n",
      "Epoch 00143 | Loss: 0.4159\n",
      "Epoch 00144 | Loss: 0.4189\n",
      "Epoch 00145 | Loss: 0.4216\n",
      "Epoch 00146 | Loss: 0.4229\n",
      "F1-Score: 0.6132\n",
      "Epoch 00147 | Loss: 0.4237\n",
      "Epoch 00148 | Loss: 0.4181\n",
      "Epoch 00149 | Loss: 0.4147\n",
      "Epoch 00150 | Loss: 0.4119\n",
      "Epoch 00151 | Loss: 0.4113\n",
      "F1-Score: 0.6151\n",
      "Epoch 00152 | Loss: 0.4112\n",
      "Epoch 00153 | Loss: 0.4113\n",
      "Epoch 00154 | Loss: 0.4115\n",
      "Epoch 00155 | Loss: 0.4115\n",
      "Epoch 00156 | Loss: 0.4135\n",
      "F1-Score: 0.6428\n",
      "Epoch 00157 | Loss: 0.4180\n",
      "Epoch 00158 | Loss: 0.4205\n",
      "Epoch 00159 | Loss: 0.4201\n",
      "Epoch 00160 | Loss: 0.4185\n",
      "Epoch 00161 | Loss: 0.4205\n",
      "F1-Score: 0.6445\n",
      "Epoch 00162 | Loss: 0.4176\n",
      "Epoch 00163 | Loss: 0.4229\n",
      "Epoch 00164 | Loss: 0.4208\n",
      "Epoch 00165 | Loss: 0.4200\n",
      "Epoch 00166 | Loss: 0.4171\n",
      "F1-Score: 0.6144\n",
      "Epoch 00167 | Loss: 0.4190\n",
      "Epoch 00168 | Loss: 0.4180\n",
      "Epoch 00169 | Loss: 0.4152\n",
      "Epoch 00170 | Loss: 0.4147\n",
      "Epoch 00171 | Loss: 0.4147\n",
      "F1-Score: 0.6003\n",
      "Epoch 00172 | Loss: 0.4127\n",
      "Epoch 00173 | Loss: 0.4120\n",
      "Epoch 00174 | Loss: 0.4110\n",
      "Epoch 00175 | Loss: 0.4095\n",
      "Epoch 00176 | Loss: 0.4075\n",
      "F1-Score: 0.6171\n",
      "Epoch 00177 | Loss: 0.4053\n",
      "Epoch 00178 | Loss: 0.4047\n",
      "Epoch 00179 | Loss: 0.4036\n",
      "Epoch 00180 | Loss: 0.4031\n",
      "Epoch 00181 | Loss: 0.4023\n",
      "F1-Score: 0.6357\n",
      "Epoch 00182 | Loss: 0.4033\n",
      "Epoch 00183 | Loss: 0.4022\n",
      "Epoch 00184 | Loss: 0.4033\n",
      "Epoch 00185 | Loss: 0.4038\n",
      "Epoch 00186 | Loss: 0.4032\n",
      "F1-Score: 0.6034\n",
      "Epoch 00187 | Loss: 0.4030\n",
      "Epoch 00188 | Loss: 0.4018\n",
      "Epoch 00189 | Loss: 0.4021\n",
      "Epoch 00190 | Loss: 0.4031\n",
      "Epoch 00191 | Loss: 0.4039\n",
      "F1-Score: 0.6548\n",
      "Epoch 00192 | Loss: 0.4054\n",
      "Epoch 00193 | Loss: 0.4078\n",
      "Epoch 00194 | Loss: 0.4150\n",
      "Epoch 00195 | Loss: 0.4172\n",
      "Epoch 00196 | Loss: 0.4160\n",
      "F1-Score: 0.6151\n",
      "Epoch 00197 | Loss: 0.4150\n",
      "Epoch 00198 | Loss: 0.4136\n",
      "Epoch 00199 | Loss: 0.4092\n",
      "Epoch 00200 | Loss: 0.4087\n"
     ]
    }
   ],
   "source": [
    "### DEVICE GPU OR CPU : will select GPU if available\n",
    "device = torch.device(\"cuda\" if torch.cuda.is_available() else \"cpu\")\n",
    "print(\"\\nDevice: \", device)\n",
    "\n",
    "### Max number of epochs\n",
    "max_epochs = 200\n",
    "\n",
    "### DEFINE THE MODEL\n",
    "basic_model = BasicGraphModel(\n",
    "    input_size=n_features, hidden_size=256, output_size=n_classes\n",
    ").to(device)\n",
    "\n",
    "### DEFINE LOSS FUNCTION\n",
    "loss_fcn = nn.BCEWithLogitsLoss()\n",
    "\n",
    "### DEFINE OPTIMIZER\n",
    "optimizer = torch.optim.Adam(basic_model.parameters(), lr=0.005)\n",
    "\n",
    "### TRAIN THE MODEL\n",
    "epoch_list, basic_model_scores = train(\n",
    "    basic_model,\n",
    "    loss_fcn,\n",
    "    device,\n",
    "    optimizer,\n",
    "    max_epochs,\n",
    "    train_dataloader,\n",
    "    val_dataloader,\n",
    ")"
   ]
  },
  {
   "cell_type": "markdown",
   "metadata": {
    "cell_ktag": "igvw2CQ9lmSp",
    "id": "2sGc5g7Xmap2"
   },
   "source": [
    "Let's evaluate the performance of this basic model"
   ]
  },
  {
   "cell_type": "code",
   "execution_count": 35,
   "metadata": {
    "cell_ktag": "igvw2CQ9lmSp",
    "colab": {
     "base_uri": "https://localhost:8080/",
     "height": 354
    },
    "id": "ztfbbg2TNP7F",
    "outputId": "06c3c0c7-2ceb-4cee-a4d7-a654fa127a57"
   },
   "outputs": [
    {
     "name": "stdout",
     "output_type": "stream",
     "text": [
      "Basic Model : F1-Score on the test set: 0.6372\n"
     ]
    },
    {
     "data": {
      "image/png": "[encoded data removed]",
      "text/plain": [
       "<Figure size 1000x500 with 1 Axes>"
      ]
     },
     "metadata": {},
     "output_type": "display_data"
    }
   ],
   "source": [
    "### F1-SCORE ON TEST DATASET\n",
    "score_test = evaluate(basic_model, loss_fcn, device, test_dataloader)\n",
    "print(\"Basic Model : F1-Score on the test set: {:.4f}\".format(score_test))\n",
    "\n",
    "\n",
    "### PLOT EVOLUTION OF F1-SCORE W.R.T EPOCHS\n",
    "def plot_f1_score(epoch_list, scores):\n",
    "    plt.figure(figsize=[10, 5])\n",
    "    plt.plot(epoch_list, scores)\n",
    "    plt.title(\"Evolution of F1S-Score w.r.t epochs\")\n",
    "    plt.ylim([0.0, 1.0])\n",
    "    plt.show()\n",
    "\n",
    "\n",
    "plot_f1_score(epoch_list, basic_model_scores)"
   ]
  },
  {
   "cell_type": "markdown",
   "metadata": {
    "cell_ktag": "igvw2CQ9lmSp",
    "id": "TRVsy5vLnWm_"
   },
   "source": [
    "### Define a better model\n",
    "\n",
    "Now, it's your turn to improve this basic model ! To do so, complete whenever ###### YOUR ANSWER ######## and run the two following cells.\n",
    "\n",
    "**HINT :** https://arxiv.org/pdf/1710.10903.pdf"
   ]
  },
  {
   "cell_type": "code",
   "execution_count": 36,
   "metadata": {
    "cell_ktag": "igvw2CQ9lmSp",
    "id": "qTo7PxFpRHzL"
   },
   "outputs": [],
   "source": [
    "from torch_geometric.nn import GAT, GATConv\n",
    "# from torch_geometric.nn import global_mean_pool, global_max_pool\n",
    "import torch.nn.functional as F\n",
    "\n",
    "class StudentModel(nn.Module):\n",
    "  # def __init__(self, input_size, hidden_size, output_size):\n",
    "  def __init__(self, num_node_features=50, nhid = 256, nout = n_classes, num_layers = 3, dropout=0.0, alpha=0.2):\n",
    "        # super(GAT, self).__init__()\n",
    "        super().__init__()\n",
    "        self.num_layers = num_layers\n",
    "        self.dropout = dropout\n",
    "        self.conv1 = GATConv(num_node_features, nhid, heads=4, dropout=dropout, concat=True, negative_slope=alpha)\n",
    "        self.conv2 = GATConv(nhid * 4, nhid, heads=4, dropout=dropout, concat=True, negative_slope=alpha)  \n",
    "        self.conv3 = GATConv(nhid * 4, nout, heads=6, dropout=dropout, concat=False, negative_slope=alpha)\n",
    "        # since we set concat=False on the last layer, we perform averaging over the 6 attention heads' output\n",
    "        # We can see in the parameters table below we have the right output shape\n",
    "      \n",
    "      ####### YOUR ANSWER #######\n",
    "      \n",
    "  def forward(self, x, edge_index):\n",
    "    # x, edge_index, batch = graph_batch.x, graph_batch.edge_index, graph_batch.batch\n",
    "    # 1st layer\n",
    "    x = F.elu(self.conv1(x, edge_index))\n",
    "    x = F.dropout(x, p=self.dropout, training=self.training)\n",
    "    # 2nd layer\n",
    "    x = F.elu(self.conv2(x, edge_index))\n",
    "    x = F.dropout(x, p=self.dropout, training=self.training)\n",
    "    # 3rd layer\n",
    "    x = self.conv3(x, edge_index)\n",
    "    x = 2*F.sigmoid(x)-1\n",
    "    # x = F.normalize(x, p=2, dim=-1)\n",
    "    \n",
    "    # x = global_mean_pool(x, batch)\n",
    "    # x = self.final_post_process1(x).relu()\n",
    "    # x = self.final_post_process2(x)\n",
    "    return x\n",
    "      ####### YOUR ANSWER #######\n"
   ]
  },
  {
   "cell_type": "markdown",
   "metadata": {},
   "source": [
    "Here we use the sigmoid (transformed to take values in (-1,1) as discussed above) activation for the output layer as is advised by https://www.geeksforgeeks.org/multiclass-classification-vs-multi-label-classification/ since it acts indepently on all labels. The softmax would act on all labels but this is not what we want since each node can belong to multiple classes."
   ]
  },
  {
   "cell_type": "markdown",
   "metadata": {},
   "source": [
    "Other code attempt from https://nn.labml.ai/graphs/gatv2/index.html that should be SOTA on the PPI dataset according to https://paperswithcode.com/sota/node-classification-on-ppi."
   ]
  },
  {
   "cell_type": "markdown",
   "metadata": {
    "cell_ktag": "igvw2CQ9lmSp",
    "id": "4yGdQ2uxpCAX"
   },
   "source": [
    "Let's train your model !"
   ]
  },
  {
   "cell_type": "code",
   "execution_count": 39,
   "metadata": {},
   "outputs": [],
   "source": [
    "## Student model\n",
    "student_model = StudentModel().to(device)"
   ]
  },
  {
   "cell_type": "code",
   "execution_count": 40,
   "metadata": {},
   "outputs": [],
   "source": [
    "from prettytable import PrettyTable\n",
    "\n",
    "def count_parameters(model):\n",
    "    table = PrettyTable([\"Modules\", \"Parameters\"])\n",
    "    total_params = 0\n",
    "    for name, parameter in model.named_parameters():\n",
    "        if not parameter.requires_grad:\n",
    "            continue\n",
    "        params = parameter.numel()\n",
    "        table.add_row([name, params])\n",
    "        total_params += params\n",
    "    print(table)\n",
    "    print(f\"Total Trainable Params: {total_params}\")\n",
    "    return total_params"
   ]
  },
  {
   "cell_type": "code",
   "execution_count": 41,
   "metadata": {},
   "outputs": [
    {
     "name": "stdout",
     "output_type": "stream",
     "text": [
      "+------------------+------------+\n",
      "|     Modules      | Parameters |\n",
      "+------------------+------------+\n",
      "|  conv1.att_src   |    1024    |\n",
      "|  conv1.att_dst   |    1024    |\n",
      "|    conv1.bias    |    1024    |\n",
      "| conv1.lin.weight |   51200    |\n",
      "|  conv2.att_src   |    1024    |\n",
      "|  conv2.att_dst   |    1024    |\n",
      "|    conv2.bias    |    1024    |\n",
      "| conv2.lin.weight |  1048576   |\n",
      "|  conv3.att_src   |    726     |\n",
      "|  conv3.att_dst   |    726     |\n",
      "|    conv3.bias    |    121     |\n",
      "| conv3.lin.weight |   743424   |\n",
      "+------------------+------------+\n",
      "Total Trainable Params: 1850917\n"
     ]
    },
    {
     "data": {
      "text/plain": [
       "1850917"
      ]
     },
     "execution_count": 41,
     "metadata": {},
     "output_type": "execute_result"
    }
   ],
   "source": [
    "count_parameters(student_model)"
   ]
  },
  {
   "cell_type": "code",
   "execution_count": 42,
   "metadata": {
    "cell_ktag": "igvw2CQ9lmSp",
    "id": "6XIYzkYRo3AQ"
   },
   "outputs": [
    {
     "name": "stdout",
     "output_type": "stream",
     "text": [
      "Epoch 00001 | Loss: 0.5954\n",
      "F1-Score: 0.3618\n",
      "Epoch 00002 | Loss: 0.5737\n",
      "Epoch 00003 | Loss: 0.5685\n",
      "Epoch 00004 | Loss: 0.5651\n",
      "Epoch 00005 | Loss: 0.5630\n",
      "Epoch 00006 | Loss: 0.5597\n",
      "F1-Score: 0.4778\n",
      "Epoch 00007 | Loss: 0.5572\n",
      "Epoch 00008 | Loss: 0.5517\n",
      "Epoch 00009 | Loss: 0.5491\n",
      "Epoch 00010 | Loss: 0.5483\n",
      "Epoch 00011 | Loss: 0.5442\n",
      "F1-Score: 0.4986\n",
      "Epoch 00012 | Loss: 0.5423\n",
      "Epoch 00013 | Loss: 0.5388\n",
      "Epoch 00014 | Loss: 0.5371\n",
      "Epoch 00015 | Loss: 0.5324\n",
      "Epoch 00016 | Loss: 0.5281\n",
      "F1-Score: 0.5464\n",
      "Epoch 00017 | Loss: 0.5239\n",
      "Epoch 00018 | Loss: 0.5206\n",
      "Epoch 00019 | Loss: 0.5185\n",
      "Epoch 00020 | Loss: 0.5139\n",
      "Epoch 00021 | Loss: 0.5111\n",
      "F1-Score: 0.5809\n",
      "Epoch 00022 | Loss: 0.5084\n",
      "Epoch 00023 | Loss: 0.5044\n",
      "Epoch 00024 | Loss: 0.5035\n",
      "Epoch 00025 | Loss: 0.5027\n",
      "Epoch 00026 | Loss: 0.4977\n",
      "F1-Score: 0.6342\n",
      "Epoch 00027 | Loss: 0.4923\n",
      "Epoch 00028 | Loss: 0.4887\n",
      "Epoch 00029 | Loss: 0.4867\n",
      "Epoch 00030 | Loss: 0.4851\n",
      "Epoch 00031 | Loss: 0.4824\n",
      "F1-Score: 0.6430\n",
      "Epoch 00032 | Loss: 0.4784\n",
      "Epoch 00033 | Loss: 0.4753\n",
      "Epoch 00034 | Loss: 0.4715\n",
      "Epoch 00035 | Loss: 0.4691\n",
      "Epoch 00036 | Loss: 0.4676\n",
      "F1-Score: 0.6989\n",
      "Epoch 00037 | Loss: 0.4655\n",
      "Epoch 00038 | Loss: 0.4650\n",
      "Epoch 00039 | Loss: 0.4663\n",
      "Epoch 00040 | Loss: 0.4642\n",
      "Epoch 00041 | Loss: 0.4605\n",
      "F1-Score: 0.6918\n",
      "Epoch 00042 | Loss: 0.4587\n",
      "Epoch 00043 | Loss: 0.4558\n",
      "Epoch 00044 | Loss: 0.4539\n",
      "Epoch 00045 | Loss: 0.4509\n",
      "Epoch 00046 | Loss: 0.4479\n",
      "F1-Score: 0.7310\n",
      "Epoch 00047 | Loss: 0.4459\n",
      "Epoch 00048 | Loss: 0.4436\n",
      "Epoch 00049 | Loss: 0.4418\n",
      "Epoch 00050 | Loss: 0.4399\n",
      "Epoch 00051 | Loss: 0.4375\n",
      "F1-Score: 0.7432\n",
      "Epoch 00052 | Loss: 0.4358\n",
      "Epoch 00053 | Loss: 0.4339\n",
      "Epoch 00054 | Loss: 0.4332\n",
      "Epoch 00055 | Loss: 0.4319\n",
      "Epoch 00056 | Loss: 0.4312\n",
      "F1-Score: 0.7546\n",
      "Epoch 00057 | Loss: 0.4311\n",
      "Epoch 00058 | Loss: 0.4314\n",
      "Epoch 00059 | Loss: 0.4311\n",
      "Epoch 00060 | Loss: 0.4293\n",
      "Epoch 00061 | Loss: 0.4272\n",
      "F1-Score: 0.7632\n",
      "Epoch 00062 | Loss: 0.4263\n",
      "Epoch 00063 | Loss: 0.4249\n",
      "Epoch 00064 | Loss: 0.4252\n",
      "Epoch 00065 | Loss: 0.4246\n",
      "Epoch 00066 | Loss: 0.4219\n",
      "F1-Score: 0.7768\n",
      "Epoch 00067 | Loss: 0.4198\n",
      "Epoch 00068 | Loss: 0.4178\n",
      "Epoch 00069 | Loss: 0.4162\n",
      "Epoch 00070 | Loss: 0.4139\n",
      "Epoch 00071 | Loss: 0.4127\n",
      "F1-Score: 0.7841\n",
      "Epoch 00072 | Loss: 0.4122\n",
      "Epoch 00073 | Loss: 0.4116\n",
      "Epoch 00074 | Loss: 0.4103\n",
      "Epoch 00075 | Loss: 0.4098\n",
      "Epoch 00076 | Loss: 0.4096\n",
      "F1-Score: 0.7915\n",
      "Epoch 00077 | Loss: 0.4089\n",
      "Epoch 00078 | Loss: 0.4089\n",
      "Epoch 00079 | Loss: 0.4098\n",
      "Epoch 00080 | Loss: 0.4110\n",
      "Epoch 00081 | Loss: 0.4116\n",
      "F1-Score: 0.7898\n",
      "Epoch 00082 | Loss: 0.4111\n",
      "Epoch 00083 | Loss: 0.4089\n",
      "Epoch 00084 | Loss: 0.4060\n",
      "Epoch 00085 | Loss: 0.4039\n",
      "Epoch 00086 | Loss: 0.4026\n",
      "F1-Score: 0.8023\n",
      "Epoch 00087 | Loss: 0.4020\n",
      "Epoch 00088 | Loss: 0.4014\n",
      "Epoch 00089 | Loss: 0.4018\n",
      "Epoch 00090 | Loss: 0.4004\n",
      "Epoch 00091 | Loss: 0.4004\n",
      "F1-Score: 0.8018\n",
      "Epoch 00092 | Loss: 0.3999\n",
      "Epoch 00093 | Loss: 0.4006\n",
      "Epoch 00094 | Loss: 0.3998\n",
      "Epoch 00095 | Loss: 0.3993\n",
      "Epoch 00096 | Loss: 0.3987\n",
      "F1-Score: 0.8099\n",
      "Epoch 00097 | Loss: 0.3977\n",
      "Epoch 00098 | Loss: 0.3968\n",
      "Epoch 00099 | Loss: 0.3962\n",
      "Epoch 00100 | Loss: 0.3957\n",
      "Epoch 00101 | Loss: 0.3953\n",
      "F1-Score: 0.8144\n",
      "Epoch 00102 | Loss: 0.3950\n",
      "Epoch 00103 | Loss: 0.3944\n",
      "Epoch 00104 | Loss: 0.3945\n",
      "Epoch 00105 | Loss: 0.3943\n",
      "Epoch 00106 | Loss: 0.3944\n",
      "F1-Score: 0.8186\n",
      "Epoch 00107 | Loss: 0.3943\n",
      "Epoch 00108 | Loss: 0.3934\n",
      "Epoch 00109 | Loss: 0.3928\n",
      "Epoch 00110 | Loss: 0.3922\n",
      "Epoch 00111 | Loss: 0.3913\n",
      "F1-Score: 0.8169\n",
      "Epoch 00112 | Loss: 0.3907\n",
      "Epoch 00113 | Loss: 0.3899\n",
      "Epoch 00114 | Loss: 0.3894\n",
      "Epoch 00115 | Loss: 0.3894\n",
      "Epoch 00116 | Loss: 0.3886\n",
      "F1-Score: 0.8262\n",
      "Epoch 00117 | Loss: 0.3883\n",
      "Epoch 00118 | Loss: 0.3871\n",
      "Epoch 00119 | Loss: 0.3869\n",
      "Epoch 00120 | Loss: 0.3857\n",
      "Epoch 00121 | Loss: 0.3849\n",
      "F1-Score: 0.8251\n",
      "Epoch 00122 | Loss: 0.3847\n",
      "Epoch 00123 | Loss: 0.3848\n",
      "Epoch 00124 | Loss: 0.3855\n",
      "Epoch 00125 | Loss: 0.3856\n",
      "Epoch 00126 | Loss: 0.3857\n",
      "F1-Score: 0.8207\n",
      "Epoch 00127 | Loss: 0.3849\n",
      "Epoch 00128 | Loss: 0.3855\n",
      "Epoch 00129 | Loss: 0.3846\n",
      "Epoch 00130 | Loss: 0.3830\n",
      "Epoch 00131 | Loss: 0.3821\n",
      "F1-Score: 0.8321\n",
      "Epoch 00132 | Loss: 0.3811\n",
      "Epoch 00133 | Loss: 0.3801\n",
      "Epoch 00134 | Loss: 0.3804\n",
      "Epoch 00135 | Loss: 0.3803\n",
      "Epoch 00136 | Loss: 0.3801\n",
      "F1-Score: 0.8284\n",
      "Epoch 00137 | Loss: 0.3803\n",
      "Epoch 00138 | Loss: 0.3802\n",
      "Epoch 00139 | Loss: 0.3796\n",
      "Epoch 00140 | Loss: 0.3791\n",
      "Epoch 00141 | Loss: 0.3784\n",
      "F1-Score: 0.8287\n",
      "Epoch 00142 | Loss: 0.3773\n",
      "Epoch 00143 | Loss: 0.3778\n",
      "Epoch 00144 | Loss: 0.3778\n",
      "Epoch 00145 | Loss: 0.3770\n",
      "Epoch 00146 | Loss: 0.3774\n",
      "F1-Score: 0.8288\n",
      "Epoch 00147 | Loss: 0.3769\n",
      "Epoch 00148 | Loss: 0.3775\n",
      "Epoch 00149 | Loss: 0.3778\n",
      "Epoch 00150 | Loss: 0.3781\n",
      "Epoch 00151 | Loss: 0.3779\n",
      "F1-Score: 0.8361\n",
      "Epoch 00152 | Loss: 0.3772\n",
      "Epoch 00153 | Loss: 0.3767\n",
      "Epoch 00154 | Loss: 0.3771\n",
      "Epoch 00155 | Loss: 0.3766\n",
      "Epoch 00156 | Loss: 0.3753\n",
      "F1-Score: 0.8398\n",
      "Epoch 00157 | Loss: 0.3764\n",
      "Epoch 00158 | Loss: 0.3756\n",
      "Epoch 00159 | Loss: 0.3756\n",
      "Epoch 00160 | Loss: 0.3759\n",
      "Epoch 00161 | Loss: 0.3771\n",
      "F1-Score: 0.8374\n",
      "Epoch 00162 | Loss: 0.3783\n",
      "Epoch 00163 | Loss: 0.3785\n",
      "Epoch 00164 | Loss: 0.3778\n",
      "Epoch 00165 | Loss: 0.3759\n",
      "Epoch 00166 | Loss: 0.3754\n",
      "F1-Score: 0.8448\n",
      "Epoch 00167 | Loss: 0.3738\n",
      "Epoch 00168 | Loss: 0.3733\n",
      "Epoch 00169 | Loss: 0.3736\n",
      "Epoch 00170 | Loss: 0.3741\n",
      "Epoch 00171 | Loss: 0.3743\n",
      "F1-Score: 0.8451\n",
      "Epoch 00172 | Loss: 0.3747\n",
      "Epoch 00173 | Loss: 0.3736\n",
      "Epoch 00174 | Loss: 0.3727\n",
      "Epoch 00175 | Loss: 0.3724\n",
      "Epoch 00176 | Loss: 0.3715\n",
      "F1-Score: 0.8494\n",
      "Epoch 00177 | Loss: 0.3714\n",
      "Epoch 00178 | Loss: 0.3712\n",
      "Epoch 00179 | Loss: 0.3715\n",
      "Epoch 00180 | Loss: 0.3714\n",
      "Epoch 00181 | Loss: 0.3716\n",
      "F1-Score: 0.8500\n",
      "Epoch 00182 | Loss: 0.3713\n",
      "Epoch 00183 | Loss: 0.3707\n",
      "Epoch 00184 | Loss: 0.3700\n",
      "Epoch 00185 | Loss: 0.3699\n",
      "Epoch 00186 | Loss: 0.3696\n",
      "F1-Score: 0.8539\n",
      "Epoch 00187 | Loss: 0.3689\n",
      "Epoch 00188 | Loss: 0.3690\n",
      "Epoch 00189 | Loss: 0.3688\n",
      "Epoch 00190 | Loss: 0.3692\n",
      "Epoch 00191 | Loss: 0.3688\n",
      "F1-Score: 0.8497\n",
      "Epoch 00192 | Loss: 0.3685\n",
      "Epoch 00193 | Loss: 0.3684\n",
      "Epoch 00194 | Loss: 0.3682\n",
      "Epoch 00195 | Loss: 0.3684\n",
      "Epoch 00196 | Loss: 0.3678\n",
      "F1-Score: 0.8485\n",
      "Epoch 00197 | Loss: 0.3680\n",
      "Epoch 00198 | Loss: 0.3676\n",
      "Epoch 00199 | Loss: 0.3679\n",
      "Epoch 00200 | Loss: 0.3679\n"
     ]
    }
   ],
   "source": [
    "### DEFINE LOSS FUNCTION AND OPTIMIZER\n",
    "optimizer = torch.optim.Adam(student_model.parameters(), lr=0.005)\n",
    "\n",
    "### TRAIN\n",
    "epoch_list, student_model_scores = train(student_model, loss_fcn, device, optimizer, max_epochs, train_dataloader, val_dataloader)"
   ]
  },
  {
   "cell_type": "markdown",
   "metadata": {
    "cell_ktag": "igvw2CQ9lmSp",
    "id": "aWatNTPBpQGY"
   },
   "source": [
    "Let's evaluate the performance of your model"
   ]
  },
  {
   "cell_type": "code",
   "execution_count": 43,
   "metadata": {
    "cell_ktag": "igvw2CQ9lmSp",
    "id": "WFWMqwDuSj7b"
   },
   "outputs": [
    {
     "name": "stdout",
     "output_type": "stream",
     "text": [
      "Student Model : F1-Score on the test set: 0.8756\n"
     ]
    },
    {
     "data": {
      "image/png": "[encoded data removed]",
      "text/plain": [
       "<Figure size 1000x500 with 1 Axes>"
      ]
     },
     "metadata": {},
     "output_type": "display_data"
    }
   ],
   "source": [
    "score_test = evaluate(student_model, loss_fcn, device, test_dataloader)\n",
    "print(\"Student Model : F1-Score on the test set: {:.4f}\".format(score_test))\n",
    "\n",
    "\n",
    "def plot_f1_score(epoch_list, basic_model_scores, student_model_scores):\n",
    "    plt.figure(figsize=[10, 5])\n",
    "    plt.plot(epoch_list, basic_model_scores, \"b\", label=\"Basic Model\")\n",
    "    plt.plot(epoch_list, student_model_scores, \"r\", label=\"Student Model\")\n",
    "    plt.title(\"Evolution of f1 score w.r.t epochs\")\n",
    "    plt.ylim([0.0, 1.0])\n",
    "    plt.ylabel(\"Epochs\")\n",
    "    plt.xlabel(\"F1-Score\")\n",
    "    plt.legend()\n",
    "    plt.show()\n",
    "\n",
    "\n",
    "plot_f1_score(epoch_list, basic_model_scores, student_model_scores)"
   ]
  },
  {
   "cell_type": "markdown",
   "metadata": {
    "cell_ktag": "igvw2CQ9lmSp",
    "id": "i9aVEYkuR3fp"
   },
   "source": [
    "## **PART 2 : QUESTIONS** (12/20)"
   ]
  },
  {
   "cell_type": "markdown",
   "metadata": {
    "cell_ktag": "igvw2CQ9lmSp",
    "id": "vZ-r6AWtR-Co"
   },
   "source": [
    "**1. Make a small paragraph that : (4pts)**\n",
    "1. Explains your achitecture and justify your choices (why the Graph Layer you chose is more efficient than the GCNLayer from the Basic Model?).\n",
    "2. Analyses your results (what is the F1-Score ? are your results convincing ? what is your position w.r.t state-of-the-art ?)."
   ]
  },
  {
   "cell_type": "code",
   "execution_count": 44,
   "metadata": {
    "cell_ktag": "igvw2CQ9lmSp"
   },
   "outputs": [],
   "source": [
    "# Your code goes here"
   ]
  },
  {
   "cell_type": "markdown",
   "metadata": {
    "cell_ktag": "igvw2CQ9lmSp"
   },
   "source": [
    ">Answer"
   ]
  },
  {
   "cell_type": "markdown",
   "metadata": {
    "cell_ktag": "igvw2CQ9lmSp"
   },
   "source": []
  },
  {
   "cell_type": "markdown",
   "metadata": {
    "cell_ktag": "igvw2CQ9lmSp",
    "id": "5HIVqG4u5jfc"
   },
   "source": [
    "**2. Provide a diagramm of your architecture, which includes a good and clear legend as well as shapes information. The diagramm must be submitted as an external file, along with this notebook (PDF, JEPG or PNG format accepted). (2pts)**"
   ]
  },
  {
   "cell_type": "markdown",
   "metadata": {
    "cell_ktag": "igvw2CQ9lmSp",
    "id": "crMHLjkJ5pxl"
   },
   "source": [
    "**3. Make a small paragraph that explains: (6pts)**\n",
    "1. What _oversmoothing_ is in the context of Graph Neural Network. Why is it an issue ? \n",
    "2. Are there solutions to overcome it ? \n",
    "3. Do you think the model you constructed is robust with respect to oversmoothing ? Why ?"
   ]
  },
  {
   "cell_type": "markdown",
   "metadata": {
    "cell_ktag": "igvw2CQ9lmSp",
    "id": "QLPosSov_uPK"
   },
   "source": [
    "> Answer"
   ]
  },
  {
   "cell_type": "markdown",
   "metadata": {
    "cell_ktag": "igvw2CQ9lmSp"
   },
   "source": []
  }
 ],
 "metadata": {
  "accelerator": "GPU",
  "colab": {
   "provenance": []
  },
  "gpuClass": "standard",
  "kernelspec": {
   "display_name": "Python 3",
   "language": "python",
   "name": "python3"
  },
  "kfiletag": "igvw2CQ9lmSp",
  "language_info": {
   "codemirror_mode": {
    "name": "ipython",
    "version": 3
   },
   "file_extension": ".py",
   "mimetype": "text/x-python",
   "name": "python",
   "nbconvert_exporter": "python",
   "pygments_lexer": "ipython3",
   "version": "3.11.5"
  }
 },
 "nbformat": 4,
 "nbformat_minor": 1
}
