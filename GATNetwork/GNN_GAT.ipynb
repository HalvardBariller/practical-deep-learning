{
 "cells": [
  {
   "cell_type": "markdown",
   "metadata": {
    "cell_ktag": "igvw2CQ9lmSp",
    "id": "nlCNZsWlOSfP"
   },
   "source": [
    "# Practical Session on Graph Neural Networks\n",
    "\n",
    "**by Matthieu Nastorg and Cyriaque Rousselot**"
   ]
  },
  {
   "cell_type": "markdown",
   "metadata": {
    "cell_ktag": "igvw2CQ9lmSp",
    "id": "p0RMEfCaEehI"
   },
   "source": [
    "## **PART 1 : CODING** (8/20)"
   ]
  },
  {
   "cell_type": "markdown",
   "metadata": {
    "cell_ktag": "igvw2CQ9lmSp",
    "id": "v5Lp4PasOby4"
   },
   "source": [
    "### Install Pytorch Geometric\n",
    "\n",
    "To handle graph data, we use the library Pytorch Geometric : https://pytorch-geometric.readthedocs.io/en/latest/\n",
    "\n",
    "*   If you use _Google Colab_, simply run the following cell to install Pytorch Geometric (**advised**).\n",
    "*   If you plan using your _own environment_, follow the documentation to install Pytorch Geometric : https://pytorch-geometric.readthedocs.io/en/latest/install/installation.html and skip the following cell."
   ]
  },
  {
   "cell_type": "code",
   "execution_count": 15,
   "metadata": {
    "cell_ktag": "igvw2CQ9lmSp",
    "colab": {
     "base_uri": "https://localhost:8080/",
     "height": 1000
    },
    "id": "buW3eZmrj1N2",
    "outputId": "825f2cc5-6c42-40b6-c811-de8e83815d1a"
   },
   "outputs": [
    {
     "name": "stdout",
     "output_type": "stream",
     "text": [
      "Looking in links: https://pytorch-geometric.com/whl/torch-2.2.0+cu121.html\n",
      "Requirement already satisfied: torch-scatter in /Data/basile-terver/venvs/.venv_DLinP/lib/python3.11/site-packages (2.1.2+pt22cu121)\n",
      "\n",
      "\u001b[1m[\u001b[0m\u001b[34;49mnotice\u001b[0m\u001b[1;39;49m]\u001b[0m\u001b[39;49m A new release of pip is available: \u001b[0m\u001b[31;49m23.2.1\u001b[0m\u001b[39;49m -> \u001b[0m\u001b[32;49m24.0\u001b[0m\n",
      "\u001b[1m[\u001b[0m\u001b[34;49mnotice\u001b[0m\u001b[1;39;49m]\u001b[0m\u001b[39;49m To update, run: \u001b[0m\u001b[32;49mpip install --upgrade pip\u001b[0m\n",
      "Looking in links: https://pytorch-geometric.com/whl/torch-2.2.0+cu121.html\n",
      "Requirement already satisfied: torch-sparse in /Data/basile-terver/venvs/.venv_DLinP/lib/python3.11/site-packages (0.6.18+pt22cu121)\n",
      "Requirement already satisfied: scipy in /Data/basile-terver/venvs/.venv_DLinP/lib/python3.11/site-packages (from torch-sparse) (1.12.0)\n",
      "Requirement already satisfied: numpy<1.29.0,>=1.22.4 in /Data/basile-terver/venvs/.venv_DLinP/lib/python3.11/site-packages (from scipy->torch-sparse) (1.26.4)\n",
      "\n",
      "\u001b[1m[\u001b[0m\u001b[34;49mnotice\u001b[0m\u001b[1;39;49m]\u001b[0m\u001b[39;49m A new release of pip is available: \u001b[0m\u001b[31;49m23.2.1\u001b[0m\u001b[39;49m -> \u001b[0m\u001b[32;49m24.0\u001b[0m\n",
      "\u001b[1m[\u001b[0m\u001b[34;49mnotice\u001b[0m\u001b[1;39;49m]\u001b[0m\u001b[39;49m To update, run: \u001b[0m\u001b[32;49mpip install --upgrade pip\u001b[0m\n",
      "Looking in links: https://pytorch-geometric.com/whl/torch-2.2.0+cu121.html\n",
      "Requirement already satisfied: torch-cluster in /Data/basile-terver/venvs/.venv_DLinP/lib/python3.11/site-packages (1.6.3+pt22cu121)\n",
      "Requirement already satisfied: scipy in /Data/basile-terver/venvs/.venv_DLinP/lib/python3.11/site-packages (from torch-cluster) (1.12.0)\n",
      "Requirement already satisfied: numpy<1.29.0,>=1.22.4 in /Data/basile-terver/venvs/.venv_DLinP/lib/python3.11/site-packages (from scipy->torch-cluster) (1.26.4)\n",
      "\n",
      "\u001b[1m[\u001b[0m\u001b[34;49mnotice\u001b[0m\u001b[1;39;49m]\u001b[0m\u001b[39;49m A new release of pip is available: \u001b[0m\u001b[31;49m23.2.1\u001b[0m\u001b[39;49m -> \u001b[0m\u001b[32;49m24.0\u001b[0m\n",
      "\u001b[1m[\u001b[0m\u001b[34;49mnotice\u001b[0m\u001b[1;39;49m]\u001b[0m\u001b[39;49m To update, run: \u001b[0m\u001b[32;49mpip install --upgrade pip\u001b[0m\n"
     ]
    },
    {
     "name": "stdout",
     "output_type": "stream",
     "text": [
      "Looking in links: https://pytorch-geometric.com/whl/torch-2.2.0+cu121.html\n",
      "Requirement already satisfied: torch-spline-conv in /Data/basile-terver/venvs/.venv_DLinP/lib/python3.11/site-packages (1.2.2+pt22cu121)\n",
      "\n",
      "\u001b[1m[\u001b[0m\u001b[34;49mnotice\u001b[0m\u001b[1;39;49m]\u001b[0m\u001b[39;49m A new release of pip is available: \u001b[0m\u001b[31;49m23.2.1\u001b[0m\u001b[39;49m -> \u001b[0m\u001b[32;49m24.0\u001b[0m\n",
      "\u001b[1m[\u001b[0m\u001b[34;49mnotice\u001b[0m\u001b[1;39;49m]\u001b[0m\u001b[39;49m To update, run: \u001b[0m\u001b[32;49mpip install --upgrade pip\u001b[0m\n",
      "Requirement already satisfied: torch-geometric in /Data/basile-terver/venvs/.venv_DLinP/lib/python3.11/site-packages (2.5.0)\n",
      "Requirement already satisfied: tqdm in /Data/basile-terver/venvs/.venv_DLinP/lib/python3.11/site-packages (from torch-geometric) (4.66.2)\n",
      "Requirement already satisfied: numpy in /Data/basile-terver/venvs/.venv_DLinP/lib/python3.11/site-packages (from torch-geometric) (1.26.4)\n",
      "Requirement already satisfied: scipy in /Data/basile-terver/venvs/.venv_DLinP/lib/python3.11/site-packages (from torch-geometric) (1.12.0)\n",
      "Requirement already satisfied: fsspec in /Data/basile-terver/venvs/.venv_DLinP/lib/python3.11/site-packages (from torch-geometric) (2024.2.0)\n",
      "Requirement already satisfied: jinja2 in /Data/basile-terver/venvs/.venv_DLinP/lib/python3.11/site-packages (from torch-geometric) (3.1.3)\n",
      "Requirement already satisfied: aiohttp in /Data/basile-terver/venvs/.venv_DLinP/lib/python3.11/site-packages (from torch-geometric) (3.9.3)\n",
      "Requirement already satisfied: requests in /Data/basile-terver/venvs/.venv_DLinP/lib/python3.11/site-packages (from torch-geometric) (2.31.0)\n",
      "Requirement already satisfied: pyparsing in /Data/basile-terver/venvs/.venv_DLinP/lib/python3.11/site-packages (from torch-geometric) (3.1.1)\n",
      "Requirement already satisfied: scikit-learn in /Data/basile-terver/venvs/.venv_DLinP/lib/python3.11/site-packages (from torch-geometric) (1.4.1.post1)\n",
      "Requirement already satisfied: psutil>=5.8.0 in /Data/basile-terver/venvs/.venv_DLinP/lib/python3.11/site-packages (from torch-geometric) (5.9.8)\n",
      "Requirement already satisfied: aiosignal>=1.1.2 in /Data/basile-terver/venvs/.venv_DLinP/lib/python3.11/site-packages (from aiohttp->torch-geometric) (1.3.1)\n",
      "Requirement already satisfied: attrs>=17.3.0 in /Data/basile-terver/venvs/.venv_DLinP/lib/python3.11/site-packages (from aiohttp->torch-geometric) (23.2.0)\n",
      "Requirement already satisfied: frozenlist>=1.1.1 in /Data/basile-terver/venvs/.venv_DLinP/lib/python3.11/site-packages (from aiohttp->torch-geometric) (1.4.1)\n",
      "Requirement already satisfied: multidict<7.0,>=4.5 in /Data/basile-terver/venvs/.venv_DLinP/lib/python3.11/site-packages (from aiohttp->torch-geometric) (6.0.5)\n",
      "Requirement already satisfied: yarl<2.0,>=1.0 in /Data/basile-terver/venvs/.venv_DLinP/lib/python3.11/site-packages (from aiohttp->torch-geometric) (1.9.4)\n",
      "Requirement already satisfied: MarkupSafe>=2.0 in /Data/basile-terver/venvs/.venv_DLinP/lib/python3.11/site-packages (from jinja2->torch-geometric) (2.1.5)\n",
      "Requirement already satisfied: charset-normalizer<4,>=2 in /Data/basile-terver/venvs/.venv_DLinP/lib/python3.11/site-packages (from requests->torch-geometric) (3.3.2)\n",
      "Requirement already satisfied: idna<4,>=2.5 in /Data/basile-terver/venvs/.venv_DLinP/lib/python3.11/site-packages (from requests->torch-geometric) (3.6)\n",
      "Requirement already satisfied: urllib3<3,>=1.21.1 in /Data/basile-terver/venvs/.venv_DLinP/lib/python3.11/site-packages (from requests->torch-geometric) (2.2.0)\n",
      "Requirement already satisfied: certifi>=2017.4.17 in /Data/basile-terver/venvs/.venv_DLinP/lib/python3.11/site-packages (from requests->torch-geometric) (2024.2.2)\n",
      "Requirement already satisfied: joblib>=1.2.0 in /Data/basile-terver/venvs/.venv_DLinP/lib/python3.11/site-packages (from scikit-learn->torch-geometric) (1.3.2)\n",
      "Requirement already satisfied: threadpoolctl>=2.0.0 in /Data/basile-terver/venvs/.venv_DLinP/lib/python3.11/site-packages (from scikit-learn->torch-geometric) (3.3.0)\n",
      "\n",
      "\u001b[1m[\u001b[0m\u001b[34;49mnotice\u001b[0m\u001b[1;39;49m]\u001b[0m\u001b[39;49m A new release of pip is available: \u001b[0m\u001b[31;49m23.2.1\u001b[0m\u001b[39;49m -> \u001b[0m\u001b[32;49m24.0\u001b[0m\n",
      "\u001b[1m[\u001b[0m\u001b[34;49mnotice\u001b[0m\u001b[1;39;49m]\u001b[0m\u001b[39;49m To update, run: \u001b[0m\u001b[32;49mpip install --upgrade pip\u001b[0m\n"
     ]
    }
   ],
   "source": [
    "########## INSTALL TORCH GEOMETRIC ##################\n",
    "# https://pytorch-geometric.readthedocs.io/en/latest/\n",
    "#####################################################\n",
    "import torch\n",
    "\n",
    "\n",
    "def format_pytorch_version(version):\n",
    "    return version.split(\"+\")[0]\n",
    "\n",
    "\n",
    "TORCH_version = torch.__version__\n",
    "TORCH = format_pytorch_version(TORCH_version)\n",
    "\n",
    "\n",
    "def format_cuda_version(version):\n",
    "    return \"cu\" + version.replace(\".\", \"\")\n",
    "\n",
    "\n",
    "CUDA_version = torch.version.cuda\n",
    "CUDA = format_cuda_version(CUDA_version)\n",
    "\n",
    "!pip install torch-scatter     -f https://pytorch-geometric.com/whl/torch-{TORCH}+{CUDA}.html\n",
    "!pip install torch-sparse      -f https://pytorch-geometric.com/whl/torch-{TORCH}+{CUDA}.html\n",
    "!pip install torch-cluster     -f https://pytorch-geometric.com/whl/torch-{TORCH}+{CUDA}.html\n",
    "!pip install torch-spline-conv -f https://pytorch-geometric.com/whl/torch-{TORCH}+{CUDA}.html\n",
    "!pip install torch-geometric"
   ]
  },
  {
   "cell_type": "markdown",
   "metadata": {
    "cell_ktag": "igvw2CQ9lmSp",
    "id": "04JPKXjDclTj"
   },
   "source": [
    "### Import required packages\n",
    "\n",
    "Run the following cell to import all required packages. This cell **must not** be modified.\n",
    "\n",
    "To significantly accelerate your training, it is advised to use GPU. Using Google Colab, you need to activate it : \n",
    "\n",
    "*   Edit --> Notebook Setting --> Hardware accelerator --> GPU"
   ]
  },
  {
   "cell_type": "code",
   "execution_count": 16,
   "metadata": {
    "cell_ktag": "igvw2CQ9lmSp",
    "id": "qXGDmBMYgA_x"
   },
   "outputs": [],
   "source": [
    "#####################################################\n",
    "################## PACKAGES #########################\n",
    "#####################################################\n",
    "import torch\n",
    "import numpy as np\n",
    "import matplotlib.pyplot as plt\n",
    "\n",
    "import torch.nn as nn\n",
    "import torch_geometric.nn as graphnn\n",
    "from sklearn.metrics import f1_score\n",
    "from torch_geometric.datasets import PPI\n",
    "from torch_geometric.loader import DataLoader"
   ]
  },
  {
   "cell_type": "markdown",
   "metadata": {
    "cell_ktag": "igvw2CQ9lmSp",
    "id": "3UvCNG8FgdS-"
   },
   "source": [
    "### Dataset\n",
    "\n",
    "We use the Protein-Protein Interaction (PPI) network dataset which includes:\n",
    "- 20 graphs for training \n",
    "- 2 graphs for validation\n",
    "- 2 graphs for testing\n",
    "\n",
    "One graph of the PPI dataset has on average 2372 nodes. Each node:\n",
    "- 50 features : positional gene sets / motif gene / immunological signatures ...\n",
    "- 121 (binary) labels : gene ontology sets (way to classify gene products like proteins).\n",
    "\n",
    "**This problem aims to predict, for a given PPI graph, the correct node's labels**.\n",
    "\n",
    "**It is a node (multi-level) classification task** (trained using supervised learning). \n",
    "\n",
    "For your curiosity, more details information on the dataset and some applications:\n",
    "- https://cs.stanford.edu/~jure/pubs/pathways-psb18.pdf\n",
    "- https://arxiv.org/abs/1707.04638\n",
    "\n",
    "To understand how a graph data is implemented in Pytorch Geometric, refer to : https://pytorch-geometric.readthedocs.io/en/latest/get_started/introduction.html\n"
   ]
  },
  {
   "cell_type": "code",
   "execution_count": 17,
   "metadata": {
    "cell_ktag": "igvw2CQ9lmSp",
    "colab": {
     "base_uri": "https://localhost:8080/"
    },
    "id": "IwdNhvzVNkZB",
    "outputId": "64b6d3c5-43b2-420b-e5ce-0204fa1dd6be"
   },
   "outputs": [
    {
     "name": "stdout",
     "output_type": "stream",
     "text": [
      "Number of samples in the train dataset:  20\n",
      "Number of samples in the val dataset:  2\n",
      "Number of samples in the test dataset:  2\n",
      "Output of one sample from the train dataset:  Data(x=[1767, 50], edge_index=[2, 32318], y=[1767, 121])\n",
      "Target to train against shape: torch.Size([1767, 121])\n",
      "Target to train against: tensor([[1., 0., 0.,  ..., 1., 1., 0.],\n",
      "        [1., 0., 0.,  ..., 1., 1., 1.],\n",
      "        [1., 1., 1.,  ..., 0., 0., 0.],\n",
      "        ...,\n",
      "        [0., 0., 0.,  ..., 0., 0., 0.],\n",
      "        [0., 0., 0.,  ..., 0., 0., 0.],\n",
      "        [1., 0., 0.,  ..., 0., 0., 0.]])\n",
      "Target to train against for first node: tensor([1., 0., 0., 0., 0., 0., 0., 0., 0., 1., 0., 0., 1., 0., 0., 0., 0., 1.,\n",
      "        0., 1., 0., 1., 0., 0., 0., 1., 1., 0., 1., 0., 1., 1., 1., 0., 0., 0.,\n",
      "        0., 0., 0., 0., 0., 1., 0., 0., 0., 0., 0., 1., 0., 0., 0., 0., 0., 1.,\n",
      "        1., 0., 0., 0., 0., 0., 0., 1., 0., 0., 0., 1., 0., 0., 0., 0., 0., 0.,\n",
      "        0., 0., 0., 1., 0., 0., 0., 0., 0., 1., 0., 1., 0., 1., 0., 0., 0., 0.,\n",
      "        0., 0., 1., 0., 1., 1., 0., 1., 1., 0., 1., 0., 0., 0., 0., 0., 0., 0.,\n",
      "        0., 1., 0., 0., 0., 0., 0., 1., 1., 1., 1., 1., 0.])\n",
      "Edge_index :\n",
      "tensor([[   0,    0,    0,  ..., 1744, 1745, 1749],\n",
      "        [ 372, 1101,  766,  ..., 1745, 1744, 1739]])\n",
      "Number of features per node:  50\n",
      "Number of classes per node:  121\n"
     ]
    }
   ],
   "source": [
    "### LOAD DATASETS\n",
    "\n",
    "BATCH_SIZE = 2\n",
    "\n",
    "# Train Dataset\n",
    "train_dataset = PPI(root=\"\", split=\"train\")\n",
    "train_dataloader = DataLoader(train_dataset, batch_size=BATCH_SIZE)\n",
    "# Val Dataset\n",
    "val_dataset = PPI(root=\"\", split=\"val\")\n",
    "val_dataloader = DataLoader(val_dataset, batch_size=BATCH_SIZE)\n",
    "# Test Dataset\n",
    "test_dataset = PPI(root=\"\", split=\"test\")\n",
    "test_dataloader = DataLoader(test_dataset, batch_size=BATCH_SIZE)\n",
    "\n",
    "# Number of features and classes\n",
    "n_features, n_classes = train_dataset[0].x.shape[1], train_dataset[0].y.shape[1]\n",
    "\"\"\"\n",
    "From PyG documentation: \n",
    "A single graph in PyG is described by an instance of torch_geometric.data.Data, which holds the following attributes by default:\n",
    "data.x: Node feature matrix with shape [num_nodes, num_node_features]\n",
    "data.edge_index: Graph connectivity in COO format with shape [2, num_edges] and type torch.long\n",
    "data.edge_attr: Edge feature matrix with shape [num_edges, num_edge_features]\n",
    "data.y: Target to train against (may have arbitrary shape), e.g., node-level targets of shape \n",
    "[num_nodes, *] or graph-level targets of shape [1, *]\n",
    "data.pos: Node position matrix with shape [num_nodes, num_dimensions]\n",
    "\"\"\"\n",
    "\n",
    "print(\"Number of samples in the train dataset: \", len(train_dataset))\n",
    "print(\"Number of samples in the val dataset: \", len(test_dataset))\n",
    "print(\"Number of samples in the test dataset: \", len(test_dataset))\n",
    "print(\"Output of one sample from the train dataset: \", train_dataset[0])\n",
    "print(\"Target to train against shape:\",train_dataset[0].y.shape)\n",
    "print(\"Target to train against:\",train_dataset[0].y)\n",
    "print(\"Target to train against for first node:\",train_dataset[0].y[0])\n",
    "# goal is to predict node labels, which are k-hot encoded, this is multi-label classification\n",
    "print(\"Edge_index :\")\n",
    "print(train_dataset[0].edge_index)\n",
    "print(\"Number of features per node: \", n_features)\n",
    "print(\"Number of classes per node: \", n_classes)"
   ]
  },
  {
   "cell_type": "markdown",
   "metadata": {
    "cell_ktag": "igvw2CQ9lmSp",
    "id": "hiCcn9qeO6Nm"
   },
   "source": [
    "### Define a basic Model"
   ]
  },
  {
   "cell_type": "markdown",
   "metadata": {
    "cell_ktag": "igvw2CQ9lmSp",
    "id": "8RjzEiJ-eVot"
   },
   "source": [
    "Here we define a very simple Graph Neural Network model which will be used as our baseline. This model consists of three graph convolutional layers (from https://arxiv.org/pdf/1609.02907.pdf). The first two layers computes 256 features, followed by an ELU activation function. The last layer is used for (multi-level) classification task, computing 121 features."
   ]
  },
  {
   "cell_type": "code",
   "execution_count": 18,
   "metadata": {
    "cell_ktag": "igvw2CQ9lmSp",
    "id": "2Km-GN1aMpd_"
   },
   "outputs": [],
   "source": [
    "#####################################################\n",
    "################## MODEL ############################\n",
    "#####################################################\n",
    "class BasicGraphModel(nn.Module):\n",
    "    def __init__(self, input_size, hidden_size, output_size):\n",
    "        super().__init__()\n",
    "\n",
    "        self.graphconv1 = graphnn.GCNConv(input_size, hidden_size)\n",
    "        self.graphconv2 = graphnn.GCNConv(hidden_size, hidden_size)\n",
    "        self.graphconv3 = graphnn.GCNConv(hidden_size, output_size)\n",
    "\n",
    "        self.elu = nn.ELU()\n",
    "        # smooth ReLU but taking values in (-1,+infty)\n",
    "\n",
    "    def forward(self, x, edge_index):\n",
    "        x = self.graphconv1(x, edge_index)\n",
    "        x = self.elu(x)\n",
    "        x = self.graphconv2(x, edge_index)\n",
    "        x = self.elu(x)\n",
    "        x = self.graphconv3(x, edge_index)\n",
    "\n",
    "        return x"
   ]
  },
  {
   "cell_type": "markdown",
   "metadata": {
    "cell_ktag": "igvw2CQ9lmSp",
    "id": "6ekk0TrOktOB"
   },
   "source": [
    "Next we construct the function to train the model."
   ]
  },
  {
   "cell_type": "code",
   "execution_count": 19,
   "metadata": {
    "cell_ktag": "igvw2CQ9lmSp",
    "id": "m4lneoadMxqy"
   },
   "outputs": [],
   "source": [
    "#####################################################\n",
    "############## TRAIN FUNCTION #######################\n",
    "#####################################################\n",
    "def train(\n",
    "    model, loss_fcn, device, optimizer, max_epochs, train_dataloader, val_dataloader\n",
    "):\n",
    "\n",
    "    epoch_list = []\n",
    "    scores_list = []\n",
    "\n",
    "    # loop over epochs\n",
    "    for epoch in range(max_epochs):\n",
    "        model.train()\n",
    "        losses = []\n",
    "        # loop over batches\n",
    "        for i, train_batch in enumerate(train_dataloader):\n",
    "            optimizer.zero_grad()\n",
    "            train_batch_device = train_batch.to(device)\n",
    "            # logits is the output of the model\n",
    "            logits = model(train_batch_device.x, train_batch_device.edge_index)\n",
    "            # compute the loss\n",
    "            loss = loss_fcn(logits, train_batch_device.y)\n",
    "            # optimizer step\n",
    "            loss.backward()\n",
    "            optimizer.step()\n",
    "            losses.append(loss.item())\n",
    "        loss_data = np.array(losses).mean()\n",
    "        print(\"Epoch {:05d} | Loss: {:.4f}\".format(epoch + 1, loss_data))\n",
    "\n",
    "        if epoch % 5 == 0:\n",
    "            # evaluate the model on the validation set\n",
    "            # computes the f1-score (see next function)\n",
    "            score = evaluate(model, loss_fcn, device, val_dataloader)\n",
    "            print(\"F1-Score: {:.4f}\".format(score))\n",
    "            scores_list.append(score)\n",
    "            epoch_list.append(epoch)\n",
    "\n",
    "    return epoch_list, scores_list"
   ]
  },
  {
   "cell_type": "markdown",
   "metadata": {
    "cell_ktag": "igvw2CQ9lmSp",
    "id": "PTd9OqaelLni"
   },
   "source": [
    "Next function is designed to evaluate the performance of the model, computing the F1-Score"
   ]
  },
  {
   "cell_type": "code",
   "execution_count": 20,
   "metadata": {
    "cell_ktag": "igvw2CQ9lmSp",
    "id": "PajZzg5zM7V1"
   },
   "outputs": [],
   "source": [
    "#####################################################\n",
    "############### TEST FUNCTION #######################\n",
    "#####################################################\n",
    "def evaluate(model, loss_fcn, device, dataloader):\n",
    "    score_list_batch = []\n",
    "\n",
    "    model.eval()\n",
    "    for i, batch in enumerate(dataloader):\n",
    "        batch = batch.to(device)\n",
    "        output = model(batch.x, batch.edge_index)\n",
    "        loss_test = loss_fcn(output, batch.y)\n",
    "        # If the element of output is greater than or equal to 0, it replaces it with 1.\n",
    "        predict = np.where(output.detach().cpu().numpy() >= 0, 1, 0)\n",
    "        score = f1_score(batch.y.cpu().numpy(), predict, average=\"micro\")\n",
    "        score_list_batch.append(score)\n",
    "\n",
    "    return np.array(score_list_batch).mean()"
   ]
  },
  {
   "cell_type": "markdown",
   "metadata": {
    "cell_ktag": "igvw2CQ9lmSp",
    "id": "EilgopwMlpsu"
   },
   "source": [
    "Let's train this model !"
   ]
  },
  {
   "cell_type": "code",
   "execution_count": 21,
   "metadata": {
    "cell_ktag": "igvw2CQ9lmSp",
    "colab": {
     "base_uri": "https://localhost:8080/"
    },
    "id": "Xkqo7e0gNACE",
    "outputId": "5f2ab59d-7841-4d79-da1b-2d7b4ed963c2"
   },
   "outputs": [
    {
     "name": "stdout",
     "output_type": "stream",
     "text": [
      "\n",
      "Device:  cuda\n",
      "Epoch 00001 | Loss: 0.6376\n",
      "F1-Score: 0.4514\n",
      "Epoch 00002 | Loss: 0.5812\n"
     ]
    },
    {
     "name": "stdout",
     "output_type": "stream",
     "text": [
      "Epoch 00003 | Loss: 0.5626\n",
      "Epoch 00004 | Loss: 0.5557\n",
      "Epoch 00005 | Loss: 0.5509\n",
      "Epoch 00006 | Loss: 0.5456\n",
      "F1-Score: 0.5125\n",
      "Epoch 00007 | Loss: 0.5418\n",
      "Epoch 00008 | Loss: 0.5379\n",
      "Epoch 00009 | Loss: 0.5339\n",
      "Epoch 00010 | Loss: 0.5308\n",
      "Epoch 00011 | Loss: 0.5280\n",
      "F1-Score: 0.5161\n",
      "Epoch 00012 | Loss: 0.5254\n",
      "Epoch 00013 | Loss: 0.5228\n",
      "Epoch 00014 | Loss: 0.5204\n",
      "Epoch 00015 | Loss: 0.5180\n",
      "Epoch 00016 | Loss: 0.5156\n",
      "F1-Score: 0.5320\n",
      "Epoch 00017 | Loss: 0.5132\n",
      "Epoch 00018 | Loss: 0.5109\n",
      "Epoch 00019 | Loss: 0.5086\n",
      "Epoch 00020 | Loss: 0.5063\n",
      "Epoch 00021 | Loss: 0.5041\n",
      "F1-Score: 0.5430\n",
      "Epoch 00022 | Loss: 0.5020\n",
      "Epoch 00023 | Loss: 0.4999\n",
      "Epoch 00024 | Loss: 0.4979\n",
      "Epoch 00025 | Loss: 0.4959\n",
      "Epoch 00026 | Loss: 0.4941\n",
      "F1-Score: 0.5543\n",
      "Epoch 00027 | Loss: 0.4922\n",
      "Epoch 00028 | Loss: 0.4905\n",
      "Epoch 00029 | Loss: 0.4889\n",
      "Epoch 00030 | Loss: 0.4875\n",
      "Epoch 00031 | Loss: 0.4860\n",
      "F1-Score: 0.5651\n",
      "Epoch 00032 | Loss: 0.4848\n",
      "Epoch 00033 | Loss: 0.4834\n",
      "Epoch 00034 | Loss: 0.4821\n",
      "Epoch 00035 | Loss: 0.4805\n",
      "Epoch 00036 | Loss: 0.4794\n",
      "F1-Score: 0.5757\n",
      "Epoch 00037 | Loss: 0.4784\n",
      "Epoch 00038 | Loss: 0.4780\n",
      "Epoch 00039 | Loss: 0.4776\n",
      "Epoch 00040 | Loss: 0.4766\n",
      "Epoch 00041 | Loss: 0.4769\n",
      "F1-Score: 0.5599\n",
      "Epoch 00042 | Loss: 0.4752\n",
      "Epoch 00043 | Loss: 0.4747\n",
      "Epoch 00044 | Loss: 0.4727\n",
      "Epoch 00045 | Loss: 0.4719\n",
      "Epoch 00046 | Loss: 0.4699\n",
      "F1-Score: 0.5521\n",
      "Epoch 00047 | Loss: 0.4693\n",
      "Epoch 00048 | Loss: 0.4678\n",
      "Epoch 00049 | Loss: 0.4653\n",
      "Epoch 00050 | Loss: 0.4639\n",
      "Epoch 00051 | Loss: 0.4632\n",
      "F1-Score: 0.5545\n",
      "Epoch 00052 | Loss: 0.4629\n",
      "Epoch 00053 | Loss: 0.4615\n",
      "Epoch 00054 | Loss: 0.4619\n",
      "Epoch 00055 | Loss: 0.4597\n",
      "Epoch 00056 | Loss: 0.4580\n",
      "F1-Score: 0.5680\n",
      "Epoch 00057 | Loss: 0.4570\n",
      "Epoch 00058 | Loss: 0.4560\n",
      "Epoch 00059 | Loss: 0.4545\n",
      "Epoch 00060 | Loss: 0.4531\n",
      "Epoch 00061 | Loss: 0.4529\n",
      "F1-Score: 0.5743\n",
      "Epoch 00062 | Loss: 0.4520\n",
      "Epoch 00063 | Loss: 0.4515\n",
      "Epoch 00064 | Loss: 0.4508\n",
      "Epoch 00065 | Loss: 0.4503\n",
      "Epoch 00066 | Loss: 0.4496\n",
      "F1-Score: 0.5647\n",
      "Epoch 00067 | Loss: 0.4492\n",
      "Epoch 00068 | Loss: 0.4488\n",
      "Epoch 00069 | Loss: 0.4475\n",
      "Epoch 00070 | Loss: 0.4466\n",
      "Epoch 00071 | Loss: 0.4459\n",
      "F1-Score: 0.5806\n",
      "Epoch 00072 | Loss: 0.4451\n",
      "Epoch 00073 | Loss: 0.4443\n",
      "Epoch 00074 | Loss: 0.4430\n",
      "Epoch 00075 | Loss: 0.4422\n",
      "Epoch 00076 | Loss: 0.4408\n",
      "F1-Score: 0.5901\n",
      "Epoch 00077 | Loss: 0.4406\n",
      "Epoch 00078 | Loss: 0.4397\n",
      "Epoch 00079 | Loss: 0.4390\n",
      "Epoch 00080 | Loss: 0.4382\n",
      "Epoch 00081 | Loss: 0.4375\n",
      "F1-Score: 0.5891\n",
      "Epoch 00082 | Loss: 0.4373\n",
      "Epoch 00083 | Loss: 0.4372\n",
      "Epoch 00084 | Loss: 0.4364\n",
      "Epoch 00085 | Loss: 0.4358\n",
      "Epoch 00086 | Loss: 0.4348\n",
      "F1-Score: 0.6054\n",
      "Epoch 00087 | Loss: 0.4348\n",
      "Epoch 00088 | Loss: 0.4350\n",
      "Epoch 00089 | Loss: 0.4342\n",
      "Epoch 00090 | Loss: 0.4333\n",
      "Epoch 00091 | Loss: 0.4326\n",
      "F1-Score: 0.6078\n",
      "Epoch 00092 | Loss: 0.4329\n",
      "Epoch 00093 | Loss: 0.4315\n",
      "Epoch 00094 | Loss: 0.4318\n",
      "Epoch 00095 | Loss: 0.4331\n",
      "Epoch 00096 | Loss: 0.4326\n",
      "F1-Score: 0.5893\n",
      "Epoch 00097 | Loss: 0.4327\n",
      "Epoch 00098 | Loss: 0.4310\n",
      "Epoch 00099 | Loss: 0.4289\n",
      "Epoch 00100 | Loss: 0.4282\n",
      "Epoch 00101 | Loss: 0.4272\n",
      "F1-Score: 0.6177\n",
      "Epoch 00102 | Loss: 0.4266\n",
      "Epoch 00103 | Loss: 0.4281\n",
      "Epoch 00104 | Loss: 0.4270\n",
      "Epoch 00105 | Loss: 0.4266\n",
      "Epoch 00106 | Loss: 0.4276\n",
      "F1-Score: 0.6212\n",
      "Epoch 00107 | Loss: 0.4277\n",
      "Epoch 00108 | Loss: 0.4270\n",
      "Epoch 00109 | Loss: 0.4273\n",
      "Epoch 00110 | Loss: 0.4257\n",
      "Epoch 00111 | Loss: 0.4239\n",
      "F1-Score: 0.6258\n",
      "Epoch 00112 | Loss: 0.4235\n",
      "Epoch 00113 | Loss: 0.4230\n",
      "Epoch 00114 | Loss: 0.4219\n",
      "Epoch 00115 | Loss: 0.4214\n",
      "Epoch 00116 | Loss: 0.4208\n",
      "F1-Score: 0.6337\n",
      "Epoch 00117 | Loss: 0.4214\n",
      "Epoch 00118 | Loss: 0.4217\n",
      "Epoch 00119 | Loss: 0.4216\n",
      "Epoch 00120 | Loss: 0.4221\n",
      "Epoch 00121 | Loss: 0.4220\n",
      "F1-Score: 0.6326\n",
      "Epoch 00122 | Loss: 0.4228\n",
      "Epoch 00123 | Loss: 0.4223\n",
      "Epoch 00124 | Loss: 0.4213\n",
      "Epoch 00125 | Loss: 0.4194\n",
      "Epoch 00126 | Loss: 0.4196\n",
      "F1-Score: 0.6427\n",
      "Epoch 00127 | Loss: 0.4200\n",
      "Epoch 00128 | Loss: 0.4186\n",
      "Epoch 00129 | Loss: 0.4176\n",
      "Epoch 00130 | Loss: 0.4192\n",
      "Epoch 00131 | Loss: 0.4203\n",
      "F1-Score: 0.6288\n",
      "Epoch 00132 | Loss: 0.4245\n",
      "Epoch 00133 | Loss: 0.4241\n",
      "Epoch 00134 | Loss: 0.4233\n",
      "Epoch 00135 | Loss: 0.4240\n",
      "Epoch 00136 | Loss: 0.4261\n",
      "F1-Score: 0.5768\n",
      "Epoch 00137 | Loss: 0.4260\n",
      "Epoch 00138 | Loss: 0.4262\n",
      "Epoch 00139 | Loss: 0.4269\n",
      "Epoch 00140 | Loss: 0.4302\n",
      "Epoch 00141 | Loss: 0.4274\n",
      "F1-Score: 0.6259\n",
      "Epoch 00142 | Loss: 0.4246\n",
      "Epoch 00143 | Loss: 0.4229\n",
      "Epoch 00144 | Loss: 0.4191\n",
      "Epoch 00145 | Loss: 0.4184\n",
      "Epoch 00146 | Loss: 0.4173\n",
      "F1-Score: 0.5909\n",
      "Epoch 00147 | Loss: 0.4182\n",
      "Epoch 00148 | Loss: 0.4166\n",
      "Epoch 00149 | Loss: 0.4196\n",
      "Epoch 00150 | Loss: 0.4196\n",
      "Epoch 00151 | Loss: 0.4191\n",
      "F1-Score: 0.6285\n",
      "Epoch 00152 | Loss: 0.4168\n",
      "Epoch 00153 | Loss: 0.4197\n",
      "Epoch 00154 | Loss: 0.4189\n",
      "Epoch 00155 | Loss: 0.4162\n",
      "Epoch 00156 | Loss: 0.4157\n",
      "F1-Score: 0.6446\n",
      "Epoch 00157 | Loss: 0.4134\n",
      "Epoch 00158 | Loss: 0.4129\n",
      "Epoch 00159 | Loss: 0.4131\n",
      "Epoch 00160 | Loss: 0.4118\n",
      "Epoch 00161 | Loss: 0.4110\n",
      "F1-Score: 0.6449\n",
      "Epoch 00162 | Loss: 0.4114\n",
      "Epoch 00163 | Loss: 0.4095\n",
      "Epoch 00164 | Loss: 0.4105\n",
      "Epoch 00165 | Loss: 0.4085\n",
      "Epoch 00166 | Loss: 0.4078\n",
      "F1-Score: 0.6272\n",
      "Epoch 00167 | Loss: 0.4067\n",
      "Epoch 00168 | Loss: 0.4056\n",
      "Epoch 00169 | Loss: 0.4058\n",
      "Epoch 00170 | Loss: 0.4050\n",
      "Epoch 00171 | Loss: 0.4049\n",
      "F1-Score: 0.6298\n",
      "Epoch 00172 | Loss: 0.4040\n",
      "Epoch 00173 | Loss: 0.4023\n",
      "Epoch 00174 | Loss: 0.4020\n",
      "Epoch 00175 | Loss: 0.4010\n",
      "Epoch 00176 | Loss: 0.4005\n",
      "F1-Score: 0.6372\n",
      "Epoch 00177 | Loss: 0.3996\n",
      "Epoch 00178 | Loss: 0.3990\n",
      "Epoch 00179 | Loss: 0.3992\n",
      "Epoch 00180 | Loss: 0.3986\n",
      "Epoch 00181 | Loss: 0.3981\n",
      "F1-Score: 0.6343\n",
      "Epoch 00182 | Loss: 0.3985\n",
      "Epoch 00183 | Loss: 0.3993\n",
      "Epoch 00184 | Loss: 0.3996\n",
      "Epoch 00185 | Loss: 0.3994\n",
      "Epoch 00186 | Loss: 0.3994\n",
      "F1-Score: 0.6327\n",
      "Epoch 00187 | Loss: 0.3995\n",
      "Epoch 00188 | Loss: 0.3996\n",
      "Epoch 00189 | Loss: 0.3998\n",
      "Epoch 00190 | Loss: 0.3999\n",
      "Epoch 00191 | Loss: 0.4000\n",
      "F1-Score: 0.6250\n",
      "Epoch 00192 | Loss: 0.3996\n",
      "Epoch 00193 | Loss: 0.3994\n",
      "Epoch 00194 | Loss: 0.3996\n",
      "Epoch 00195 | Loss: 0.3981\n",
      "Epoch 00196 | Loss: 0.3980\n",
      "F1-Score: 0.6227\n",
      "Epoch 00197 | Loss: 0.3960\n",
      "Epoch 00198 | Loss: 0.3958\n",
      "Epoch 00199 | Loss: 0.3957\n",
      "Epoch 00200 | Loss: 0.3958\n"
     ]
    }
   ],
   "source": [
    "### DEVICE GPU OR CPU : will select GPU if available\n",
    "device = torch.device(\"cuda\" if torch.cuda.is_available() else \"cpu\")\n",
    "print(\"\\nDevice: \", device)\n",
    "\n",
    "### Max number of epochs\n",
    "max_epochs = 200\n",
    "\n",
    "### DEFINE THE MODEL\n",
    "basic_model = BasicGraphModel(\n",
    "    input_size=n_features, hidden_size=256, output_size=n_classes\n",
    ").to(device)\n",
    "\n",
    "### DEFINE LOSS FUNCTION\n",
    "loss_fcn = nn.BCEWithLogitsLoss()\n",
    "\n",
    "### DEFINE OPTIMIZER\n",
    "optimizer = torch.optim.Adam(basic_model.parameters(), lr=0.005)\n",
    "\n",
    "### TRAIN THE MODEL\n",
    "epoch_list, basic_model_scores = train(\n",
    "    basic_model,\n",
    "    loss_fcn,\n",
    "    device,\n",
    "    optimizer,\n",
    "    max_epochs,\n",
    "    train_dataloader,\n",
    "    val_dataloader,\n",
    ")"
   ]
  },
  {
   "cell_type": "markdown",
   "metadata": {
    "cell_ktag": "igvw2CQ9lmSp",
    "id": "2sGc5g7Xmap2"
   },
   "source": [
    "Let's evaluate the performance of this basic model"
   ]
  },
  {
   "cell_type": "code",
   "execution_count": 22,
   "metadata": {
    "cell_ktag": "igvw2CQ9lmSp",
    "colab": {
     "base_uri": "https://localhost:8080/",
     "height": 354
    },
    "id": "ztfbbg2TNP7F",
    "outputId": "06c3c0c7-2ceb-4cee-a4d7-a654fa127a57"
   },
   "outputs": [
    {
     "name": "stdout",
     "output_type": "stream",
     "text": [
      "Basic Model : F1-Score on the test set: 0.6510\n"
     ]
    },
    {
     "data": {
      "image/png": "[encoded data removed]",
      "text/plain": [
       "<Figure size 1000x500 with 1 Axes>"
      ]
     },
     "metadata": {},
     "output_type": "display_data"
    }
   ],
   "source": [
    "### F1-SCORE ON TEST DATASET\n",
    "score_test = evaluate(basic_model, loss_fcn, device, test_dataloader)\n",
    "print(\"Basic Model : F1-Score on the test set: {:.4f}\".format(score_test))\n",
    "\n",
    "\n",
    "### PLOT EVOLUTION OF F1-SCORE W.R.T EPOCHS\n",
    "def plot_f1_score(epoch_list, scores):\n",
    "    plt.figure(figsize=[10, 5])\n",
    "    plt.plot(epoch_list, scores)\n",
    "    plt.title(\"Evolution of F1S-Score w.r.t epochs\")\n",
    "    plt.ylim([0.0, 1.0])\n",
    "    plt.show()\n",
    "\n",
    "\n",
    "plot_f1_score(epoch_list, basic_model_scores)"
   ]
  },
  {
   "cell_type": "markdown",
   "metadata": {
    "cell_ktag": "igvw2CQ9lmSp",
    "id": "TRVsy5vLnWm_"
   },
   "source": [
    "### Define a better model\n",
    "\n",
    "Now, it's your turn to improve this basic model ! To do so, complete whenever ###### YOUR ANSWER ######## and run the two following cells.\n",
    "\n",
    "**HINT :** https://arxiv.org/pdf/1710.10903.pdf"
   ]
  },
  {
   "cell_type": "code",
   "execution_count": 23,
   "metadata": {
    "cell_ktag": "igvw2CQ9lmSp",
    "id": "qTo7PxFpRHzL"
   },
   "outputs": [],
   "source": [
    "from torch_geometric.nn import GATv2Conv\n",
    "# from torch_geometric.nn import global_mean_pool, global_max_pool\n",
    "import torch.nn.functional as F\n",
    "\n",
    "class StudentModel(nn.Module):\n",
    "  # def __init__(self, input_size, hidden_size, output_size):\n",
    "  def __init__(self, num_node_features=50, nhid_ff=121, nhid = 256, nout = n_classes, num_layers = 3, dropout=0.5, alpha=0.2):\n",
    "        # super(GAT, self).__init__()\n",
    "        super().__init__()\n",
    "        self.num_layers = num_layers\n",
    "        self.dropout = dropout\n",
    "        self.conv1 = GATv2Conv(num_node_features, nhid, heads=4, dropout=dropout, concat=True, negative_slope=alpha)\n",
    "        self.conv2 = GATv2Conv(nhid * 4, nhid, heads=4, dropout=dropout, concat=True, negative_slope=alpha)  \n",
    "        self.conv3 = GATv2Conv(nhid * 4, nhid_ff, heads=6, dropout=dropout, concat=False, negative_slope=alpha)\n",
    "        # self.final_post_process1 = nn.Linear(nhid_ff, nhid_ff)\n",
    "        # self.final_post_process2 = nn.Linear(nhid_ff, nout)\n",
    "      \n",
    "      \n",
    "      ####### YOUR ANSWER #######\n",
    "      \n",
    "  def forward(self, x, edge_index):\n",
    "    # x, edge_index, batch = graph_batch.x, graph_batch.edge_index, graph_batch.batch\n",
    "    # 1st layer\n",
    "    x = F.elu(self.conv1(x, edge_index))\n",
    "    x = F.dropout(x, p=self.dropout, training=self.training)\n",
    "    # 2nd layer\n",
    "    x = F.elu(self.conv2(x, edge_index))\n",
    "    x = F.dropout(x, p=self.dropout, training=self.training)\n",
    "    # 3rd layer\n",
    "    x = self.conv3(x, edge_index)\n",
    "    # x = F.normalize(x, p=2, dim=-1)\n",
    "    \n",
    "    # x = global_mean_pool(x, batch)\n",
    "    # x = self.final_post_process1(x).relu()\n",
    "    # x = self.final_post_process2(x)\n",
    "    return x\n",
    "      ####### YOUR ANSWER #######\n"
   ]
  },
  {
   "cell_type": "markdown",
   "metadata": {},
   "source": [
    "## **Temp GAT implementation**\n",
    "\n",
    "C'est une classe que j'avais codé pour le graph encoder dans le projet Altegrad, je sais pas si ça peut servir"
   ]
  },
  {
   "cell_type": "code",
   "execution_count": 24,
   "metadata": {},
   "outputs": [
    {
     "data": {
      "text/plain": [
       "'from torch_geometric.nn import GATv2Conv\\nfrom torch_geometric.nn import global_mean_pool, global_max_pool\\nimport torch.nn.functional as F\\n\\nclass GAT(torch.nn.Module):\\n    def __init__(self, num_node_features, nhid_ff, nhid = 256, nout = 768, num_layers = 3, dropout=0.5, alpha=0.2):\\n        super(GAT, self).__init__()\\n        self.num_layers = num_layers\\n        self.dropout = dropout\\n        self.conv1 = GATv2Conv(num_node_features, nhid, heads=4, dropout=dropout, concat=True, negative_slope=alpha)\\n        self.conv2 = GATv2Conv(nhid * 4, nhid, heads=4, dropout=dropout, concat=True, negative_slope=alpha)  \\n        self.conv3 = GATv2Conv(nhid * 4, nhid_ff, heads=6, dropout=dropout, concat=False, negative_slope=alpha)\\n        self.final_post_process1 = nn.Linear(nhid_ff, nhid_ff)\\n        self.final_post_process2 = nn.Linear(nhid_ff, nout)\\n\\n    def forward(self, graph_batch):\\n        x, edge_index, batch = graph_batch.x, graph_batch.edge_index, graph_batch.batch\\n        # 1st layer\\n        x = F.elu(self.conv1(x, edge_index))\\n        x = F.dropout(x, p=self.dropout, training=self.training)\\n        # 2nd layer\\n        x = F.elu(self.conv2(x, edge_index))\\n        x = F.dropout(x, p=self.dropout, training=self.training)\\n        # 3rd layer\\n        x = self.conv3(x, edge_index)\\n        x = F.normalize(x, p=2, dim=-1)\\n        \\n        x = global_mean_pool(x, batch)\\n        x = self.final_post_process1(x).relu()\\n        x = self.final_post_process2(x)\\n        return x'"
      ]
     },
     "execution_count": 24,
     "metadata": {},
     "output_type": "execute_result"
    }
   ],
   "source": [
    "\"\"\"from torch_geometric.nn import GATv2Conv\n",
    "from torch_geometric.nn import global_mean_pool, global_max_pool\n",
    "import torch.nn.functional as F\n",
    "\n",
    "class GAT(torch.nn.Module):\n",
    "    def __init__(self, num_node_features, nhid_ff, nhid = 256, nout = 768, num_layers = 3, dropout=0.5, alpha=0.2):\n",
    "        super(GAT, self).__init__()\n",
    "        self.num_layers = num_layers\n",
    "        self.dropout = dropout\n",
    "        self.conv1 = GATv2Conv(num_node_features, nhid, heads=4, dropout=dropout, concat=True, negative_slope=alpha)\n",
    "        self.conv2 = GATv2Conv(nhid * 4, nhid, heads=4, dropout=dropout, concat=True, negative_slope=alpha)  \n",
    "        self.conv3 = GATv2Conv(nhid * 4, nhid_ff, heads=6, dropout=dropout, concat=False, negative_slope=alpha)\n",
    "        self.final_post_process1 = nn.Linear(nhid_ff, nhid_ff)\n",
    "        self.final_post_process2 = nn.Linear(nhid_ff, nout)\n",
    "\n",
    "    def forward(self, graph_batch):\n",
    "        x, edge_index, batch = graph_batch.x, graph_batch.edge_index, graph_batch.batch\n",
    "        # 1st layer\n",
    "        x = F.elu(self.conv1(x, edge_index))\n",
    "        x = F.dropout(x, p=self.dropout, training=self.training)\n",
    "        # 2nd layer\n",
    "        x = F.elu(self.conv2(x, edge_index))\n",
    "        x = F.dropout(x, p=self.dropout, training=self.training)\n",
    "        # 3rd layer\n",
    "        x = self.conv3(x, edge_index)\n",
    "        x = F.normalize(x, p=2, dim=-1)\n",
    "        \n",
    "        x = global_mean_pool(x, batch)\n",
    "        x = self.final_post_process1(x).relu()\n",
    "        x = self.final_post_process2(x)\n",
    "        return x\"\"\""
   ]
  },
  {
   "cell_type": "markdown",
   "metadata": {
    "cell_ktag": "igvw2CQ9lmSp",
    "id": "4yGdQ2uxpCAX"
   },
   "source": [
    "Let's train your model !"
   ]
  },
  {
   "cell_type": "code",
   "execution_count": 25,
   "metadata": {
    "cell_ktag": "igvw2CQ9lmSp",
    "id": "6XIYzkYRo3AQ"
   },
   "outputs": [
    {
     "name": "stdout",
     "output_type": "stream",
     "text": [
      "Epoch 00001 | Loss: 0.6496\n",
      "F1-Score: 0.4067\n",
      "Epoch 00002 | Loss: 0.5720\n",
      "Epoch 00003 | Loss: 0.5572\n",
      "Epoch 00004 | Loss: 0.5532\n",
      "Epoch 00005 | Loss: 0.5465\n",
      "Epoch 00006 | Loss: 0.5364\n",
      "F1-Score: 0.5225\n",
      "Epoch 00007 | Loss: 0.5298\n",
      "Epoch 00008 | Loss: 0.5270\n",
      "Epoch 00009 | Loss: 0.5226\n",
      "Epoch 00010 | Loss: 0.5146\n",
      "Epoch 00011 | Loss: 0.5201\n",
      "F1-Score: 0.5572\n",
      "Epoch 00012 | Loss: 0.5137\n",
      "Epoch 00013 | Loss: 0.5078\n",
      "Epoch 00014 | Loss: 0.5070\n",
      "Epoch 00015 | Loss: 0.5024\n",
      "Epoch 00016 | Loss: 0.5041\n",
      "F1-Score: 0.5820\n",
      "Epoch 00017 | Loss: 0.4972\n",
      "Epoch 00018 | Loss: 0.5049\n",
      "Epoch 00019 | Loss: 0.4973\n",
      "Epoch 00020 | Loss: 0.4914\n",
      "Epoch 00021 | Loss: 0.4917\n",
      "F1-Score: 0.6033\n",
      "Epoch 00022 | Loss: 0.4920\n",
      "Epoch 00023 | Loss: 0.4875\n",
      "Epoch 00024 | Loss: 0.4844\n",
      "Epoch 00025 | Loss: 0.4824\n",
      "Epoch 00026 | Loss: 0.4813\n",
      "F1-Score: 0.6111\n",
      "Epoch 00027 | Loss: 0.4799\n",
      "Epoch 00028 | Loss: 0.4787\n",
      "Epoch 00029 | Loss: 0.4807\n",
      "Epoch 00030 | Loss: 0.4798\n",
      "Epoch 00031 | Loss: 0.4801\n",
      "F1-Score: 0.6101\n",
      "Epoch 00032 | Loss: 0.4804\n",
      "Epoch 00033 | Loss: 0.4745\n",
      "Epoch 00034 | Loss: 0.4719\n",
      "Epoch 00035 | Loss: 0.4732\n",
      "Epoch 00036 | Loss: 0.4741\n",
      "F1-Score: 0.6291\n",
      "Epoch 00037 | Loss: 0.4720\n",
      "Epoch 00038 | Loss: 0.4680\n",
      "Epoch 00039 | Loss: 0.4673\n",
      "Epoch 00040 | Loss: 0.4672\n",
      "Epoch 00041 | Loss: 0.4625\n",
      "F1-Score: 0.6460\n",
      "Epoch 00042 | Loss: 0.4671\n",
      "Epoch 00043 | Loss: 0.4613\n",
      "Epoch 00044 | Loss: 0.4589\n",
      "Epoch 00045 | Loss: 0.4592\n",
      "Epoch 00046 | Loss: 0.4599\n",
      "F1-Score: 0.6506\n",
      "Epoch 00047 | Loss: 0.4566\n",
      "Epoch 00048 | Loss: 0.4542\n",
      "Epoch 00049 | Loss: 0.4533\n",
      "Epoch 00050 | Loss: 0.4596\n",
      "Epoch 00051 | Loss: 0.4591\n",
      "F1-Score: 0.6515\n",
      "Epoch 00052 | Loss: 0.4590\n",
      "Epoch 00053 | Loss: 0.4581\n",
      "Epoch 00054 | Loss: 0.4554\n",
      "Epoch 00055 | Loss: 0.4523\n",
      "Epoch 00056 | Loss: 0.4577\n",
      "F1-Score: 0.6450\n",
      "Epoch 00057 | Loss: 0.4587\n",
      "Epoch 00058 | Loss: 0.4552\n",
      "Epoch 00059 | Loss: 0.4520\n",
      "Epoch 00060 | Loss: 0.4508\n",
      "Epoch 00061 | Loss: 0.4474\n",
      "F1-Score: 0.6618\n",
      "Epoch 00062 | Loss: 0.4496\n",
      "Epoch 00063 | Loss: 0.4485\n",
      "Epoch 00064 | Loss: 0.4442\n",
      "Epoch 00065 | Loss: 0.4430\n",
      "Epoch 00066 | Loss: 0.4433\n",
      "F1-Score: 0.6601\n",
      "Epoch 00067 | Loss: 0.4444\n",
      "Epoch 00068 | Loss: 0.4473\n",
      "Epoch 00069 | Loss: 0.4493\n",
      "Epoch 00070 | Loss: 0.4519\n",
      "Epoch 00071 | Loss: 0.4464\n",
      "F1-Score: 0.6662\n",
      "Epoch 00072 | Loss: 0.4444\n",
      "Epoch 00073 | Loss: 0.4432\n",
      "Epoch 00074 | Loss: 0.4464\n",
      "Epoch 00075 | Loss: 0.4440\n",
      "Epoch 00076 | Loss: 0.4440\n",
      "F1-Score: 0.6786\n",
      "Epoch 00077 | Loss: 0.4411\n",
      "Epoch 00078 | Loss: 0.4402\n",
      "Epoch 00079 | Loss: 0.4394\n",
      "Epoch 00080 | Loss: 0.4391\n",
      "Epoch 00081 | Loss: 0.4380\n",
      "F1-Score: 0.6733\n",
      "Epoch 00082 | Loss: 0.4374\n",
      "Epoch 00083 | Loss: 0.4375\n",
      "Epoch 00084 | Loss: 0.4341\n",
      "Epoch 00085 | Loss: 0.4340\n",
      "Epoch 00086 | Loss: 0.4314\n",
      "F1-Score: 0.6839\n",
      "Epoch 00087 | Loss: 0.4318\n",
      "Epoch 00088 | Loss: 0.4334\n",
      "Epoch 00089 | Loss: 0.4326\n",
      "Epoch 00090 | Loss: 0.4353\n",
      "Epoch 00091 | Loss: 0.4350\n",
      "F1-Score: 0.6776\n",
      "Epoch 00092 | Loss: 0.4315\n",
      "Epoch 00093 | Loss: 0.4312\n",
      "Epoch 00094 | Loss: 0.4341\n",
      "Epoch 00095 | Loss: 0.4314\n",
      "Epoch 00096 | Loss: 0.4316\n",
      "F1-Score: 0.6862\n",
      "Epoch 00097 | Loss: 0.4317\n",
      "Epoch 00098 | Loss: 0.4308\n",
      "Epoch 00099 | Loss: 0.4353\n",
      "Epoch 00100 | Loss: 0.4332\n",
      "Epoch 00101 | Loss: 0.4343\n",
      "F1-Score: 0.6883\n",
      "Epoch 00102 | Loss: 0.4297\n",
      "Epoch 00103 | Loss: 0.4284\n",
      "Epoch 00104 | Loss: 0.4291\n",
      "Epoch 00105 | Loss: 0.4325\n",
      "Epoch 00106 | Loss: 0.4313\n",
      "F1-Score: 0.6800\n",
      "Epoch 00107 | Loss: 0.4301\n",
      "Epoch 00108 | Loss: 0.4305\n",
      "Epoch 00109 | Loss: 0.4282\n",
      "Epoch 00110 | Loss: 0.4276\n",
      "Epoch 00111 | Loss: 0.4265\n",
      "F1-Score: 0.6944\n",
      "Epoch 00112 | Loss: 0.4272\n",
      "Epoch 00113 | Loss: 0.4266\n",
      "Epoch 00114 | Loss: 0.4273\n",
      "Epoch 00115 | Loss: 0.4262\n",
      "Epoch 00116 | Loss: 0.4291\n",
      "F1-Score: 0.6886\n",
      "Epoch 00117 | Loss: 0.4257\n",
      "Epoch 00118 | Loss: 0.4241\n",
      "Epoch 00119 | Loss: 0.4237\n",
      "Epoch 00120 | Loss: 0.4261\n",
      "Epoch 00121 | Loss: 0.4254\n",
      "F1-Score: 0.7040\n",
      "Epoch 00122 | Loss: 0.4240\n",
      "Epoch 00123 | Loss: 0.4237\n",
      "Epoch 00124 | Loss: 0.4248\n",
      "Epoch 00125 | Loss: 0.4238\n",
      "Epoch 00126 | Loss: 0.4223\n",
      "F1-Score: 0.7020\n",
      "Epoch 00127 | Loss: 0.4244\n",
      "Epoch 00128 | Loss: 0.4227\n",
      "Epoch 00129 | Loss: 0.4230\n",
      "Epoch 00130 | Loss: 0.4226\n",
      "Epoch 00131 | Loss: 0.4232\n",
      "F1-Score: 0.7100\n",
      "Epoch 00132 | Loss: 0.4250\n",
      "Epoch 00133 | Loss: 0.4219\n",
      "Epoch 00134 | Loss: 0.4213\n",
      "Epoch 00135 | Loss: 0.4204\n",
      "Epoch 00136 | Loss: 0.4202\n",
      "F1-Score: 0.7109\n",
      "Epoch 00137 | Loss: 0.4190\n",
      "Epoch 00138 | Loss: 0.4180\n",
      "Epoch 00139 | Loss: 0.4205\n",
      "Epoch 00140 | Loss: 0.4186\n",
      "Epoch 00141 | Loss: 0.4201\n",
      "F1-Score: 0.7017\n",
      "Epoch 00142 | Loss: 0.4218\n",
      "Epoch 00143 | Loss: 0.4204\n",
      "Epoch 00144 | Loss: 0.4216\n",
      "Epoch 00145 | Loss: 0.4178\n",
      "Epoch 00146 | Loss: 0.4168\n",
      "F1-Score: 0.7123\n",
      "Epoch 00147 | Loss: 0.4167\n",
      "Epoch 00148 | Loss: 0.4157\n",
      "Epoch 00149 | Loss: 0.4151\n",
      "Epoch 00150 | Loss: 0.4155\n",
      "Epoch 00151 | Loss: 0.4238\n",
      "F1-Score: 0.6915\n",
      "Epoch 00152 | Loss: 0.4229\n",
      "Epoch 00153 | Loss: 0.4253\n",
      "Epoch 00154 | Loss: 0.4205\n",
      "Epoch 00155 | Loss: 0.4168\n",
      "Epoch 00156 | Loss: 0.4161\n",
      "F1-Score: 0.7093\n",
      "Epoch 00157 | Loss: 0.4165\n",
      "Epoch 00158 | Loss: 0.4145\n",
      "Epoch 00159 | Loss: 0.4153\n",
      "Epoch 00160 | Loss: 0.4163\n",
      "Epoch 00161 | Loss: 0.4157\n",
      "F1-Score: 0.7081\n",
      "Epoch 00162 | Loss: 0.4177\n",
      "Epoch 00163 | Loss: 0.4193\n",
      "Epoch 00164 | Loss: 0.4173\n",
      "Epoch 00165 | Loss: 0.4149\n",
      "Epoch 00166 | Loss: 0.4146\n",
      "F1-Score: 0.7115\n",
      "Epoch 00167 | Loss: 0.4139\n",
      "Epoch 00168 | Loss: 0.4156\n",
      "Epoch 00169 | Loss: 0.4146\n",
      "Epoch 00170 | Loss: 0.4186\n",
      "Epoch 00171 | Loss: 0.4181\n",
      "F1-Score: 0.7111\n",
      "Epoch 00172 | Loss: 0.4153\n",
      "Epoch 00173 | Loss: 0.4138\n",
      "Epoch 00174 | Loss: 0.4117\n",
      "Epoch 00175 | Loss: 0.4097\n",
      "Epoch 00176 | Loss: 0.4131\n",
      "F1-Score: 0.7219\n",
      "Epoch 00177 | Loss: 0.4114\n",
      "Epoch 00178 | Loss: 0.4125\n",
      "Epoch 00179 | Loss: 0.4151\n",
      "Epoch 00180 | Loss: 0.4171\n",
      "Epoch 00181 | Loss: 0.4162\n",
      "F1-Score: 0.7198\n",
      "Epoch 00182 | Loss: 0.4173\n",
      "Epoch 00183 | Loss: 0.4152\n",
      "Epoch 00184 | Loss: 0.4140\n",
      "Epoch 00185 | Loss: 0.4104\n",
      "Epoch 00186 | Loss: 0.4107\n",
      "F1-Score: 0.7212\n",
      "Epoch 00187 | Loss: 0.4101\n",
      "Epoch 00188 | Loss: 0.4075\n",
      "Epoch 00189 | Loss: 0.4081\n",
      "Epoch 00190 | Loss: 0.4127\n",
      "Epoch 00191 | Loss: 0.4099\n",
      "F1-Score: 0.7228\n",
      "Epoch 00192 | Loss: 0.4106\n",
      "Epoch 00193 | Loss: 0.4101\n",
      "Epoch 00194 | Loss: 0.4083\n",
      "Epoch 00195 | Loss: 0.4053\n",
      "Epoch 00196 | Loss: 0.4057\n",
      "F1-Score: 0.7127\n",
      "Epoch 00197 | Loss: 0.4090\n",
      "Epoch 00198 | Loss: 0.4051\n",
      "Epoch 00199 | Loss: 0.4056\n",
      "Epoch 00200 | Loss: 0.4059\n"
     ]
    }
   ],
   "source": [
    "## Student model\n",
    "student_model = StudentModel().to(device)\n",
    "\n",
    "### DEFINE LOSS FUNCTION AND OPTIMIZER\n",
    "optimizer = torch.optim.Adam(student_model.parameters(), lr=0.005)\n",
    "\n",
    "### TRAIN\n",
    "epoch_list, student_model_scores = train(student_model, loss_fcn, device, optimizer, max_epochs, train_dataloader, val_dataloader)"
   ]
  },
  {
   "cell_type": "code",
   "execution_count": null,
   "metadata": {
    "cell_ktag": "igvw2CQ9lmSp"
   },
   "outputs": [],
   "source": []
  },
  {
   "cell_type": "markdown",
   "metadata": {
    "cell_ktag": "igvw2CQ9lmSp",
    "id": "aWatNTPBpQGY"
   },
   "source": [
    "Let's evaluate the performance of your model"
   ]
  },
  {
   "cell_type": "code",
   "execution_count": 26,
   "metadata": {
    "cell_ktag": "igvw2CQ9lmSp",
    "id": "WFWMqwDuSj7b"
   },
   "outputs": [
    {
     "name": "stdout",
     "output_type": "stream",
     "text": [
      "Student Model : F1-Score on the test set: 0.7408\n"
     ]
    },
    {
     "data": {
      "image/png": "[encoded data removed]",
      "text/plain": [
       "<Figure size 1000x500 with 1 Axes>"
      ]
     },
     "metadata": {},
     "output_type": "display_data"
    }
   ],
   "source": [
    "score_test = evaluate(student_model, loss_fcn, device, test_dataloader)\n",
    "print(\"Student Model : F1-Score on the test set: {:.4f}\".format(score_test))\n",
    "\n",
    "\n",
    "def plot_f1_score(epoch_list, basic_model_scores, student_model_scores):\n",
    "    plt.figure(figsize=[10, 5])\n",
    "    plt.plot(epoch_list, basic_model_scores, \"b\", label=\"Basic Model\")\n",
    "    plt.plot(epoch_list, student_model_scores, \"r\", label=\"Student Model\")\n",
    "    plt.title(\"Evolution of f1 score w.r.t epochs\")\n",
    "    plt.ylim([0.0, 1.0])\n",
    "    plt.ylabel(\"Epochs\")\n",
    "    plt.xlabel(\"F1-Score\")\n",
    "    plt.legend()\n",
    "    plt.show()\n",
    "\n",
    "\n",
    "plot_f1_score(epoch_list, basic_model_scores, student_model_scores)"
   ]
  },
  {
   "cell_type": "code",
   "execution_count": null,
   "metadata": {
    "cell_ktag": "igvw2CQ9lmSp"
   },
   "outputs": [],
   "source": []
  },
  {
   "cell_type": "markdown",
   "metadata": {
    "cell_ktag": "igvw2CQ9lmSp",
    "id": "i9aVEYkuR3fp"
   },
   "source": [
    "## **PART 2 : QUESTIONS** (12/20)"
   ]
  },
  {
   "cell_type": "markdown",
   "metadata": {
    "cell_ktag": "igvw2CQ9lmSp",
    "id": "vZ-r6AWtR-Co"
   },
   "source": [
    "**1. Make a small paragraph that : (4pts)**\n",
    "1. Explains your achitecture and justify your choices (why the Graph Layer you chose is more efficient than the GCNLayer from the Basic Model?).\n",
    "2. Analyses your results (what is the F1-Score ? are your results convincing ? what is your position w.r.t state-of-the-art ?)."
   ]
  },
  {
   "cell_type": "code",
   "execution_count": 27,
   "metadata": {
    "cell_ktag": "igvw2CQ9lmSp"
   },
   "outputs": [],
   "source": [
    "# Your code goes here"
   ]
  },
  {
   "cell_type": "markdown",
   "metadata": {
    "cell_ktag": "igvw2CQ9lmSp"
   },
   "source": [
    ">Answer"
   ]
  },
  {
   "cell_type": "markdown",
   "metadata": {
    "cell_ktag": "igvw2CQ9lmSp"
   },
   "source": []
  },
  {
   "cell_type": "markdown",
   "metadata": {
    "cell_ktag": "igvw2CQ9lmSp",
    "id": "5HIVqG4u5jfc"
   },
   "source": [
    "**2. Provide a diagramm of your architecture, which includes a good and clear legend as well as shapes information. The diagramm must be submitted as an external file, along with this notebook (PDF, JEPG or PNG format accepted). (2pts)**"
   ]
  },
  {
   "cell_type": "markdown",
   "metadata": {
    "cell_ktag": "igvw2CQ9lmSp",
    "id": "crMHLjkJ5pxl"
   },
   "source": [
    "**3. Make a small paragraph that explains: (6pts)**\n",
    "1. What _oversmoothing_ is in the context of Graph Neural Network. Why is it an issue ? \n",
    "2. Are there solutions to overcome it ? \n",
    "3. Do you think the model you constructed is robust with respect to oversmoothing ? Why ?"
   ]
  },
  {
   "cell_type": "markdown",
   "metadata": {
    "cell_ktag": "igvw2CQ9lmSp",
    "id": "QLPosSov_uPK"
   },
   "source": [
    "> Answer"
   ]
  },
  {
   "cell_type": "markdown",
   "metadata": {
    "cell_ktag": "igvw2CQ9lmSp"
   },
   "source": []
  }
 ],
 "metadata": {
  "accelerator": "GPU",
  "colab": {
   "provenance": []
  },
  "gpuClass": "standard",
  "kernelspec": {
   "display_name": "Python 3",
   "language": "python",
   "name": "python3"
  },
  "kfiletag": "igvw2CQ9lmSp",
  "language_info": {
   "codemirror_mode": {
    "name": "ipython",
    "version": 3
   },
   "file_extension": ".py",
   "mimetype": "text/x-python",
   "name": "python",
   "nbconvert_exporter": "python",
   "pygments_lexer": "ipython3",
   "version": "3.11.5"
  }
 },
 "nbformat": 4,
 "nbformat_minor": 1
}
