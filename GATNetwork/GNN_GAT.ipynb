{
 "cells": [
  {
   "cell_type": "markdown",
   "metadata": {
    "cell_ktag": "igvw2CQ9lmSp",
    "id": "nlCNZsWlOSfP"
   },
   "source": [
    "# Practical Session on Graph Neural Networks\n",
    "\n",
    "**by Matthieu Nastorg and Cyriaque Rousselot**"
   ]
  },
  {
   "cell_type": "markdown",
   "metadata": {
    "cell_ktag": "igvw2CQ9lmSp",
    "id": "p0RMEfCaEehI"
   },
   "source": [
    "## **PART 1 : CODING** (8/20)"
   ]
  },
  {
   "cell_type": "markdown",
   "metadata": {
    "cell_ktag": "igvw2CQ9lmSp",
    "id": "v5Lp4PasOby4"
   },
   "source": [
    "### Install Pytorch Geometric\n",
    "\n",
    "To handle graph data, we use the library Pytorch Geometric : https://pytorch-geometric.readthedocs.io/en/latest/\n",
    "\n",
    "*   If you use _Google Colab_, simply run the following cell to install Pytorch Geometric (**advised**).\n",
    "*   If you plan using your _own environment_, follow the documentation to install Pytorch Geometric : https://pytorch-geometric.readthedocs.io/en/latest/install/installation.html and skip the following cell."
   ]
  },
  {
   "cell_type": "code",
   "execution_count": 1,
   "metadata": {
    "cell_ktag": "igvw2CQ9lmSp",
    "colab": {
     "base_uri": "https://localhost:8080/",
     "height": 1000
    },
    "id": "buW3eZmrj1N2",
    "outputId": "825f2cc5-6c42-40b6-c811-de8e83815d1a"
   },
   "outputs": [
    {
     "name": "stdout",
     "output_type": "stream",
     "text": [
      "Looking in links: https://pytorch-geometric.com/whl/torch-2.2.0+cu121.html\n",
      "Requirement already satisfied: torch-scatter in /Data/basile-terver/venvs/.venv_DLinP/lib/python3.11/site-packages (2.1.2+pt22cu121)\n",
      "\n",
      "\u001b[1m[\u001b[0m\u001b[34;49mnotice\u001b[0m\u001b[1;39;49m]\u001b[0m\u001b[39;49m A new release of pip is available: \u001b[0m\u001b[31;49m23.2.1\u001b[0m\u001b[39;49m -> \u001b[0m\u001b[32;49m24.0\u001b[0m\n",
      "\u001b[1m[\u001b[0m\u001b[34;49mnotice\u001b[0m\u001b[1;39;49m]\u001b[0m\u001b[39;49m To update, run: \u001b[0m\u001b[32;49mpip install --upgrade pip\u001b[0m\n",
      "Looking in links: https://pytorch-geometric.com/whl/torch-2.2.0+cu121.html\n",
      "Requirement already satisfied: torch-sparse in /Data/basile-terver/venvs/.venv_DLinP/lib/python3.11/site-packages (0.6.18+pt22cu121)\n",
      "Requirement already satisfied: scipy in /Data/basile-terver/venvs/.venv_DLinP/lib/python3.11/site-packages (from torch-sparse) (1.12.0)\n",
      "Requirement already satisfied: numpy<1.29.0,>=1.22.4 in /Data/basile-terver/venvs/.venv_DLinP/lib/python3.11/site-packages (from scipy->torch-sparse) (1.26.4)\n",
      "\n",
      "\u001b[1m[\u001b[0m\u001b[34;49mnotice\u001b[0m\u001b[1;39;49m]\u001b[0m\u001b[39;49m A new release of pip is available: \u001b[0m\u001b[31;49m23.2.1\u001b[0m\u001b[39;49m -> \u001b[0m\u001b[32;49m24.0\u001b[0m\n",
      "\u001b[1m[\u001b[0m\u001b[34;49mnotice\u001b[0m\u001b[1;39;49m]\u001b[0m\u001b[39;49m To update, run: \u001b[0m\u001b[32;49mpip install --upgrade pip\u001b[0m\n",
      "Looking in links: https://pytorch-geometric.com/whl/torch-2.2.0+cu121.html\n",
      "Requirement already satisfied: torch-cluster in /Data/basile-terver/venvs/.venv_DLinP/lib/python3.11/site-packages (1.6.3+pt22cu121)\n",
      "Requirement already satisfied: scipy in /Data/basile-terver/venvs/.venv_DLinP/lib/python3.11/site-packages (from torch-cluster) (1.12.0)\n",
      "Requirement already satisfied: numpy<1.29.0,>=1.22.4 in /Data/basile-terver/venvs/.venv_DLinP/lib/python3.11/site-packages (from scipy->torch-cluster) (1.26.4)\n",
      "\n",
      "\u001b[1m[\u001b[0m\u001b[34;49mnotice\u001b[0m\u001b[1;39;49m]\u001b[0m\u001b[39;49m A new release of pip is available: \u001b[0m\u001b[31;49m23.2.1\u001b[0m\u001b[39;49m -> \u001b[0m\u001b[32;49m24.0\u001b[0m\n",
      "\u001b[1m[\u001b[0m\u001b[34;49mnotice\u001b[0m\u001b[1;39;49m]\u001b[0m\u001b[39;49m To update, run: \u001b[0m\u001b[32;49mpip install --upgrade pip\u001b[0m\n",
      "Looking in links: https://pytorch-geometric.com/whl/torch-2.2.0+cu121.html\n",
      "Requirement already satisfied: torch-spline-conv in /Data/basile-terver/venvs/.venv_DLinP/lib/python3.11/site-packages (1.2.2+pt22cu121)\n",
      "\n",
      "\u001b[1m[\u001b[0m\u001b[34;49mnotice\u001b[0m\u001b[1;39;49m]\u001b[0m\u001b[39;49m A new release of pip is available: \u001b[0m\u001b[31;49m23.2.1\u001b[0m\u001b[39;49m -> \u001b[0m\u001b[32;49m24.0\u001b[0m\n",
      "\u001b[1m[\u001b[0m\u001b[34;49mnotice\u001b[0m\u001b[1;39;49m]\u001b[0m\u001b[39;49m To update, run: \u001b[0m\u001b[32;49mpip install --upgrade pip\u001b[0m\n",
      "Requirement already satisfied: torch-geometric in /Data/basile-terver/venvs/.venv_DLinP/lib/python3.11/site-packages (2.5.0)\n",
      "Requirement already satisfied: tqdm in /Data/basile-terver/venvs/.venv_DLinP/lib/python3.11/site-packages (from torch-geometric) (4.66.2)\n",
      "Requirement already satisfied: numpy in /Data/basile-terver/venvs/.venv_DLinP/lib/python3.11/site-packages (from torch-geometric) (1.26.4)\n",
      "Requirement already satisfied: scipy in /Data/basile-terver/venvs/.venv_DLinP/lib/python3.11/site-packages (from torch-geometric) (1.12.0)\n",
      "Requirement already satisfied: fsspec in /Data/basile-terver/venvs/.venv_DLinP/lib/python3.11/site-packages (from torch-geometric) (2024.2.0)\n",
      "Requirement already satisfied: jinja2 in /Data/basile-terver/venvs/.venv_DLinP/lib/python3.11/site-packages (from torch-geometric) (3.1.3)\n",
      "Requirement already satisfied: aiohttp in /Data/basile-terver/venvs/.venv_DLinP/lib/python3.11/site-packages (from torch-geometric) (3.9.3)\n",
      "Requirement already satisfied: requests in /Data/basile-terver/venvs/.venv_DLinP/lib/python3.11/site-packages (from torch-geometric) (2.31.0)\n",
      "Requirement already satisfied: pyparsing in /Data/basile-terver/venvs/.venv_DLinP/lib/python3.11/site-packages (from torch-geometric) (3.1.1)\n",
      "Requirement already satisfied: scikit-learn in /Data/basile-terver/venvs/.venv_DLinP/lib/python3.11/site-packages (from torch-geometric) (1.4.1.post1)\n",
      "Requirement already satisfied: psutil>=5.8.0 in /Data/basile-terver/venvs/.venv_DLinP/lib/python3.11/site-packages (from torch-geometric) (5.9.8)\n",
      "Requirement already satisfied: aiosignal>=1.1.2 in /Data/basile-terver/venvs/.venv_DLinP/lib/python3.11/site-packages (from aiohttp->torch-geometric) (1.3.1)\n",
      "Requirement already satisfied: attrs>=17.3.0 in /Data/basile-terver/venvs/.venv_DLinP/lib/python3.11/site-packages (from aiohttp->torch-geometric) (23.2.0)\n",
      "Requirement already satisfied: frozenlist>=1.1.1 in /Data/basile-terver/venvs/.venv_DLinP/lib/python3.11/site-packages (from aiohttp->torch-geometric) (1.4.1)\n",
      "Requirement already satisfied: multidict<7.0,>=4.5 in /Data/basile-terver/venvs/.venv_DLinP/lib/python3.11/site-packages (from aiohttp->torch-geometric) (6.0.5)\n",
      "Requirement already satisfied: yarl<2.0,>=1.0 in /Data/basile-terver/venvs/.venv_DLinP/lib/python3.11/site-packages (from aiohttp->torch-geometric) (1.9.4)\n",
      "Requirement already satisfied: MarkupSafe>=2.0 in /Data/basile-terver/venvs/.venv_DLinP/lib/python3.11/site-packages (from jinja2->torch-geometric) (2.1.5)\n",
      "Requirement already satisfied: charset-normalizer<4,>=2 in /Data/basile-terver/venvs/.venv_DLinP/lib/python3.11/site-packages (from requests->torch-geometric) (3.3.2)\n",
      "Requirement already satisfied: idna<4,>=2.5 in /Data/basile-terver/venvs/.venv_DLinP/lib/python3.11/site-packages (from requests->torch-geometric) (3.6)\n",
      "Requirement already satisfied: urllib3<3,>=1.21.1 in /Data/basile-terver/venvs/.venv_DLinP/lib/python3.11/site-packages (from requests->torch-geometric) (2.2.0)\n",
      "Requirement already satisfied: certifi>=2017.4.17 in /Data/basile-terver/venvs/.venv_DLinP/lib/python3.11/site-packages (from requests->torch-geometric) (2024.2.2)\n",
      "Requirement already satisfied: joblib>=1.2.0 in /Data/basile-terver/venvs/.venv_DLinP/lib/python3.11/site-packages (from scikit-learn->torch-geometric) (1.3.2)\n",
      "Requirement already satisfied: threadpoolctl>=2.0.0 in /Data/basile-terver/venvs/.venv_DLinP/lib/python3.11/site-packages (from scikit-learn->torch-geometric) (3.3.0)\n",
      "\n",
      "\u001b[1m[\u001b[0m\u001b[34;49mnotice\u001b[0m\u001b[1;39;49m]\u001b[0m\u001b[39;49m A new release of pip is available: \u001b[0m\u001b[31;49m23.2.1\u001b[0m\u001b[39;49m -> \u001b[0m\u001b[32;49m24.0\u001b[0m\n",
      "\u001b[1m[\u001b[0m\u001b[34;49mnotice\u001b[0m\u001b[1;39;49m]\u001b[0m\u001b[39;49m To update, run: \u001b[0m\u001b[32;49mpip install --upgrade pip\u001b[0m\n"
     ]
    }
   ],
   "source": [
    "########## INSTALL TORCH GEOMETRIC ##################\n",
    "# https://pytorch-geometric.readthedocs.io/en/latest/\n",
    "#####################################################\n",
    "import torch\n",
    "\n",
    "\n",
    "def format_pytorch_version(version):\n",
    "    return version.split(\"+\")[0]\n",
    "\n",
    "\n",
    "TORCH_version = torch.__version__\n",
    "TORCH = format_pytorch_version(TORCH_version)\n",
    "\n",
    "\n",
    "def format_cuda_version(version):\n",
    "    return \"cu\" + version.replace(\".\", \"\")\n",
    "\n",
    "\n",
    "CUDA_version = torch.version.cuda\n",
    "CUDA = format_cuda_version(CUDA_version)\n",
    "\n",
    "!pip install torch-scatter     -f https://pytorch-geometric.com/whl/torch-{TORCH}+{CUDA}.html\n",
    "!pip install torch-sparse      -f https://pytorch-geometric.com/whl/torch-{TORCH}+{CUDA}.html\n",
    "!pip install torch-cluster     -f https://pytorch-geometric.com/whl/torch-{TORCH}+{CUDA}.html\n",
    "!pip install torch-spline-conv -f https://pytorch-geometric.com/whl/torch-{TORCH}+{CUDA}.html\n",
    "!pip install torch-geometric"
   ]
  },
  {
   "cell_type": "markdown",
   "metadata": {
    "cell_ktag": "igvw2CQ9lmSp",
    "id": "04JPKXjDclTj"
   },
   "source": [
    "### Import required packages\n",
    "\n",
    "Run the following cell to import all required packages. This cell **must not** be modified.\n",
    "\n",
    "To significantly accelerate your training, it is advised to use GPU. Using Google Colab, you need to activate it : \n",
    "\n",
    "*   Edit --> Notebook Setting --> Hardware accelerator --> GPU"
   ]
  },
  {
   "cell_type": "code",
   "execution_count": 2,
   "metadata": {
    "cell_ktag": "igvw2CQ9lmSp",
    "id": "qXGDmBMYgA_x"
   },
   "outputs": [],
   "source": [
    "#####################################################\n",
    "################## PACKAGES #########################\n",
    "#####################################################\n",
    "import torch\n",
    "import numpy as np\n",
    "import matplotlib.pyplot as plt\n",
    "\n",
    "import torch.nn as nn\n",
    "import torch_geometric.nn as graphnn\n",
    "from sklearn.metrics import f1_score\n",
    "from torch_geometric.datasets import PPI\n",
    "from torch_geometric.loader import DataLoader"
   ]
  },
  {
   "cell_type": "markdown",
   "metadata": {
    "cell_ktag": "igvw2CQ9lmSp",
    "id": "3UvCNG8FgdS-"
   },
   "source": [
    "### Dataset\n",
    "\n",
    "We use the Protein-Protein Interaction (PPI) network dataset which includes:\n",
    "- 20 graphs for training \n",
    "- 2 graphs for validation\n",
    "- 2 graphs for testing\n",
    "\n",
    "One graph of the PPI dataset has on average 2372 nodes. Each node:\n",
    "- 50 features : positional gene sets / motif gene / immunological signatures ...\n",
    "- 121 (binary) labels : gene ontology sets (way to classify gene products like proteins).\n",
    "\n",
    "**This problem aims to predict, for a given PPI graph, the correct node's labels**.\n",
    "\n",
    "**It is a node (multi-level) classification task** (trained using supervised learning). \n",
    "\n",
    "For your curiosity, more details information on the dataset and some applications:\n",
    "- https://cs.stanford.edu/~jure/pubs/pathways-psb18.pdf\n",
    "- https://arxiv.org/abs/1707.04638\n",
    "\n",
    "To understand how a graph data is implemented in Pytorch Geometric, refer to : https://pytorch-geometric.readthedocs.io/en/latest/get_started/introduction.html\n"
   ]
  },
  {
   "cell_type": "code",
   "execution_count": 3,
   "metadata": {
    "cell_ktag": "igvw2CQ9lmSp",
    "colab": {
     "base_uri": "https://localhost:8080/"
    },
    "id": "IwdNhvzVNkZB",
    "outputId": "64b6d3c5-43b2-420b-e5ce-0204fa1dd6be"
   },
   "outputs": [
    {
     "name": "stdout",
     "output_type": "stream",
     "text": [
      "Number of samples in the train dataset:  20\n",
      "Number of samples in the val dataset:  2\n",
      "Number of samples in the test dataset:  2\n",
      "Output of one sample from the train dataset:  Data(x=[1767, 50], edge_index=[2, 32318], y=[1767, 121])\n",
      "Target to train against shape: torch.Size([1767, 121])\n",
      "Target to train against: tensor([[1., 0., 0.,  ..., 1., 1., 0.],\n",
      "        [1., 0., 0.,  ..., 1., 1., 1.],\n",
      "        [1., 1., 1.,  ..., 0., 0., 0.],\n",
      "        ...,\n",
      "        [0., 0., 0.,  ..., 0., 0., 0.],\n",
      "        [0., 0., 0.,  ..., 0., 0., 0.],\n",
      "        [1., 0., 0.,  ..., 0., 0., 0.]])\n",
      "Target to train against for first node: tensor([1., 0., 0., 0., 0., 0., 0., 0., 0., 1., 0., 0., 1., 0., 0., 0., 0., 1.,\n",
      "        0., 1., 0., 1., 0., 0., 0., 1., 1., 0., 1., 0., 1., 1., 1., 0., 0., 0.,\n",
      "        0., 0., 0., 0., 0., 1., 0., 0., 0., 0., 0., 1., 0., 0., 0., 0., 0., 1.,\n",
      "        1., 0., 0., 0., 0., 0., 0., 1., 0., 0., 0., 1., 0., 0., 0., 0., 0., 0.,\n",
      "        0., 0., 0., 1., 0., 0., 0., 0., 0., 1., 0., 1., 0., 1., 0., 0., 0., 0.,\n",
      "        0., 0., 1., 0., 1., 1., 0., 1., 1., 0., 1., 0., 0., 0., 0., 0., 0., 0.,\n",
      "        0., 1., 0., 0., 0., 0., 0., 1., 1., 1., 1., 1., 0.])\n",
      "Edge_index :\n",
      "tensor([[   0,    0,    0,  ..., 1744, 1745, 1749],\n",
      "        [ 372, 1101,  766,  ..., 1745, 1744, 1739]])\n",
      "Number of features per node:  50\n",
      "Number of classes per node:  121\n"
     ]
    }
   ],
   "source": [
    "### LOAD DATASETS\n",
    "\n",
    "BATCH_SIZE = 2\n",
    "\n",
    "# Train Dataset\n",
    "train_dataset = PPI(root=\"\", split=\"train\")\n",
    "train_dataloader = DataLoader(train_dataset, batch_size=BATCH_SIZE)\n",
    "# Val Dataset\n",
    "val_dataset = PPI(root=\"\", split=\"val\")\n",
    "val_dataloader = DataLoader(val_dataset, batch_size=BATCH_SIZE)\n",
    "# Test Dataset\n",
    "test_dataset = PPI(root=\"\", split=\"test\")\n",
    "test_dataloader = DataLoader(test_dataset, batch_size=BATCH_SIZE)\n",
    "\n",
    "# Number of features and classes\n",
    "n_features, n_classes = train_dataset[0].x.shape[1], train_dataset[0].y.shape[1]\n",
    "\"\"\"\n",
    "From PyG documentation: \n",
    "A single graph in PyG is described by an instance of torch_geometric.data.Data, which holds the following attributes by default:\n",
    "data.x: Node feature matrix with shape [num_nodes, num_node_features]\n",
    "data.edge_index: Graph connectivity in COO format with shape [2, num_edges] and type torch.long\n",
    "data.edge_attr: Edge feature matrix with shape [num_edges, num_edge_features]\n",
    "data.y: Target to train against (may have arbitrary shape), e.g., node-level targets of shape \n",
    "[num_nodes, *] or graph-level targets of shape [1, *]\n",
    "data.pos: Node position matrix with shape [num_nodes, num_dimensions]\n",
    "\"\"\"\n",
    "\n",
    "print(\"Number of samples in the train dataset: \", len(train_dataset))\n",
    "print(\"Number of samples in the val dataset: \", len(test_dataset))\n",
    "print(\"Number of samples in the test dataset: \", len(test_dataset))\n",
    "print(\"Output of one sample from the train dataset: \", train_dataset[0])\n",
    "print(\"Target to train against shape:\",train_dataset[0].y.shape)\n",
    "print(\"Target to train against:\",train_dataset[0].y)\n",
    "print(\"Target to train against for first node:\",train_dataset[0].y[0])\n",
    "# goal is to predict node labels, which are k-hot encoded, this is multi-label classification\n",
    "print(\"Edge_index :\")\n",
    "print(train_dataset[0].edge_index)\n",
    "print(\"Number of features per node: \", n_features)\n",
    "print(\"Number of classes per node: \", n_classes)"
   ]
  },
  {
   "cell_type": "markdown",
   "metadata": {
    "cell_ktag": "igvw2CQ9lmSp",
    "id": "hiCcn9qeO6Nm"
   },
   "source": [
    "### Define a basic Model"
   ]
  },
  {
   "cell_type": "markdown",
   "metadata": {
    "cell_ktag": "igvw2CQ9lmSp",
    "id": "8RjzEiJ-eVot"
   },
   "source": [
    "Here we define a very simple Graph Neural Network model which will be used as our baseline. This model consists of three graph convolutional layers (from https://arxiv.org/pdf/1609.02907.pdf). The first two layers computes 256 features, followed by an ELU activation function. The last layer is used for (multi-level) classification task, computing 121 features."
   ]
  },
  {
   "cell_type": "code",
   "execution_count": 4,
   "metadata": {
    "cell_ktag": "igvw2CQ9lmSp",
    "id": "2Km-GN1aMpd_"
   },
   "outputs": [],
   "source": [
    "#####################################################\n",
    "################## MODEL ############################\n",
    "#####################################################\n",
    "class BasicGraphModel(nn.Module):\n",
    "    def __init__(self, input_size, hidden_size, output_size):\n",
    "        super().__init__()\n",
    "\n",
    "        self.graphconv1 = graphnn.GCNConv(input_size, hidden_size)\n",
    "        self.graphconv2 = graphnn.GCNConv(hidden_size, hidden_size)\n",
    "        self.graphconv3 = graphnn.GCNConv(hidden_size, output_size)\n",
    "\n",
    "        self.elu = nn.ELU()\n",
    "        # smooth ReLU but taking values in (-1,+infty)\n",
    "\n",
    "    def forward(self, x, edge_index):\n",
    "        x = self.graphconv1(x, edge_index)\n",
    "        x = self.elu(x)\n",
    "        x = self.graphconv2(x, edge_index)\n",
    "        x = self.elu(x)\n",
    "        x = self.graphconv3(x, edge_index)\n",
    "\n",
    "        return x"
   ]
  },
  {
   "cell_type": "markdown",
   "metadata": {
    "cell_ktag": "igvw2CQ9lmSp",
    "id": "6ekk0TrOktOB"
   },
   "source": [
    "Next we construct the function to train the model."
   ]
  },
  {
   "cell_type": "code",
   "execution_count": 5,
   "metadata": {
    "cell_ktag": "igvw2CQ9lmSp",
    "id": "m4lneoadMxqy"
   },
   "outputs": [],
   "source": [
    "#####################################################\n",
    "############## TRAIN FUNCTION #######################\n",
    "#####################################################\n",
    "def train(\n",
    "    model, loss_fcn, device, optimizer, max_epochs, train_dataloader, val_dataloader\n",
    "):\n",
    "\n",
    "    epoch_list = []\n",
    "    scores_list = []\n",
    "\n",
    "    # loop over epochs\n",
    "    for epoch in range(max_epochs):\n",
    "        model.train()\n",
    "        losses = []\n",
    "        # loop over batches\n",
    "        for i, train_batch in enumerate(train_dataloader):\n",
    "            optimizer.zero_grad()\n",
    "            train_batch_device = train_batch.to(device)\n",
    "            # logits is the output of the model\n",
    "            logits = model(train_batch_device.x, train_batch_device.edge_index)\n",
    "            # compute the loss\n",
    "            loss = loss_fcn(logits, train_batch_device.y)\n",
    "            # optimizer step\n",
    "            loss.backward()\n",
    "            optimizer.step()\n",
    "            losses.append(loss.item())\n",
    "        loss_data = np.array(losses).mean()\n",
    "        print(\"Epoch {:05d} | Loss: {:.4f}\".format(epoch + 1, loss_data))\n",
    "\n",
    "        if epoch % 5 == 0:\n",
    "            # evaluate the model on the validation set\n",
    "            # computes the f1-score (see next function)\n",
    "            score = evaluate(model, loss_fcn, device, val_dataloader)\n",
    "            print(\"F1-Score: {:.4f}\".format(score))\n",
    "            scores_list.append(score)\n",
    "            epoch_list.append(epoch)\n",
    "\n",
    "    return epoch_list, scores_list"
   ]
  },
  {
   "cell_type": "markdown",
   "metadata": {
    "cell_ktag": "igvw2CQ9lmSp",
    "id": "PTd9OqaelLni"
   },
   "source": [
    "Next function is designed to evaluate the performance of the model, computing the F1-Score"
   ]
  },
  {
   "cell_type": "code",
   "execution_count": 6,
   "metadata": {
    "cell_ktag": "igvw2CQ9lmSp",
    "id": "PajZzg5zM7V1"
   },
   "outputs": [],
   "source": [
    "#####################################################\n",
    "############### TEST FUNCTION #######################\n",
    "#####################################################\n",
    "def evaluate(model, loss_fcn, device, dataloader):\n",
    "    score_list_batch = []\n",
    "\n",
    "    model.eval()\n",
    "    for i, batch in enumerate(dataloader):\n",
    "        batch = batch.to(device)\n",
    "        output = model(batch.x, batch.edge_index)\n",
    "        loss_test = loss_fcn(output, batch.y)\n",
    "        # If the element of output is greater than or equal to 0, it replaces it with 1.\n",
    "        predict = np.where(output.detach().cpu().numpy() >= 0, 1, 0)\n",
    "        score = f1_score(batch.y.cpu().numpy(), predict, average=\"micro\")\n",
    "        score_list_batch.append(score)\n",
    "\n",
    "    return np.array(score_list_batch).mean()"
   ]
  },
  {
   "cell_type": "markdown",
   "metadata": {},
   "source": [
    "If the element of output is greater than or equal to 0, it replaces it with 1, otherwise 0. Thus, we would want an output layer activation function with values in (-1,1)."
   ]
  },
  {
   "cell_type": "markdown",
   "metadata": {
    "cell_ktag": "igvw2CQ9lmSp",
    "id": "EilgopwMlpsu"
   },
   "source": [
    "Let's train this model !"
   ]
  },
  {
   "cell_type": "code",
   "execution_count": 7,
   "metadata": {
    "cell_ktag": "igvw2CQ9lmSp",
    "colab": {
     "base_uri": "https://localhost:8080/"
    },
    "id": "Xkqo7e0gNACE",
    "outputId": "5f2ab59d-7841-4d79-da1b-2d7b4ed963c2"
   },
   "outputs": [
    {
     "name": "stdout",
     "output_type": "stream",
     "text": [
      "\n",
      "Device:  cuda\n"
     ]
    },
    {
     "name": "stdout",
     "output_type": "stream",
     "text": [
      "Epoch 00001 | Loss: 0.6370\n",
      "F1-Score: 0.4506\n",
      "Epoch 00002 | Loss: 0.5793\n",
      "Epoch 00003 | Loss: 0.5611\n",
      "Epoch 00004 | Loss: 0.5552\n",
      "Epoch 00005 | Loss: 0.5500\n",
      "Epoch 00006 | Loss: 0.5458\n",
      "F1-Score: 0.5169\n",
      "Epoch 00007 | Loss: 0.5423\n",
      "Epoch 00008 | Loss: 0.5382\n",
      "Epoch 00009 | Loss: 0.5342\n",
      "Epoch 00010 | Loss: 0.5311\n",
      "Epoch 00011 | Loss: 0.5282\n",
      "F1-Score: 0.5146\n",
      "Epoch 00012 | Loss: 0.5256\n",
      "Epoch 00013 | Loss: 0.5232\n",
      "Epoch 00014 | Loss: 0.5209\n",
      "Epoch 00015 | Loss: 0.5186\n",
      "Epoch 00016 | Loss: 0.5164\n",
      "F1-Score: 0.5352\n",
      "Epoch 00017 | Loss: 0.5141\n",
      "Epoch 00018 | Loss: 0.5120\n",
      "Epoch 00019 | Loss: 0.5098\n",
      "Epoch 00020 | Loss: 0.5078\n",
      "Epoch 00021 | Loss: 0.5057\n",
      "F1-Score: 0.5478\n",
      "Epoch 00022 | Loss: 0.5037\n",
      "Epoch 00023 | Loss: 0.5018\n",
      "Epoch 00024 | Loss: 0.4999\n",
      "Epoch 00025 | Loss: 0.4982\n",
      "Epoch 00026 | Loss: 0.4966\n",
      "F1-Score: 0.5593\n",
      "Epoch 00027 | Loss: 0.4954\n",
      "Epoch 00028 | Loss: 0.4946\n",
      "Epoch 00029 | Loss: 0.4941\n",
      "Epoch 00030 | Loss: 0.4944\n",
      "Epoch 00031 | Loss: 0.4921\n",
      "F1-Score: 0.5103\n",
      "Epoch 00032 | Loss: 0.4906\n",
      "Epoch 00033 | Loss: 0.4888\n",
      "Epoch 00034 | Loss: 0.4861\n",
      "Epoch 00035 | Loss: 0.4837\n",
      "Epoch 00036 | Loss: 0.4820\n",
      "F1-Score: 0.5411\n",
      "Epoch 00037 | Loss: 0.4806\n",
      "Epoch 00038 | Loss: 0.4795\n",
      "Epoch 00039 | Loss: 0.4775\n",
      "Epoch 00040 | Loss: 0.4760\n",
      "Epoch 00041 | Loss: 0.4744\n",
      "F1-Score: 0.5319\n",
      "Epoch 00042 | Loss: 0.4732\n",
      "Epoch 00043 | Loss: 0.4716\n",
      "Epoch 00044 | Loss: 0.4708\n",
      "Epoch 00045 | Loss: 0.4695\n",
      "Epoch 00046 | Loss: 0.4678\n",
      "F1-Score: 0.5656\n",
      "Epoch 00047 | Loss: 0.4661\n",
      "Epoch 00048 | Loss: 0.4648\n",
      "Epoch 00049 | Loss: 0.4636\n",
      "Epoch 00050 | Loss: 0.4629\n",
      "Epoch 00051 | Loss: 0.4621\n",
      "F1-Score: 0.5882\n",
      "Epoch 00052 | Loss: 0.4611\n",
      "Epoch 00053 | Loss: 0.4601\n",
      "Epoch 00054 | Loss: 0.4596\n",
      "Epoch 00055 | Loss: 0.4593\n",
      "Epoch 00056 | Loss: 0.4589\n",
      "F1-Score: 0.5922\n",
      "Epoch 00057 | Loss: 0.4589\n",
      "Epoch 00058 | Loss: 0.4575\n",
      "Epoch 00059 | Loss: 0.4573\n",
      "Epoch 00060 | Loss: 0.4558\n",
      "Epoch 00061 | Loss: 0.4547\n",
      "F1-Score: 0.5769\n",
      "Epoch 00062 | Loss: 0.4548\n",
      "Epoch 00063 | Loss: 0.4541\n",
      "Epoch 00064 | Loss: 0.4529\n",
      "Epoch 00065 | Loss: 0.4525\n",
      "Epoch 00066 | Loss: 0.4511\n",
      "F1-Score: 0.5467\n",
      "Epoch 00067 | Loss: 0.4496\n",
      "Epoch 00068 | Loss: 0.4501\n",
      "Epoch 00069 | Loss: 0.4495\n",
      "Epoch 00070 | Loss: 0.4478\n",
      "Epoch 00071 | Loss: 0.4477\n",
      "F1-Score: 0.5886\n",
      "Epoch 00072 | Loss: 0.4458\n",
      "Epoch 00073 | Loss: 0.4453\n",
      "Epoch 00074 | Loss: 0.4439\n",
      "Epoch 00075 | Loss: 0.4436\n",
      "Epoch 00076 | Loss: 0.4427\n",
      "F1-Score: 0.5965\n",
      "Epoch 00077 | Loss: 0.4424\n",
      "Epoch 00078 | Loss: 0.4421\n",
      "Epoch 00079 | Loss: 0.4423\n",
      "Epoch 00080 | Loss: 0.4410\n",
      "Epoch 00081 | Loss: 0.4407\n",
      "F1-Score: 0.5794\n",
      "Epoch 00082 | Loss: 0.4396\n",
      "Epoch 00083 | Loss: 0.4388\n",
      "Epoch 00084 | Loss: 0.4389\n",
      "Epoch 00085 | Loss: 0.4386\n",
      "Epoch 00086 | Loss: 0.4377\n",
      "F1-Score: 0.6084\n",
      "Epoch 00087 | Loss: 0.4369\n",
      "Epoch 00088 | Loss: 0.4364\n",
      "Epoch 00089 | Loss: 0.4364\n",
      "Epoch 00090 | Loss: 0.4358\n",
      "Epoch 00091 | Loss: 0.4352\n",
      "F1-Score: 0.5999\n",
      "Epoch 00092 | Loss: 0.4347\n",
      "Epoch 00093 | Loss: 0.4323\n",
      "Epoch 00094 | Loss: 0.4314\n",
      "Epoch 00095 | Loss: 0.4313\n",
      "Epoch 00096 | Loss: 0.4300\n",
      "F1-Score: 0.6061\n",
      "Epoch 00097 | Loss: 0.4300\n",
      "Epoch 00098 | Loss: 0.4299\n",
      "Epoch 00099 | Loss: 0.4287\n",
      "Epoch 00100 | Loss: 0.4285\n",
      "Epoch 00101 | Loss: 0.4294\n",
      "F1-Score: 0.6126\n",
      "Epoch 00102 | Loss: 0.4278\n",
      "Epoch 00103 | Loss: 0.4279\n",
      "Epoch 00104 | Loss: 0.4282\n",
      "Epoch 00105 | Loss: 0.4275\n",
      "Epoch 00106 | Loss: 0.4287\n",
      "F1-Score: 0.5991\n",
      "Epoch 00107 | Loss: 0.4282\n",
      "Epoch 00108 | Loss: 0.4281\n",
      "Epoch 00109 | Loss: 0.4274\n",
      "Epoch 00110 | Loss: 0.4261\n",
      "Epoch 00111 | Loss: 0.4246\n",
      "F1-Score: 0.6151\n",
      "Epoch 00112 | Loss: 0.4234\n",
      "Epoch 00113 | Loss: 0.4224\n",
      "Epoch 00114 | Loss: 0.4219\n",
      "Epoch 00115 | Loss: 0.4207\n",
      "Epoch 00116 | Loss: 0.4205\n",
      "F1-Score: 0.6047\n",
      "Epoch 00117 | Loss: 0.4191\n",
      "Epoch 00118 | Loss: 0.4194\n",
      "Epoch 00119 | Loss: 0.4208\n",
      "Epoch 00120 | Loss: 0.4206\n",
      "Epoch 00121 | Loss: 0.4235\n",
      "F1-Score: 0.6214\n",
      "Epoch 00122 | Loss: 0.4249\n",
      "Epoch 00123 | Loss: 0.4233\n",
      "Epoch 00124 | Loss: 0.4263\n",
      "Epoch 00125 | Loss: 0.4249\n",
      "Epoch 00126 | Loss: 0.4229\n",
      "F1-Score: 0.5875\n",
      "Epoch 00127 | Loss: 0.4223\n",
      "Epoch 00128 | Loss: 0.4218\n",
      "Epoch 00129 | Loss: 0.4247\n",
      "Epoch 00130 | Loss: 0.4250\n",
      "Epoch 00131 | Loss: 0.4247\n",
      "F1-Score: 0.6035\n",
      "Epoch 00132 | Loss: 0.4234\n",
      "Epoch 00133 | Loss: 0.4246\n",
      "Epoch 00134 | Loss: 0.4262\n",
      "Epoch 00135 | Loss: 0.4249\n",
      "Epoch 00136 | Loss: 0.4245\n",
      "F1-Score: 0.6409\n",
      "Epoch 00137 | Loss: 0.4233\n",
      "Epoch 00138 | Loss: 0.4209\n",
      "Epoch 00139 | Loss: 0.4206\n",
      "Epoch 00140 | Loss: 0.4216\n",
      "Epoch 00141 | Loss: 0.4244\n",
      "F1-Score: 0.5924\n",
      "Epoch 00142 | Loss: 0.4230\n",
      "Epoch 00143 | Loss: 0.4224\n",
      "Epoch 00144 | Loss: 0.4202\n",
      "Epoch 00145 | Loss: 0.4197\n",
      "Epoch 00146 | Loss: 0.4166\n",
      "F1-Score: 0.6410\n",
      "Epoch 00147 | Loss: 0.4139\n",
      "Epoch 00148 | Loss: 0.4146\n",
      "Epoch 00149 | Loss: 0.4159\n",
      "Epoch 00150 | Loss: 0.4189\n",
      "Epoch 00151 | Loss: 0.4159\n",
      "F1-Score: 0.6134\n",
      "Epoch 00152 | Loss: 0.4190\n",
      "Epoch 00153 | Loss: 0.4192\n",
      "Epoch 00154 | Loss: 0.4191\n",
      "Epoch 00155 | Loss: 0.4175\n",
      "Epoch 00156 | Loss: 0.4180\n",
      "F1-Score: 0.6095\n",
      "Epoch 00157 | Loss: 0.4152\n",
      "Epoch 00158 | Loss: 0.4137\n",
      "Epoch 00159 | Loss: 0.4123\n",
      "Epoch 00160 | Loss: 0.4128\n",
      "Epoch 00161 | Loss: 0.4113\n",
      "F1-Score: 0.6329\n",
      "Epoch 00162 | Loss: 0.4134\n",
      "Epoch 00163 | Loss: 0.4109\n",
      "Epoch 00164 | Loss: 0.4092\n",
      "Epoch 00165 | Loss: 0.4085\n",
      "Epoch 00166 | Loss: 0.4073\n",
      "F1-Score: 0.6347\n",
      "Epoch 00167 | Loss: 0.4068\n",
      "Epoch 00168 | Loss: 0.4063\n",
      "Epoch 00169 | Loss: 0.4055\n",
      "Epoch 00170 | Loss: 0.4045\n",
      "Epoch 00171 | Loss: 0.4048\n",
      "F1-Score: 0.6360\n",
      "Epoch 00172 | Loss: 0.4038\n",
      "Epoch 00173 | Loss: 0.4037\n",
      "Epoch 00174 | Loss: 0.4029\n",
      "Epoch 00175 | Loss: 0.4018\n",
      "Epoch 00176 | Loss: 0.4017\n",
      "F1-Score: 0.6442\n",
      "Epoch 00177 | Loss: 0.4017\n",
      "Epoch 00178 | Loss: 0.4012\n",
      "Epoch 00179 | Loss: 0.4008\n",
      "Epoch 00180 | Loss: 0.3999\n",
      "Epoch 00181 | Loss: 0.3998\n",
      "F1-Score: 0.6487\n",
      "Epoch 00182 | Loss: 0.3990\n",
      "Epoch 00183 | Loss: 0.3991\n",
      "Epoch 00184 | Loss: 0.3988\n",
      "Epoch 00185 | Loss: 0.3983\n",
      "Epoch 00186 | Loss: 0.3981\n",
      "F1-Score: 0.6546\n",
      "Epoch 00187 | Loss: 0.3986\n",
      "Epoch 00188 | Loss: 0.3981\n",
      "Epoch 00189 | Loss: 0.4000\n",
      "Epoch 00190 | Loss: 0.4003\n",
      "Epoch 00191 | Loss: 0.4041\n",
      "F1-Score: 0.6334\n",
      "Epoch 00192 | Loss: 0.4075\n",
      "Epoch 00193 | Loss: 0.4085\n",
      "Epoch 00194 | Loss: 0.4104\n",
      "Epoch 00195 | Loss: 0.4163\n",
      "Epoch 00196 | Loss: 0.4163\n",
      "F1-Score: 0.6023\n",
      "Epoch 00197 | Loss: 0.4179\n",
      "Epoch 00198 | Loss: 0.4258\n",
      "Epoch 00199 | Loss: 0.4177\n",
      "Epoch 00200 | Loss: 0.4195\n"
     ]
    }
   ],
   "source": [
    "### DEVICE GPU OR CPU : will select GPU if available\n",
    "device = torch.device(\"cuda\" if torch.cuda.is_available() else \"cpu\")\n",
    "print(\"\\nDevice: \", device)\n",
    "\n",
    "### Max number of epochs\n",
    "max_epochs = 200\n",
    "\n",
    "### DEFINE THE MODEL\n",
    "basic_model = BasicGraphModel(\n",
    "    input_size=n_features, hidden_size=256, output_size=n_classes\n",
    ").to(device)\n",
    "\n",
    "### DEFINE LOSS FUNCTION\n",
    "loss_fcn = nn.BCEWithLogitsLoss()\n",
    "\n",
    "### DEFINE OPTIMIZER\n",
    "optimizer = torch.optim.Adam(basic_model.parameters(), lr=0.005)\n",
    "\n",
    "### TRAIN THE MODEL\n",
    "epoch_list, basic_model_scores = train(\n",
    "    basic_model,\n",
    "    loss_fcn,\n",
    "    device,\n",
    "    optimizer,\n",
    "    max_epochs,\n",
    "    train_dataloader,\n",
    "    val_dataloader,\n",
    ")"
   ]
  },
  {
   "cell_type": "markdown",
   "metadata": {
    "cell_ktag": "igvw2CQ9lmSp",
    "id": "2sGc5g7Xmap2"
   },
   "source": [
    "Let's evaluate the performance of this basic model"
   ]
  },
  {
   "cell_type": "code",
   "execution_count": 8,
   "metadata": {
    "cell_ktag": "igvw2CQ9lmSp",
    "colab": {
     "base_uri": "https://localhost:8080/",
     "height": 354
    },
    "id": "ztfbbg2TNP7F",
    "outputId": "06c3c0c7-2ceb-4cee-a4d7-a654fa127a57"
   },
   "outputs": [
    {
     "name": "stdout",
     "output_type": "stream",
     "text": [
      "Basic Model : F1-Score on the test set: 0.6675\n"
     ]
    },
    {
     "data": {
      "image/png": "[encoded data removed]",
      "text/plain": [
       "<Figure size 1000x500 with 1 Axes>"
      ]
     },
     "metadata": {},
     "output_type": "display_data"
    }
   ],
   "source": [
    "### F1-SCORE ON TEST DATASET\n",
    "score_test = evaluate(basic_model, loss_fcn, device, test_dataloader)\n",
    "print(\"Basic Model : F1-Score on the test set: {:.4f}\".format(score_test))\n",
    "\n",
    "\n",
    "### PLOT EVOLUTION OF F1-SCORE W.R.T EPOCHS\n",
    "def plot_f1_score(epoch_list, scores):\n",
    "    plt.figure(figsize=[10, 5])\n",
    "    plt.plot(epoch_list, scores)\n",
    "    plt.title(\"Evolution of F1S-Score w.r.t epochs\")\n",
    "    plt.ylim([0.0, 1.0])\n",
    "    plt.show()\n",
    "\n",
    "\n",
    "plot_f1_score(epoch_list, basic_model_scores)"
   ]
  },
  {
   "cell_type": "markdown",
   "metadata": {
    "cell_ktag": "igvw2CQ9lmSp",
    "id": "TRVsy5vLnWm_"
   },
   "source": [
    "### Define a better model\n",
    "\n",
    "Now, it's your turn to improve this basic model ! To do so, complete whenever ###### YOUR ANSWER ######## and run the two following cells.\n",
    "\n",
    "**HINT :** https://arxiv.org/pdf/1710.10903.pdf"
   ]
  },
  {
   "cell_type": "code",
   "execution_count": 9,
   "metadata": {
    "cell_ktag": "igvw2CQ9lmSp",
    "id": "qTo7PxFpRHzL"
   },
   "outputs": [
    {
     "data": {
      "text/plain": [
       "'      \\n  def forward(self, x, edge_index):\\n    # x, edge_index, batch = graph_batch.x, graph_batch.edge_index, graph_batch.batch\\n    # 1st layer\\n    x = F.elu(self.conv1(x, edge_index))\\n    x = F.dropout(x, p=self.dropout, training=self.training)\\n    # 2nd layer\\n    x = F.elu(self.conv2(x, edge_index))\\n    x = F.dropout(x, p=self.dropout, training=self.training)\\n    # 3rd layer\\n    x = self.conv3(x, edge_index)\\n    x = 2*F.sigmoid(x)-1\\n\\n    return x\\n      ####### YOUR ANSWER #######'"
      ]
     },
     "execution_count": 9,
     "metadata": {},
     "output_type": "execute_result"
    }
   ],
   "source": [
    "from torch_geometric.nn import GAT, GATv2Conv\n",
    "import torch.nn.functional as F\n",
    "\n",
    "class StudentModel(nn.Module):\n",
    "  # def __init__(self, input_size, hidden_size, output_size):\n",
    "  def __init__(self, num_node_features=50, nhid = 256, nout = n_classes, num_layers = 3, dropout=0.0, alpha=0.2):\n",
    "        # super(GAT, self).__init__()\n",
    "        super().__init__()\n",
    "        self.num_layers = num_layers\n",
    "        self.dropout = dropout\n",
    "        self.conv1 = GATv2Conv(num_node_features, nhid, heads=4, dropout=dropout, concat=True, negative_slope=alpha)\n",
    "        self.conv2 = GATv2Conv(nhid * 4, nhid, heads=4, dropout=dropout, concat=True, negative_slope=alpha)  \n",
    "        self.conv3 = GATv2Conv(nhid * 4, nhid, heads=6, dropout=dropout, concat=True, negative_slope=alpha)\n",
    "        # since we set concat=False on the last layer, we perform averaging over the 6 attention heads' output\n",
    "        # We can see in the parameters table below we have the right output shape\n",
    "        self.final_post_process = nn.Linear(nhid*6, nout)\n",
    "\n",
    "  def forward(self, x, edge_index):\n",
    "        # 1st layer\n",
    "        x1 = F.elu(self.conv1(x, edge_index))\n",
    "        x1 = F.dropout(x1, p=self.dropout, training=self.training)\n",
    "        # 2nd layer\n",
    "        x2 = F.elu(self.conv2(x1, edge_index))\n",
    "        x2 = F.dropout(x2, p=self.dropout, training=self.training)\n",
    "        # Apply residual connection across the second GAT layer\n",
    "        # x2 += x1  # Add the output of the first layer to the output of the second layer\n",
    "        # 3rd layer\n",
    "        x3 = self.conv3(x2, edge_index)\n",
    "        # x = F.normalize(x, p=2, dim=-1)\n",
    "        # x = global_mean_pool(x, batch)\n",
    "        x4 = self.final_post_process(x3)\n",
    "        x4 = 2 * F.sigmoid(x4) - 1\n",
    "        return x4\n",
    "\"\"\"      \n",
    "  def forward(self, x, edge_index):\n",
    "    # x, edge_index, batch = graph_batch.x, graph_batch.edge_index, graph_batch.batch\n",
    "    # 1st layer\n",
    "    x = F.elu(self.conv1(x, edge_index))\n",
    "    x = F.dropout(x, p=self.dropout, training=self.training)\n",
    "    # 2nd layer\n",
    "    x = F.elu(self.conv2(x, edge_index))\n",
    "    x = F.dropout(x, p=self.dropout, training=self.training)\n",
    "    # 3rd layer\n",
    "    x = self.conv3(x, edge_index)\n",
    "    x = 2*F.sigmoid(x)-1\n",
    "\n",
    "    return x\n",
    "      ####### YOUR ANSWER #######\"\"\"\n"
   ]
  },
  {
   "cell_type": "markdown",
   "metadata": {},
   "source": [
    "Here we use the sigmoid (transformed to take values in (-1,1) as discussed above) activation for the output layer as is advised by https://www.geeksforgeeks.org/multiclass-classification-vs-multi-label-classification/ since it acts indepently on all labels. The softmax would act on all labels but this is not what we want since each node can belong to multiple classes."
   ]
  },
  {
   "cell_type": "markdown",
   "metadata": {},
   "source": [
    "Other code attempt from https://nn.labml.ai/graphs/gatv2/index.html that should be SOTA on the PPI dataset according to https://paperswithcode.com/sota/node-classification-on-ppi."
   ]
  },
  {
   "cell_type": "markdown",
   "metadata": {
    "cell_ktag": "igvw2CQ9lmSp",
    "id": "4yGdQ2uxpCAX"
   },
   "source": [
    "Let's train your model !"
   ]
  },
  {
   "cell_type": "code",
   "execution_count": 10,
   "metadata": {},
   "outputs": [],
   "source": [
    "## Student model\n",
    "student_model = StudentModel().to(device)"
   ]
  },
  {
   "cell_type": "code",
   "execution_count": 11,
   "metadata": {},
   "outputs": [],
   "source": [
    "from prettytable import PrettyTable\n",
    "\n",
    "def count_parameters(model):\n",
    "    table = PrettyTable([\"Modules\", \"Parameters\"])\n",
    "    total_params = 0\n",
    "    for name, parameter in model.named_parameters():\n",
    "        if not parameter.requires_grad:\n",
    "            continue\n",
    "        params = parameter.numel()\n",
    "        table.add_row([name, params])\n",
    "        total_params += params\n",
    "    print(table)\n",
    "    print(f\"Total Trainable Params: {total_params}\")\n",
    "    return total_params"
   ]
  },
  {
   "cell_type": "code",
   "execution_count": 12,
   "metadata": {},
   "outputs": [
    {
     "name": "stdout",
     "output_type": "stream",
     "text": [
      "+---------------------------+------------+\n",
      "|          Modules          | Parameters |\n",
      "+---------------------------+------------+\n",
      "|         conv1.att         |    1024    |\n",
      "|         conv1.bias        |    1024    |\n",
      "|     conv1.lin_l.weight    |   51200    |\n",
      "|      conv1.lin_l.bias     |    1024    |\n",
      "|     conv1.lin_r.weight    |   51200    |\n",
      "|      conv1.lin_r.bias     |    1024    |\n",
      "|         conv2.att         |    1024    |\n",
      "|         conv2.bias        |    1024    |\n",
      "|     conv2.lin_l.weight    |  1048576   |\n",
      "|      conv2.lin_l.bias     |    1024    |\n",
      "|     conv2.lin_r.weight    |  1048576   |\n",
      "|      conv2.lin_r.bias     |    1024    |\n",
      "|         conv3.att         |    1536    |\n",
      "|         conv3.bias        |    1536    |\n",
      "|     conv3.lin_l.weight    |  1572864   |\n",
      "|      conv3.lin_l.bias     |    1536    |\n",
      "|     conv3.lin_r.weight    |  1572864   |\n",
      "|      conv3.lin_r.bias     |    1536    |\n",
      "| final_post_process.weight |   185856   |\n",
      "|  final_post_process.bias  |    121     |\n",
      "+---------------------------+------------+\n",
      "Total Trainable Params: 5545593\n"
     ]
    },
    {
     "data": {
      "text/plain": [
       "5545593"
      ]
     },
     "execution_count": 12,
     "metadata": {},
     "output_type": "execute_result"
    }
   ],
   "source": [
    "count_parameters(student_model)"
   ]
  },
  {
   "cell_type": "code",
   "execution_count": 13,
   "metadata": {
    "cell_ktag": "igvw2CQ9lmSp",
    "id": "6XIYzkYRo3AQ"
   },
   "outputs": [
    {
     "name": "stdout",
     "output_type": "stream",
     "text": [
      "Epoch 00001 | Loss: 0.5936\n",
      "F1-Score: 0.4160\n",
      "Epoch 00002 | Loss: 0.5828\n",
      "Epoch 00003 | Loss: 0.5828\n",
      "Epoch 00004 | Loss: 0.5828\n",
      "Epoch 00005 | Loss: 0.5829\n",
      "Epoch 00006 | Loss: 0.5829\n",
      "F1-Score: 0.4158\n",
      "Epoch 00007 | Loss: 0.5829\n",
      "Epoch 00008 | Loss: 0.5835\n",
      "Epoch 00009 | Loss: 0.5829\n",
      "Epoch 00010 | Loss: 0.5831\n",
      "Epoch 00011 | Loss: 0.5831\n",
      "F1-Score: 0.4159\n",
      "Epoch 00012 | Loss: 0.5838\n",
      "Epoch 00013 | Loss: 0.5835\n",
      "Epoch 00014 | Loss: 0.5835\n",
      "Epoch 00015 | Loss: 0.5835\n",
      "Epoch 00016 | Loss: 0.5835\n",
      "F1-Score: 0.4241\n",
      "Epoch 00017 | Loss: 0.5835\n",
      "Epoch 00018 | Loss: 0.5835\n",
      "Epoch 00019 | Loss: 0.5835\n",
      "Epoch 00020 | Loss: 0.5835\n",
      "Epoch 00021 | Loss: 0.5835\n",
      "F1-Score: 0.4241\n",
      "Epoch 00022 | Loss: 0.5835\n",
      "Epoch 00023 | Loss: 0.5835\n",
      "Epoch 00024 | Loss: 0.5835\n",
      "Epoch 00025 | Loss: 0.5835\n",
      "Epoch 00026 | Loss: 0.5835\n",
      "F1-Score: 0.4241\n",
      "Epoch 00027 | Loss: 0.5835\n",
      "Epoch 00028 | Loss: 0.5835\n",
      "Epoch 00029 | Loss: 0.5835\n",
      "Epoch 00030 | Loss: 0.5835\n",
      "Epoch 00031 | Loss: 0.5835\n",
      "F1-Score: 0.4241\n",
      "Epoch 00032 | Loss: 0.5835\n",
      "Epoch 00033 | Loss: 0.5835\n",
      "Epoch 00034 | Loss: 0.5835\n",
      "Epoch 00035 | Loss: 0.5835\n",
      "Epoch 00036 | Loss: 0.5835\n",
      "F1-Score: 0.4241\n",
      "Epoch 00037 | Loss: 0.5835\n",
      "Epoch 00038 | Loss: 0.5835\n",
      "Epoch 00039 | Loss: 0.5835\n",
      "Epoch 00040 | Loss: 0.5835\n",
      "Epoch 00041 | Loss: 0.5835\n",
      "F1-Score: 0.4241\n",
      "Epoch 00042 | Loss: 0.5835\n",
      "Epoch 00043 | Loss: 0.5835\n",
      "Epoch 00044 | Loss: 0.5835\n",
      "Epoch 00045 | Loss: 0.5835\n",
      "Epoch 00046 | Loss: 0.5835\n",
      "F1-Score: 0.4241\n",
      "Epoch 00047 | Loss: 0.5835\n",
      "Epoch 00048 | Loss: 0.5835\n",
      "Epoch 00049 | Loss: 0.5835\n",
      "Epoch 00050 | Loss: 0.5835\n",
      "Epoch 00051 | Loss: 0.5835\n",
      "F1-Score: 0.4241\n",
      "Epoch 00052 | Loss: 0.5835\n",
      "Epoch 00053 | Loss: 0.5835\n",
      "Epoch 00054 | Loss: 0.5835\n",
      "Epoch 00055 | Loss: 0.5835\n",
      "Epoch 00056 | Loss: 0.5835\n",
      "F1-Score: 0.4241\n",
      "Epoch 00057 | Loss: 0.5835\n",
      "Epoch 00058 | Loss: 0.5835\n",
      "Epoch 00059 | Loss: 0.5835\n",
      "Epoch 00060 | Loss: 0.5835\n",
      "Epoch 00061 | Loss: 0.5835\n",
      "F1-Score: 0.4241\n",
      "Epoch 00062 | Loss: 0.5835\n",
      "Epoch 00063 | Loss: 0.5835\n",
      "Epoch 00064 | Loss: 0.5835\n",
      "Epoch 00065 | Loss: 0.5835\n",
      "Epoch 00066 | Loss: 0.5835\n",
      "F1-Score: 0.4241\n",
      "Epoch 00067 | Loss: 0.5835\n",
      "Epoch 00068 | Loss: 0.5835\n",
      "Epoch 00069 | Loss: 0.5835\n",
      "Epoch 00070 | Loss: 0.5835\n",
      "Epoch 00071 | Loss: 0.5835\n",
      "F1-Score: 0.4241\n",
      "Epoch 00072 | Loss: 0.5835\n",
      "Epoch 00073 | Loss: 0.5835\n",
      "Epoch 00074 | Loss: 0.5835\n",
      "Epoch 00075 | Loss: 0.5835\n",
      "Epoch 00076 | Loss: 0.5835\n",
      "F1-Score: 0.4241\n",
      "Epoch 00077 | Loss: 0.5835\n",
      "Epoch 00078 | Loss: 0.5835\n",
      "Epoch 00079 | Loss: 0.5835\n",
      "Epoch 00080 | Loss: 0.5835\n",
      "Epoch 00081 | Loss: 0.5835\n",
      "F1-Score: 0.4241\n",
      "Epoch 00082 | Loss: 0.5835\n",
      "Epoch 00083 | Loss: 0.5835\n",
      "Epoch 00084 | Loss: 0.5835\n",
      "Epoch 00085 | Loss: 0.5835\n",
      "Epoch 00086 | Loss: 0.5835\n",
      "F1-Score: 0.4241\n",
      "Epoch 00087 | Loss: 0.5835\n",
      "Epoch 00088 | Loss: 0.5835\n",
      "Epoch 00089 | Loss: 0.5835\n",
      "Epoch 00090 | Loss: 0.5835\n",
      "Epoch 00091 | Loss: 0.5835\n",
      "F1-Score: 0.4241\n",
      "Epoch 00092 | Loss: 0.5835\n",
      "Epoch 00093 | Loss: 0.5835\n",
      "Epoch 00094 | Loss: 0.5835\n",
      "Epoch 00095 | Loss: 0.5835\n",
      "Epoch 00096 | Loss: 0.5835\n",
      "F1-Score: 0.4241\n",
      "Epoch 00097 | Loss: 0.5835\n",
      "Epoch 00098 | Loss: 0.5835\n",
      "Epoch 00099 | Loss: 0.5835\n",
      "Epoch 00100 | Loss: 0.5835\n",
      "Epoch 00101 | Loss: 0.5835\n",
      "F1-Score: 0.4241\n",
      "Epoch 00102 | Loss: 0.5835\n",
      "Epoch 00103 | Loss: 0.5835\n",
      "Epoch 00104 | Loss: 0.5835\n",
      "Epoch 00105 | Loss: 0.5835\n",
      "Epoch 00106 | Loss: 0.5835\n",
      "F1-Score: 0.4241\n",
      "Epoch 00107 | Loss: 0.5835\n",
      "Epoch 00108 | Loss: 0.5835\n",
      "Epoch 00109 | Loss: 0.5835\n",
      "Epoch 00110 | Loss: 0.5835\n",
      "Epoch 00111 | Loss: 0.5835\n",
      "F1-Score: 0.4241\n",
      "Epoch 00112 | Loss: 0.5835\n",
      "Epoch 00113 | Loss: 0.5835\n",
      "Epoch 00114 | Loss: 0.5835\n",
      "Epoch 00115 | Loss: 0.5835\n",
      "Epoch 00116 | Loss: 0.5835\n",
      "F1-Score: 0.4241\n",
      "Epoch 00117 | Loss: 0.5835\n",
      "Epoch 00118 | Loss: 0.5835\n",
      "Epoch 00119 | Loss: 0.5835\n",
      "Epoch 00120 | Loss: 0.5835\n",
      "Epoch 00121 | Loss: 0.5835\n",
      "F1-Score: 0.4241\n",
      "Epoch 00122 | Loss: 0.5835\n",
      "Epoch 00123 | Loss: 0.5835\n",
      "Epoch 00124 | Loss: 0.5835\n",
      "Epoch 00125 | Loss: 0.5835\n",
      "Epoch 00126 | Loss: 0.5835\n",
      "F1-Score: 0.4241\n",
      "Epoch 00127 | Loss: 0.5835\n",
      "Epoch 00128 | Loss: 0.5835\n",
      "Epoch 00129 | Loss: 0.5835\n",
      "Epoch 00130 | Loss: 0.5835\n",
      "Epoch 00131 | Loss: 0.5835\n",
      "F1-Score: 0.4241\n",
      "Epoch 00132 | Loss: 0.5835\n",
      "Epoch 00133 | Loss: 0.5835\n",
      "Epoch 00134 | Loss: 0.5835\n",
      "Epoch 00135 | Loss: 0.5835\n",
      "Epoch 00136 | Loss: 0.5835\n",
      "F1-Score: 0.4241\n",
      "Epoch 00137 | Loss: 0.5835\n",
      "Epoch 00138 | Loss: 0.5835\n",
      "Epoch 00139 | Loss: 0.5835\n",
      "Epoch 00140 | Loss: 0.5835\n",
      "Epoch 00141 | Loss: 0.5835\n",
      "F1-Score: 0.4241\n",
      "Epoch 00142 | Loss: 0.5835\n",
      "Epoch 00143 | Loss: 0.5835\n",
      "Epoch 00144 | Loss: 0.5835\n",
      "Epoch 00145 | Loss: 0.5835\n",
      "Epoch 00146 | Loss: 0.5835\n",
      "F1-Score: 0.4241\n",
      "Epoch 00147 | Loss: 0.5835\n",
      "Epoch 00148 | Loss: 0.5835\n",
      "Epoch 00149 | Loss: 0.5835\n",
      "Epoch 00150 | Loss: 0.5835\n",
      "Epoch 00151 | Loss: 0.5835\n",
      "F1-Score: 0.4241\n",
      "Epoch 00152 | Loss: 0.5835\n",
      "Epoch 00153 | Loss: 0.5835\n",
      "Epoch 00154 | Loss: 0.5835\n",
      "Epoch 00155 | Loss: 0.5835\n",
      "Epoch 00156 | Loss: 0.5835\n",
      "F1-Score: 0.4241\n",
      "Epoch 00157 | Loss: 0.5835\n",
      "Epoch 00158 | Loss: 0.5835\n",
      "Epoch 00159 | Loss: 0.5835\n",
      "Epoch 00160 | Loss: 0.5835\n",
      "Epoch 00161 | Loss: 0.5835\n",
      "F1-Score: 0.4241\n",
      "Epoch 00162 | Loss: 0.5835\n",
      "Epoch 00163 | Loss: 0.5835\n",
      "Epoch 00164 | Loss: 0.5835\n",
      "Epoch 00165 | Loss: 0.5835\n",
      "Epoch 00166 | Loss: 0.5835\n",
      "F1-Score: 0.4241\n",
      "Epoch 00167 | Loss: 0.5835\n",
      "Epoch 00168 | Loss: 0.5835\n",
      "Epoch 00169 | Loss: 0.5835\n",
      "Epoch 00170 | Loss: 0.5835\n",
      "Epoch 00171 | Loss: 0.5835\n",
      "F1-Score: 0.4241\n",
      "Epoch 00172 | Loss: 0.5835\n",
      "Epoch 00173 | Loss: 0.5835\n",
      "Epoch 00174 | Loss: 0.5835\n",
      "Epoch 00175 | Loss: 0.5835\n",
      "Epoch 00176 | Loss: 0.5835\n",
      "F1-Score: 0.4241\n",
      "Epoch 00177 | Loss: 0.5835\n",
      "Epoch 00178 | Loss: 0.5835\n",
      "Epoch 00179 | Loss: 0.5835\n",
      "Epoch 00180 | Loss: 0.5835\n",
      "Epoch 00181 | Loss: 0.5835\n",
      "F1-Score: 0.4241\n",
      "Epoch 00182 | Loss: 0.5835\n",
      "Epoch 00183 | Loss: 0.5835\n",
      "Epoch 00184 | Loss: 0.5835\n",
      "Epoch 00185 | Loss: 0.5835\n",
      "Epoch 00186 | Loss: 0.5835\n",
      "F1-Score: 0.4241\n",
      "Epoch 00187 | Loss: 0.5835\n",
      "Epoch 00188 | Loss: 0.5835\n",
      "Epoch 00189 | Loss: 0.5835\n",
      "Epoch 00190 | Loss: 0.5835\n",
      "Epoch 00191 | Loss: 0.5835\n",
      "F1-Score: 0.4241\n",
      "Epoch 00192 | Loss: 0.5835\n",
      "Epoch 00193 | Loss: 0.5835\n",
      "Epoch 00194 | Loss: 0.5835\n",
      "Epoch 00195 | Loss: 0.5835\n",
      "Epoch 00196 | Loss: 0.5835\n",
      "F1-Score: 0.4241\n",
      "Epoch 00197 | Loss: 0.5835\n",
      "Epoch 00198 | Loss: 0.5835\n",
      "Epoch 00199 | Loss: 0.5835\n",
      "Epoch 00200 | Loss: 0.5835\n"
     ]
    }
   ],
   "source": [
    "### DEFINE LOSS FUNCTION AND OPTIMIZER\n",
    "optimizer = torch.optim.Adam(student_model.parameters(), lr=0.005)\n",
    "\n",
    "### TRAIN\n",
    "epoch_list, student_model_scores = train(student_model, loss_fcn, device, optimizer, max_epochs, train_dataloader, val_dataloader)"
   ]
  },
  {
   "cell_type": "markdown",
   "metadata": {
    "cell_ktag": "igvw2CQ9lmSp",
    "id": "aWatNTPBpQGY"
   },
   "source": [
    "Let's evaluate the performance of your model"
   ]
  },
  {
   "cell_type": "code",
   "execution_count": 14,
   "metadata": {
    "cell_ktag": "igvw2CQ9lmSp",
    "id": "WFWMqwDuSj7b"
   },
   "outputs": [
    {
     "name": "stdout",
     "output_type": "stream",
     "text": [
      "Student Model : F1-Score on the test set: 0.4249\n"
     ]
    },
    {
     "data": {
      "image/png": "[encoded data removed]",
      "text/plain": [
       "<Figure size 1000x500 with 1 Axes>"
      ]
     },
     "metadata": {},
     "output_type": "display_data"
    }
   ],
   "source": [
    "score_test = evaluate(student_model, loss_fcn, device, test_dataloader)\n",
    "print(\"Student Model : F1-Score on the test set: {:.4f}\".format(score_test))\n",
    "\n",
    "\n",
    "def plot_f1_score(epoch_list, basic_model_scores, student_model_scores):\n",
    "    plt.figure(figsize=[10, 5])\n",
    "    plt.plot(epoch_list, basic_model_scores, \"b\", label=\"Basic Model\")\n",
    "    plt.plot(epoch_list, student_model_scores, \"r\", label=\"Student Model\")\n",
    "    plt.title(\"Evolution of f1 score w.r.t epochs\")\n",
    "    plt.ylim([0.0, 1.0])\n",
    "    plt.ylabel(\"Epochs\")\n",
    "    plt.xlabel(\"F1-Score\")\n",
    "    plt.legend()\n",
    "    plt.show()\n",
    "\n",
    "\n",
    "plot_f1_score(epoch_list, basic_model_scores, student_model_scores)"
   ]
  },
  {
   "cell_type": "markdown",
   "metadata": {
    "cell_ktag": "igvw2CQ9lmSp",
    "id": "i9aVEYkuR3fp"
   },
   "source": [
    "## **PART 2 : QUESTIONS** (12/20)"
   ]
  },
  {
   "cell_type": "markdown",
   "metadata": {
    "cell_ktag": "igvw2CQ9lmSp",
    "id": "vZ-r6AWtR-Co"
   },
   "source": [
    "**1. Make a small paragraph that : (4pts)**\n",
    "1. Explains your achitecture and justify your choices (why the Graph Layer you chose is more efficient than the GCNLayer from the Basic Model?).\n",
    "2. Analyses your results (what is the F1-Score ? are your results convincing ? what is your position w.r.t state-of-the-art ?)."
   ]
  },
  {
   "cell_type": "code",
   "execution_count": 15,
   "metadata": {
    "cell_ktag": "igvw2CQ9lmSp"
   },
   "outputs": [],
   "source": [
    "# Your code goes here"
   ]
  },
  {
   "cell_type": "markdown",
   "metadata": {
    "cell_ktag": "igvw2CQ9lmSp"
   },
   "source": [
    ">Answer"
   ]
  },
  {
   "cell_type": "markdown",
   "metadata": {
    "cell_ktag": "igvw2CQ9lmSp"
   },
   "source": []
  },
  {
   "cell_type": "markdown",
   "metadata": {
    "cell_ktag": "igvw2CQ9lmSp",
    "id": "5HIVqG4u5jfc"
   },
   "source": [
    "**2. Provide a diagramm of your architecture, which includes a good and clear legend as well as shapes information. The diagramm must be submitted as an external file, along with this notebook (PDF, JEPG or PNG format accepted). (2pts)**"
   ]
  },
  {
   "cell_type": "markdown",
   "metadata": {
    "cell_ktag": "igvw2CQ9lmSp",
    "id": "crMHLjkJ5pxl"
   },
   "source": [
    "**3. Make a small paragraph that explains: (6pts)**\n",
    "1. What _oversmoothing_ is in the context of Graph Neural Network. Why is it an issue ? \n",
    "2. Are there solutions to overcome it ? \n",
    "3. Do you think the model you constructed is robust with respect to oversmoothing ? Why ?"
   ]
  },
  {
   "cell_type": "markdown",
   "metadata": {
    "cell_ktag": "igvw2CQ9lmSp",
    "id": "QLPosSov_uPK"
   },
   "source": [
    "> Answer"
   ]
  },
  {
   "cell_type": "markdown",
   "metadata": {
    "cell_ktag": "igvw2CQ9lmSp"
   },
   "source": []
  }
 ],
 "metadata": {
  "accelerator": "GPU",
  "colab": {
   "provenance": []
  },
  "gpuClass": "standard",
  "kernelspec": {
   "display_name": "Python 3",
   "language": "python",
   "name": "python3"
  },
  "kfiletag": "igvw2CQ9lmSp",
  "language_info": {
   "codemirror_mode": {
    "name": "ipython",
    "version": 3
   },
   "file_extension": ".py",
   "mimetype": "text/x-python",
   "name": "python",
   "nbconvert_exporter": "python",
   "pygments_lexer": "ipython3",
   "version": "3.11.5"
  }
 },
 "nbformat": 4,
 "nbformat_minor": 1
}
